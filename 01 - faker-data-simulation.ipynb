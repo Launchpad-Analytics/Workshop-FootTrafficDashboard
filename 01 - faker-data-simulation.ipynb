{
 "cells": [
  {
   "attachments": {},
   "cell_type": "markdown",
   "metadata": {},
   "source": [
    "# Simulating Foot-Traffic Data With Faker\n",
    "\n",
    "Faker is a Python package that allows you to generate fake data such as names, addresses, and phone numbers. It can be useful for generating test data for applications, populating databases with fake information, or anonymizing sensitive data. The package uses various localized data sources, such as lists of names and addresses specific to different countries, to generate the fake data. It also allows you to customize the generated data to a certain extent, for example, specifying the format of a phone number or the gender of a name."
   ]
  },
  {
   "attachments": {},
   "cell_type": "markdown",
   "metadata": {},
   "source": [
    "## Importing the Faker package"
   ]
  },
  {
   "cell_type": "code",
   "execution_count": null,
   "metadata": {},
   "outputs": [],
   "source": [
    "from faker import Faker\n",
    "\n",
    "fake = Faker()"
   ]
  },
  {
   "attachments": {},
   "cell_type": "markdown",
   "metadata": {},
   "source": [
    "Once the `fake` object has been initialized, we can use it to generate data values from dozens of categories, called \"providers\". You can find the full list of providers in the Faker [documentation](https://faker.readthedocs.io/en/master/providers.html)."
   ]
  },
  {
   "cell_type": "code",
   "execution_count": null,
   "metadata": {},
   "outputs": [],
   "source": [
    "# generate a fake name\n",
    "print(fake.name())\n",
    "\n",
    "#generate male and female names\n",
    "print([fake.first_name_female(), fake.first_name_male()])\n",
    "\n",
    "#generate a random date\n",
    "print(fake.date())\n",
    "\n",
    "#generate a realistic birthdate\n",
    "print(fake.date_of_birth(minimum_age=13, maximum_age=100))\n",
    "\n",
    "#generate fake address\n",
    "print(fake.address())\n",
    "\n",
    "#generate fake user profile data\n",
    "print(fake.profile())"
   ]
  },
  {
   "attachments": {},
   "cell_type": "markdown",
   "metadata": {},
   "source": [
    "## Using Faker to create the `stores` table\n",
    "\n",
    "The `stores` table will be used to track the different store locations throughout the country, including their coordinates, city, and state. We want this data to be as realistic as possible so that we can map them later in the workshop, so we will be using the `Nominatim` package from the `geopy` library to..."
   ]
  },
  {
   "attachments": {},
   "cell_type": "markdown",
   "metadata": {},
   "source": [
    "Create the `generate_store()` function"
   ]
  },
  {
   "cell_type": "code",
   "execution_count": null,
   "metadata": {},
   "outputs": [],
   "source": [
    "fake.local_latlng()"
   ]
  },
  {
   "cell_type": "code",
   "execution_count": null,
   "metadata": {},
   "outputs": [],
   "source": [
    "from geopy import Nominatim\n",
    "\n",
    "locator = Nominatim(user_agent='myGeocoder')\n",
    "\n",
    "def generate_store():\n",
    "    \n",
    "    coords = fake.local_latlng(country_code=\"US\")\n",
    "    location = locator.reverse(coords[:2]).raw\n",
    "    \n",
    "    try:\n",
    "        city_town = location[\"address\"][\"city\"]\n",
    "    except:\n",
    "        try:\n",
    "            city_town = location[\"address\"][\"town\"]\n",
    "        except:\n",
    "            city_town = location[\"address\"][\"county\"]\n",
    "    \n",
    "        \n",
    "    \n",
    "    store = {\n",
    "        \"store_id\": fake.pyint(),\n",
    "        \"opened_date\": str(fake.date_this_century()),\n",
    "        \"latitude\": coords[0],\n",
    "        \"longitude\": coords[1],\n",
    "        \"store_address\": \" \".join([str(fake.pyint()), location[\"address\"][\"road\"]]),\n",
    "        \"city\": city_town,\n",
    "        \"state\": location[\"address\"][\"state\"]\n",
    "    }\n",
    "    \n",
    "    return store\n",
    "\n",
    "generate_store()"
   ]
  },
  {
   "attachments": {},
   "cell_type": "markdown",
   "metadata": {},
   "source": [
    "Create `generate_stores()` function"
   ]
  },
  {
   "cell_type": "code",
   "execution_count": null,
   "metadata": {},
   "outputs": [],
   "source": [
    "import pandas as pd\n",
    "\n",
    "def generate_stores(num_stores):\n",
    "    \n",
    "    stores = [generate_store() for i in range(num_stores)]\n",
    "    \n",
    "    return pd.DataFrame(stores)\n",
    "\n",
    "generate_stores(5)"
   ]
  },
  {
   "attachments": {},
   "cell_type": "markdown",
   "metadata": {},
   "source": [
    "Create table of 50 stores"
   ]
  },
  {
   "cell_type": "code",
   "execution_count": null,
   "metadata": {},
   "outputs": [],
   "source": [
    "stores = generate_stores(50) #if you get a KeyError, run this cell again"
   ]
  },
  {
   "attachments": {},
   "cell_type": "markdown",
   "metadata": {},
   "source": [
    "map newly generated store locations"
   ]
  },
  {
   "cell_type": "code",
   "execution_count": null,
   "metadata": {},
   "outputs": [],
   "source": [
    "import folium\n",
    "\n",
    "m = folium.Map(location=[39.8283, -98.5795], zoom_start=4)\n",
    "\n",
    "for x,y in stores.iterrows():\n",
    "    folium.Marker(location=[y.latitude, y.longitude], radius=5, tooltip=f\"{y.city}, {y.state}\").add_to(m)\n",
    "\n",
    "m"
   ]
  },
  {
   "attachments": {},
   "cell_type": "markdown",
   "metadata": {},
   "source": [
    "### Exercise: \n",
    "\n",
    "#### Part 1\n",
    "create the function `generate_customer()` that will generate a dictionary of customer data with the following attributes:\n",
    "\n",
    "```\n",
    "customer_id\n",
    "customer_name\n",
    "customer_birthday\n",
    "customer_email\n",
    "is_member\n",
    "card_on_file\n",
    "```\n",
    "\n",
    "#### Part 2\n",
    "Generate a CSV file containing 1500 customer records. Name the file `customers.csv`.\n",
    "\n",
    "\n",
    "------\n",
    "You can look through the Faker [documentation](https://faker.readthedocs.io/en/master/providers.html) to help you.\n"
   ]
  },
  {
   "cell_type": "code",
   "execution_count": null,
   "metadata": {},
   "outputs": [],
   "source": [
    "def generate_customer():\n",
    "    \n",
    "    customer = {\n",
    "        \"customer_id\": fake.uuid4().split(\"-\")[0],\n",
    "        \"customer_name\": fake.name(),\n",
    "        \"customer_birthday\": fake.date_of_birth(minimum_age=13, maximum_age=110),\n",
    "        \"customer_email\": fake.email(),\n",
    "        \"is_member\": fake.boolean(),\n",
    "        \"card_on_file\": fake.credit_card_provider()\n",
    "        \n",
    "    }\n",
    "    \n",
    "    return customer\n",
    "\n",
    "generate_customer()"
   ]
  },
  {
   "cell_type": "code",
   "execution_count": null,
   "metadata": {},
   "outputs": [],
   "source": [
    "def generate_customers(num_customers):\n",
    "    \n",
    "    customers = [generate_customer() for i in range(num_customers)]\n",
    "    \n",
    "    return pd.DataFrame(customers)\n",
    "\n",
    "generate_customers(5)"
   ]
  },
  {
   "cell_type": "code",
   "execution_count": null,
   "metadata": {},
   "outputs": [],
   "source": [
    "customers = generate_customers(500)\n",
    "customers.describe()"
   ]
  },
  {
   "attachments": {},
   "cell_type": "markdown",
   "metadata": {},
   "source": [
    "Create the `generate_visits()` function"
   ]
  },
  {
   "cell_type": "code",
   "execution_count": null,
   "metadata": {},
   "outputs": [],
   "source": [
    "import random\n",
    "\n",
    "def generate_visit(store_df, customer_df, visit_date=\"01-01-2022\"):\n",
    "    \n",
    "    visit = {\n",
    "        \"visit_id\": str(fake.uuid4().split(\"-\")[0]),\n",
    "        \"visit_date\": visit_date,\n",
    "        \"store_id\": store_df.sample().store_id.values[0],\n",
    "        \"customer_id\": customer_df.sample().customer_id.values[0],\n",
    "        \"order_total\": round(random.random() * random.choice([10, 100, 500, 1000]), 2),\n",
    "        \"payment_method\": random.choice([\"cash\", \"credit\"]),\n",
    "    }\n",
    "    \n",
    "    return visit\n",
    "\n",
    "generate_visit(stores, customers)"
   ]
  },
  {
   "attachments": {},
   "cell_type": "markdown",
   "metadata": {},
   "source": [
    "Create `generate_visits()` function"
   ]
  },
  {
   "cell_type": "code",
   "execution_count": null,
   "metadata": {},
   "outputs": [],
   "source": [
    "def generate_visits(num_visits, store_df, customer_df, visit_date=\"01-01-2022\"):\n",
    "    \n",
    "    def generate_visit(store_df, customer_df, visit_date=visit_date):\n",
    "    \n",
    "        visit = {\n",
    "            \"visit_id\": str(fake.uuid4().split(\"-\")[0]),\n",
    "            \"visit_date\": visit_date,\n",
    "            \"store_id\": store_df.sample().store_id.values[0],\n",
    "            \"customer_id\": customer_df.sample().customer_id.values[0],\n",
    "            \"order_total\": round(random.random() * random.choice([10, 100, 500, 1000]), 2),\n",
    "            \"payment_method\": random.choice([\"cash\", \"credit\"]),\n",
    "        }\n",
    "        \n",
    "        return visit\n",
    "    \n",
    "    visits = pd.DataFrame([generate_visit(store_df, customer_df, ) for i in range(num_visits)])\n",
    "    \n",
    "    return visits\n",
    "\n",
    "generate_visits(5, stores, customers, visit_date=\"01-01-2022\")"
   ]
  },
  {
   "attachments": {},
   "cell_type": "markdown",
   "metadata": {},
   "source": [
    "## Use functions to create seed_data()"
   ]
  },
  {
   "cell_type": "code",
   "execution_count": null,
   "metadata": {},
   "outputs": [],
   "source": [
    "from pathlib import Path\n",
    "\n",
    "def seed_data(start_date, end_date, directory, num_stores, num_customers):\n",
    "    \n",
    "    Path(directory).mkdir(parents=True, exist_ok=True)\n",
    "    \n",
    "    stores = generate_stores(num_stores)\n",
    "    stores.to_csv(f\"{directory}/stores.csv\", index=False)\n",
    "    \n",
    "    customers = generate_customers(num_customers)\n",
    "    customers.to_csv(f\"{directory}/customers.csv\", index=False)\n",
    "    \n",
    "    visit_data = []\n",
    "    \n",
    "    for i in pd.date_range(start_date, end_date):\n",
    "        visits = generate_visits(random.randrange(1, 10000), stores, customers, visit_date=i)\n",
    "        visit_data.append(visits)\n",
    "    \n",
    "    pd.concat(visit_data).to_csv(f\"{directory}/visits.csv\", index=False)\n",
    "\n",
    "seed_data(\"01-01-2022\", \"06-01-2022\", \"data/db\", num_stores=50, num_customers=1500)\n",
    "    \n",
    "    "
   ]
  },
  {
   "attachments": {},
   "cell_type": "markdown",
   "metadata": {},
   "source": [
    "# BREAK - BACK TO WORKSHOP GUIDE"
   ]
  },
  {
   "attachments": {},
   "cell_type": "markdown",
   "metadata": {},
   "source": [
    "## Set up database for generated data\n",
    "\n",
    "https://pandas.pydata.org/docs/reference/api/pandas.DataFrame.to_sql.html"
   ]
  },
  {
   "cell_type": "code",
   "execution_count": null,
   "metadata": {},
   "outputs": [],
   "source": [
    "# only run this cell if you no longer have the the stores, customers, and variables dataframes in your environment\n",
    "import pandas as pd\n",
    "\n",
    "customers = pd.read_csv(\"data/db/customers.csv\")\n",
    "stores = pd.read_csv(\"data/db/stores.csv\")\n",
    "visits = pd.read_csv(\"data/db/visits.csv\")"
   ]
  },
  {
   "cell_type": "code",
   "execution_count": null,
   "metadata": {},
   "outputs": [],
   "source": [
    "from sqlalchemy import create_engine\n",
    "engine = create_engine('sqlite:///data.db', echo=False)\n",
    "\n",
    "customers.to_sql(\"customers\", con=engine, index=False)\n",
    "stores.to_sql(\"stores\", con=engine, index=False)\n",
    "visits.to_sql(\"visits\", con=engine, index=False)\n",
    "\n",
    "engine.dispose()"
   ]
  },
  {
   "cell_type": "code",
   "execution_count": null,
   "metadata": {},
   "outputs": [],
   "source": [
    "from sqlalchemy import text\n",
    "\n",
    "with engine.connect() as conn:\n",
    "    res = conn.execute(text(\"SELECT * FROM customers\")).fetchall()\n",
    "\n",
    "pd.DataFrame(res)"
   ]
  },
  {
   "attachments": {},
   "cell_type": "markdown",
   "metadata": {},
   "source": [
    "# Back to Workshop Guide - Create Live App"
   ]
  },
  {
   "attachments": {},
   "cell_type": "markdown",
   "metadata": {},
   "source": [
    "## Send new data to database"
   ]
  },
  {
   "cell_type": "code",
   "execution_count": null,
   "metadata": {},
   "outputs": [],
   "source": [
    "import time\n",
    "from sqlalchemy import create_engine\n",
    "import pandas as pd\n",
    "\n",
    "def generate_data(db_engine, start_date, end_date, time_delay=2):\n",
    "    with db_engine.connect() as conn:\n",
    "        customers = pd.read_sql(\"customers\", conn)\n",
    "        stores = pd.read_sql(\"stores\", conn)\n",
    "        \n",
    "        for i in pd.date_range(start_date, end_date):\n",
    "            visits = generate_visits(random.randrange(1, 10000), stores, customers, visit_date=i)\n",
    "            visits.to_sql(\"visits\", con=db_engine, if_exists='append', index=False)\n",
    "            print(f\"inserted {len(visits)} records from {str(i)}\")\n",
    "            print(\"---\")\n",
    "            time.sleep(time_delay)\n",
    "        \n",
    "\n",
    "engine = create_engine(\"sqlite:///data.db\", echo=False)\n",
    "generate_data(engine, \"2022-06-01\", \"2022-12-31\")"
   ]
  },
  {
   "cell_type": "code",
   "execution_count": null,
   "metadata": {},
   "outputs": [],
   "source": [
    "from sqlalchemy import text\n",
    "# engine = create_engine(\"sqlite:///data.db\", echo=False)\n",
    "with engine.connect() as conn:\n",
    "    test = conn.execute(text(\"SELECT * FROM visits\")).fetchall()\n",
    "\n",
    "len(test)"
   ]
  }
 ],
 "metadata": {
  "kernelspec": {
   "display_name": "faker",
   "language": "python",
   "name": "python3"
  },
  "language_info": {
   "codemirror_mode": {
    "name": "ipython",
    "version": 3
   },
   "file_extension": ".py",
   "mimetype": "text/x-python",
   "name": "python",
   "nbconvert_exporter": "python",
   "pygments_lexer": "ipython3",
   "version": "3.10.9"
  },
  "orig_nbformat": 4,
  "vscode": {
   "interpreter": {
    "hash": "9a4f3479c9598e5863976712972083c5957fb483a3a2393880d44ccc5a572475"
   }
  }
 },
 "nbformat": 4,
 "nbformat_minor": 2
}
