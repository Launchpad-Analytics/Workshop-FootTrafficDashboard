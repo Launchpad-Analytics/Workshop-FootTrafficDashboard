{
 "cells": [
  {
   "attachments": {},
   "cell_type": "markdown",
   "metadata": {},
   "source": [
    "# Foot Traffic Data Analysis"
   ]
  },
  {
   "cell_type": "code",
   "execution_count": null,
   "metadata": {},
   "outputs": [],
   "source": [
    "import numpy as np\n",
    "import pandas as pd\n",
    "\n",
    "import matplotlib.pyplot as plt\n",
    "import plotly.express as px"
   ]
  },
  {
   "attachments": {},
   "cell_type": "markdown",
   "metadata": {},
   "source": [
    "Reading in the data"
   ]
  },
  {
   "cell_type": "code",
   "execution_count": null,
   "metadata": {},
   "outputs": [],
   "source": [
    "stores = pd.read_csv(\"data/db/stores.csv\", dtype={\"store_id\":\"string\"})\n",
    "customers = pd.read_csv(\"data/db/customers.csv\", dtype={\"customer_id\":\"string\"})\n",
    "\n",
    "visits = pd.read_csv(\"data/db/visits.csv\", dtype={\"customer_id\":\"string\", \"store_id\":\"string\"})\\\n",
    "    .merge(stores, on=\"store_id\", how=\"left\")\\\n",
    "    .merge(customers, on=\"customer_id\", how=\"left\")\n",
    "\n",
    "visits[\"visit_date\"] = pd.to_datetime(visits[\"visit_date\"])\n",
    "\n",
    "display(stores.head())\n",
    "display(customers.head())\n",
    "display(visits.head())"
   ]
  },
  {
   "attachments": {},
   "cell_type": "markdown",
   "metadata": {},
   "source": [
    "## Calculating a time series of total visits by day"
   ]
  },
  {
   "cell_type": "code",
   "execution_count": null,
   "metadata": {},
   "outputs": [],
   "source": [
    "visits_by_day = visits.groupby(\"visit_date\").size()\\\n",
    "    .reset_index().rename(columns={0:\"visit_count\"})\n",
    "\n",
    "visits_by_day"
   ]
  },
  {
   "attachments": {},
   "cell_type": "markdown",
   "metadata": {},
   "source": [
    "### Resampling for 2-week averages"
   ]
  },
  {
   "cell_type": "code",
   "execution_count": null,
   "metadata": {},
   "outputs": [],
   "source": [
    "visits_by_day = visits.groupby(\"visit_date\").size().resample(\"2W\").mean()\\\n",
    "    .reset_index().rename(columns={0:\"visit_count\"})\n",
    "visits_by_day"
   ]
  },
  {
   "attachments": {},
   "cell_type": "markdown",
   "metadata": {},
   "source": [
    "### Plotting Time Series"
   ]
  },
  {
   "cell_type": "code",
   "execution_count": null,
   "metadata": {},
   "outputs": [],
   "source": [
    "visits_by_day.set_index(\"visit_date\").plot()"
   ]
  },
  {
   "attachments": {},
   "cell_type": "markdown",
   "metadata": {},
   "source": [
    "## Calculating Gold, Silver, and Bronze Member Tiers"
   ]
  },
  {
   "cell_type": "code",
   "execution_count": null,
   "metadata": {},
   "outputs": [],
   "source": [
    "members = visits[visits[\"is_member\"] == True]\n",
    "member_spend = members.groupby(\"customer_id\").sum()[\"order_total\"].reset_index()\n",
    "member_spend"
   ]
  },
  {
   "cell_type": "code",
   "execution_count": null,
   "metadata": {},
   "outputs": [],
   "source": [
    "member_spend[\"member_tier\"] = pd.qcut(member_spend[\"order_total\"], [0, 0.5, 0.90, 1], labels=[\"bronze\", \"silver\", \"gold\"])\n",
    "display(member_spend.head())\n",
    "display(member_spend[\"member_tier\"].value_counts())"
   ]
  },
  {
   "cell_type": "code",
   "execution_count": null,
   "metadata": {},
   "outputs": [],
   "source": [
    "visits = visits.merge(member_spend[[\"customer_id\", \"member_tier\"]], on=\"customer_id\", how=\"left\")\n",
    "visits[\"member_tier\"] = visits[\"member_tier\"].astype(\"string\").fillna(\"Nonmember\").astype(\"category\")\n",
    "visits.head()"
   ]
  },
  {
   "attachments": {},
   "cell_type": "markdown",
   "metadata": {},
   "source": [
    "### Visualizing Member Tiers"
   ]
  },
  {
   "cell_type": "code",
   "execution_count": null,
   "metadata": {},
   "outputs": [],
   "source": [
    "#pie chart\n",
    "member_pie = visits[\"member_tier\"].value_counts().reset_index().rename(columns={\"index\":\"member_tier\", \"member_tier\":\"count\"})\n",
    "member_pie"
   ]
  },
  {
   "cell_type": "code",
   "execution_count": null,
   "metadata": {},
   "outputs": [],
   "source": [
    "px.pie(member_pie, names=\"member_tier\", values=\"count\", hole=0.5)"
   ]
  },
  {
   "cell_type": "code",
   "execution_count": null,
   "metadata": {},
   "outputs": [],
   "source": [
    "members = visits[visits[\"is_member\"] == True]\n",
    "mtiers = members.groupby(\"customer_id\").sum()[\"order_total\"].reset_index()\n",
    "mtiers[\"membership_tier\"] = pd.qcut(mtiers[\"order_total\"], [0,0.5, 0.85, 0.95], labels=[\"bronze\", \"silver\", \"gold\"])\n",
    "df = visits.merge(mtiers[[\"customer_id\", \"membership_tier\"]], on=\"customer_id\", how=\"left\")\n",
    "df[\"membership_tier\"] = df[\"membership_tier\"].astype(\"string\").fillna(\"Nonmember\").astype(\"category\")\n",
    "df.groupby([\"visit_date\", \"membership_tier\"]).mean()[\"order_total\"].unstack()#.plot()"
   ]
  },
  {
   "cell_type": "code",
   "execution_count": null,
   "metadata": {},
   "outputs": [],
   "source": [
    "x = df[\"payment_method\"].value_counts().to_frame().reset_index()\n",
    "x.columns = [\"payment_method\", \"count\"]\n",
    "x\n",
    "\n",
    "px.pie(x, names='payment_method', values='count', hole=0.4)"
   ]
  }
 ],
 "metadata": {
  "kernelspec": {
   "display_name": "faker",
   "language": "python",
   "name": "python3"
  },
  "language_info": {
   "codemirror_mode": {
    "name": "ipython",
    "version": 3
   },
   "file_extension": ".py",
   "mimetype": "text/x-python",
   "name": "python",
   "nbconvert_exporter": "python",
   "pygments_lexer": "ipython3",
   "version": "3.10.9"
  },
  "orig_nbformat": 4,
  "vscode": {
   "interpreter": {
    "hash": "9a4f3479c9598e5863976712972083c5957fb483a3a2393880d44ccc5a572475"
   }
  }
 },
 "nbformat": 4,
 "nbformat_minor": 2
}
