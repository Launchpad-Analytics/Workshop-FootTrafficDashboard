{
 "cells": [
  {
   "attachments": {},
   "cell_type": "markdown",
   "metadata": {},
   "source": [
    "# Creating our Faker Script"
   ]
  },
  {
   "cell_type": "code",
   "execution_count": 1,
   "metadata": {},
   "outputs": [
    {
     "data": {
      "text/html": [
       "<div>\n",
       "<style scoped>\n",
       "    .dataframe tbody tr th:only-of-type {\n",
       "        vertical-align: middle;\n",
       "    }\n",
       "\n",
       "    .dataframe tbody tr th {\n",
       "        vertical-align: top;\n",
       "    }\n",
       "\n",
       "    .dataframe thead th {\n",
       "        text-align: right;\n",
       "    }\n",
       "</style>\n",
       "<table border=\"1\" class=\"dataframe\">\n",
       "  <thead>\n",
       "    <tr style=\"text-align: right;\">\n",
       "      <th></th>\n",
       "      <th>city</th>\n",
       "      <th>state_id</th>\n",
       "      <th>state_name</th>\n",
       "      <th>county_fips</th>\n",
       "      <th>county_name</th>\n",
       "      <th>lat</th>\n",
       "      <th>lng</th>\n",
       "      <th>population</th>\n",
       "      <th>density</th>\n",
       "    </tr>\n",
       "  </thead>\n",
       "  <tbody>\n",
       "    <tr>\n",
       "      <th>0</th>\n",
       "      <td>New York</td>\n",
       "      <td>NY</td>\n",
       "      <td>New York</td>\n",
       "      <td>36081</td>\n",
       "      <td>Queens</td>\n",
       "      <td>40.6943</td>\n",
       "      <td>-73.9249</td>\n",
       "      <td>18680025</td>\n",
       "      <td>10768.0</td>\n",
       "    </tr>\n",
       "    <tr>\n",
       "      <th>1</th>\n",
       "      <td>Los Angeles</td>\n",
       "      <td>CA</td>\n",
       "      <td>California</td>\n",
       "      <td>6037</td>\n",
       "      <td>Los Angeles</td>\n",
       "      <td>34.1141</td>\n",
       "      <td>-118.4068</td>\n",
       "      <td>12531334</td>\n",
       "      <td>3267.0</td>\n",
       "    </tr>\n",
       "    <tr>\n",
       "      <th>2</th>\n",
       "      <td>Chicago</td>\n",
       "      <td>IL</td>\n",
       "      <td>Illinois</td>\n",
       "      <td>17031</td>\n",
       "      <td>Cook</td>\n",
       "      <td>41.8375</td>\n",
       "      <td>-87.6866</td>\n",
       "      <td>8586888</td>\n",
       "      <td>4576.0</td>\n",
       "    </tr>\n",
       "    <tr>\n",
       "      <th>3</th>\n",
       "      <td>Miami</td>\n",
       "      <td>FL</td>\n",
       "      <td>Florida</td>\n",
       "      <td>12086</td>\n",
       "      <td>Miami-Dade</td>\n",
       "      <td>25.7840</td>\n",
       "      <td>-80.2101</td>\n",
       "      <td>6076316</td>\n",
       "      <td>4945.0</td>\n",
       "    </tr>\n",
       "    <tr>\n",
       "      <th>4</th>\n",
       "      <td>Dallas</td>\n",
       "      <td>TX</td>\n",
       "      <td>Texas</td>\n",
       "      <td>48113</td>\n",
       "      <td>Dallas</td>\n",
       "      <td>32.7935</td>\n",
       "      <td>-96.7667</td>\n",
       "      <td>5910669</td>\n",
       "      <td>1522.0</td>\n",
       "    </tr>\n",
       "  </tbody>\n",
       "</table>\n",
       "</div>"
      ],
      "text/plain": [
       "          city state_id  state_name  county_fips  county_name      lat  \\\n",
       "0     New York       NY    New York        36081       Queens  40.6943   \n",
       "1  Los Angeles       CA  California         6037  Los Angeles  34.1141   \n",
       "2      Chicago       IL    Illinois        17031         Cook  41.8375   \n",
       "3        Miami       FL     Florida        12086   Miami-Dade  25.7840   \n",
       "4       Dallas       TX       Texas        48113       Dallas  32.7935   \n",
       "\n",
       "        lng  population  density  \n",
       "0  -73.9249    18680025  10768.0  \n",
       "1 -118.4068    12531334   3267.0  \n",
       "2  -87.6866     8586888   4576.0  \n",
       "3  -80.2101     6076316   4945.0  \n",
       "4  -96.7667     5910669   1522.0  "
      ]
     },
     "execution_count": 1,
     "metadata": {},
     "output_type": "execute_result"
    }
   ],
   "source": [
    "import numpy as np\n",
    "import pandas as pd\n",
    "import random\n",
    "from pathlib import Path\n",
    "import time\n",
    "\n",
    "from faker import Faker\n",
    "fake = Faker()\n",
    "\n",
    "cities = pd.read_csv(\"data/uscities.csv\")\n",
    "cities.head()"
   ]
  },
  {
   "cell_type": "code",
   "execution_count": 132,
   "metadata": {},
   "outputs": [
    {
     "data": {
      "text/plain": [
       "{'store_id': 6583,\n",
       " 'store_address': '925 Collins Heights',\n",
       " 'city': 'Onward',\n",
       " 'state': 'IN',\n",
       " 'lat': 40.735168010477935,\n",
       " 'lon': -86.24009135202951}"
      ]
     },
     "execution_count": 132,
     "metadata": {},
     "output_type": "execute_result"
    }
   ],
   "source": [
    "def generate_store():\n",
    "    \n",
    "    rand_city = cities.sample()\n",
    "    \n",
    "    store = {\n",
    "        \"store_id\": fake.pyint(),\n",
    "        \"store_address\": fake.street_address(),\n",
    "        \"city\": rand_city.city.values[0],\n",
    "        \"state\": rand_city.state_id.values[0],\n",
    "        \"lat\": rand_city.lat.values[0] + (random.random() * 0.05) * random.choice([1, -1]),\n",
    "        \"lon\": rand_city.lng.values[0] + (random.random() * 0.05) * random.choice([1, -1])\n",
    "    }\n",
    "    \n",
    "    return store\n",
    "\n",
    "\n",
    "generate_store()"
   ]
  },
  {
   "cell_type": "code",
   "execution_count": 34,
   "metadata": {},
   "outputs": [
    {
     "data": {
      "text/html": [
       "<div>\n",
       "<style scoped>\n",
       "    .dataframe tbody tr th:only-of-type {\n",
       "        vertical-align: middle;\n",
       "    }\n",
       "\n",
       "    .dataframe tbody tr th {\n",
       "        vertical-align: top;\n",
       "    }\n",
       "\n",
       "    .dataframe thead th {\n",
       "        text-align: right;\n",
       "    }\n",
       "</style>\n",
       "<table border=\"1\" class=\"dataframe\">\n",
       "  <thead>\n",
       "    <tr style=\"text-align: right;\">\n",
       "      <th></th>\n",
       "      <th>store_id</th>\n",
       "      <th>store_address</th>\n",
       "      <th>city</th>\n",
       "      <th>state</th>\n",
       "      <th>lat</th>\n",
       "      <th>lon</th>\n",
       "    </tr>\n",
       "  </thead>\n",
       "  <tbody>\n",
       "    <tr>\n",
       "      <th>0</th>\n",
       "      <td>9636</td>\n",
       "      <td>6708 Erickson Shore Suite 761</td>\n",
       "      <td>Inglenook</td>\n",
       "      <td>CT</td>\n",
       "      <td>41.539136</td>\n",
       "      <td>-73.430246</td>\n",
       "    </tr>\n",
       "    <tr>\n",
       "      <th>1</th>\n",
       "      <td>1521</td>\n",
       "      <td>9283 Estrada Roads Suite 591</td>\n",
       "      <td>Abbyville</td>\n",
       "      <td>KS</td>\n",
       "      <td>37.994704</td>\n",
       "      <td>-98.156917</td>\n",
       "    </tr>\n",
       "    <tr>\n",
       "      <th>2</th>\n",
       "      <td>8929</td>\n",
       "      <td>78731 Wolfe Tunnel</td>\n",
       "      <td>Arriba</td>\n",
       "      <td>CO</td>\n",
       "      <td>39.267090</td>\n",
       "      <td>-103.225034</td>\n",
       "    </tr>\n",
       "    <tr>\n",
       "      <th>3</th>\n",
       "      <td>3643</td>\n",
       "      <td>7225 Gregory Inlet</td>\n",
       "      <td>Wikieup</td>\n",
       "      <td>AZ</td>\n",
       "      <td>34.700517</td>\n",
       "      <td>-113.591297</td>\n",
       "    </tr>\n",
       "    <tr>\n",
       "      <th>4</th>\n",
       "      <td>2100</td>\n",
       "      <td>3652 Dominique Club Suite 817</td>\n",
       "      <td>Charlotte</td>\n",
       "      <td>TN</td>\n",
       "      <td>36.141364</td>\n",
       "      <td>-87.367589</td>\n",
       "    </tr>\n",
       "  </tbody>\n",
       "</table>\n",
       "</div>"
      ],
      "text/plain": [
       "   store_id                  store_address       city state        lat  \\\n",
       "0      9636  6708 Erickson Shore Suite 761  Inglenook    CT  41.539136   \n",
       "1      1521   9283 Estrada Roads Suite 591  Abbyville    KS  37.994704   \n",
       "2      8929             78731 Wolfe Tunnel     Arriba    CO  39.267090   \n",
       "3      3643             7225 Gregory Inlet    Wikieup    AZ  34.700517   \n",
       "4      2100  3652 Dominique Club Suite 817  Charlotte    TN  36.141364   \n",
       "\n",
       "          lon  \n",
       "0  -73.430246  \n",
       "1  -98.156917  \n",
       "2 -103.225034  \n",
       "3 -113.591297  \n",
       "4  -87.367589  "
      ]
     },
     "execution_count": 34,
     "metadata": {},
     "output_type": "execute_result"
    }
   ],
   "source": [
    "def generate_stores(num_stores):\n",
    "    \n",
    "    stores = pd.DataFrame([generate_store() for i in range(num_stores)])\n",
    "    \n",
    "    return stores\n",
    "\n",
    "generate_stores(5)"
   ]
  },
  {
   "cell_type": "code",
   "execution_count": 135,
   "metadata": {},
   "outputs": [
    {
     "data": {
      "text/plain": [
       "{'customer_id': 'c6fb368b',\n",
       " 'first_name': 'Douglas',\n",
       " 'last_name': 'Butler',\n",
       " 'email': 'nancy13@cohen-bender.com',\n",
       " 'member': True,\n",
       " 'card_on_file': 'JCB 16 digit'}"
      ]
     },
     "execution_count": 135,
     "metadata": {},
     "output_type": "execute_result"
    }
   ],
   "source": [
    "def generate_customer():\n",
    "    \n",
    "    customer = {\n",
    "        \"customer_id\": str(fake.uuid4().split(\"-\")[0]),\n",
    "        \"first_name\": fake.first_name(),\n",
    "        \"last_name\": fake.last_name(),\n",
    "        \"email\": fake.email(),\n",
    "        \"member\": fake.boolean(),\n",
    "        \"card_on_file\": fake.credit_card_provider()\n",
    "    }\n",
    "    \n",
    "    return customer\n",
    "\n",
    "generate_customer()"
   ]
  },
  {
   "cell_type": "code",
   "execution_count": 136,
   "metadata": {},
   "outputs": [
    {
     "data": {
      "text/html": [
       "<div>\n",
       "<style scoped>\n",
       "    .dataframe tbody tr th:only-of-type {\n",
       "        vertical-align: middle;\n",
       "    }\n",
       "\n",
       "    .dataframe tbody tr th {\n",
       "        vertical-align: top;\n",
       "    }\n",
       "\n",
       "    .dataframe thead th {\n",
       "        text-align: right;\n",
       "    }\n",
       "</style>\n",
       "<table border=\"1\" class=\"dataframe\">\n",
       "  <thead>\n",
       "    <tr style=\"text-align: right;\">\n",
       "      <th></th>\n",
       "      <th>customer_id</th>\n",
       "      <th>first_name</th>\n",
       "      <th>last_name</th>\n",
       "      <th>email</th>\n",
       "      <th>member</th>\n",
       "      <th>card_on_file</th>\n",
       "    </tr>\n",
       "  </thead>\n",
       "  <tbody>\n",
       "    <tr>\n",
       "      <th>0</th>\n",
       "      <td>dd6c576d</td>\n",
       "      <td>Colin</td>\n",
       "      <td>Gonzalez</td>\n",
       "      <td>ntucker@cline.com</td>\n",
       "      <td>True</td>\n",
       "      <td>JCB 16 digit</td>\n",
       "    </tr>\n",
       "    <tr>\n",
       "      <th>1</th>\n",
       "      <td>69009b4c</td>\n",
       "      <td>Michael</td>\n",
       "      <td>Colon</td>\n",
       "      <td>richmondthomas@fritz-wallace.biz</td>\n",
       "      <td>False</td>\n",
       "      <td>VISA 16 digit</td>\n",
       "    </tr>\n",
       "    <tr>\n",
       "      <th>2</th>\n",
       "      <td>b7160b8c</td>\n",
       "      <td>James</td>\n",
       "      <td>Spencer</td>\n",
       "      <td>meganschneider@hotmail.com</td>\n",
       "      <td>True</td>\n",
       "      <td>JCB 15 digit</td>\n",
       "    </tr>\n",
       "    <tr>\n",
       "      <th>3</th>\n",
       "      <td>76d9b029</td>\n",
       "      <td>Richard</td>\n",
       "      <td>Wilson</td>\n",
       "      <td>wilsonamber@hotmail.com</td>\n",
       "      <td>False</td>\n",
       "      <td>JCB 16 digit</td>\n",
       "    </tr>\n",
       "    <tr>\n",
       "      <th>4</th>\n",
       "      <td>0ebbedce</td>\n",
       "      <td>Emily</td>\n",
       "      <td>Greene</td>\n",
       "      <td>zacharystewart@gmail.com</td>\n",
       "      <td>True</td>\n",
       "      <td>American Express</td>\n",
       "    </tr>\n",
       "  </tbody>\n",
       "</table>\n",
       "</div>"
      ],
      "text/plain": [
       "  customer_id first_name last_name                             email  member  \\\n",
       "0    dd6c576d      Colin  Gonzalez                 ntucker@cline.com    True   \n",
       "1    69009b4c    Michael     Colon  richmondthomas@fritz-wallace.biz   False   \n",
       "2    b7160b8c      James   Spencer        meganschneider@hotmail.com    True   \n",
       "3    76d9b029    Richard    Wilson           wilsonamber@hotmail.com   False   \n",
       "4    0ebbedce      Emily    Greene          zacharystewart@gmail.com    True   \n",
       "\n",
       "       card_on_file  \n",
       "0      JCB 16 digit  \n",
       "1     VISA 16 digit  \n",
       "2      JCB 15 digit  \n",
       "3      JCB 16 digit  \n",
       "4  American Express  "
      ]
     },
     "execution_count": 136,
     "metadata": {},
     "output_type": "execute_result"
    }
   ],
   "source": [
    "def generate_customers(num_customers):\n",
    "    \n",
    "    customers = pd.DataFrame([generate_customer() for i in range(num_customers)])\n",
    "    \n",
    "    return customers\n",
    "\n",
    "generate_customers(5)"
   ]
  },
  {
   "cell_type": "code",
   "execution_count": 137,
   "metadata": {},
   "outputs": [
    {
     "data": {
      "text/html": [
       "<div>\n",
       "<style scoped>\n",
       "    .dataframe tbody tr th:only-of-type {\n",
       "        vertical-align: middle;\n",
       "    }\n",
       "\n",
       "    .dataframe tbody tr th {\n",
       "        vertical-align: top;\n",
       "    }\n",
       "\n",
       "    .dataframe thead th {\n",
       "        text-align: right;\n",
       "    }\n",
       "</style>\n",
       "<table border=\"1\" class=\"dataframe\">\n",
       "  <thead>\n",
       "    <tr style=\"text-align: right;\">\n",
       "      <th></th>\n",
       "      <th>store_id</th>\n",
       "      <th>store_address</th>\n",
       "      <th>city</th>\n",
       "      <th>state</th>\n",
       "      <th>lat</th>\n",
       "      <th>lon</th>\n",
       "    </tr>\n",
       "  </thead>\n",
       "  <tbody>\n",
       "    <tr>\n",
       "      <th>0</th>\n",
       "      <td>8674</td>\n",
       "      <td>72654 Carrie Burgs Suite 967</td>\n",
       "      <td>Milan</td>\n",
       "      <td>MO</td>\n",
       "      <td>40.188827</td>\n",
       "      <td>-93.086862</td>\n",
       "    </tr>\n",
       "    <tr>\n",
       "      <th>1</th>\n",
       "      <td>7289</td>\n",
       "      <td>86929 Wilkinson Mill</td>\n",
       "      <td>Lake Cherokee</td>\n",
       "      <td>TX</td>\n",
       "      <td>32.362491</td>\n",
       "      <td>-94.658962</td>\n",
       "    </tr>\n",
       "    <tr>\n",
       "      <th>2</th>\n",
       "      <td>7354</td>\n",
       "      <td>011 Michael Cliffs</td>\n",
       "      <td>Elizabeth</td>\n",
       "      <td>CO</td>\n",
       "      <td>39.374152</td>\n",
       "      <td>-104.654768</td>\n",
       "    </tr>\n",
       "    <tr>\n",
       "      <th>3</th>\n",
       "      <td>1255</td>\n",
       "      <td>4314 Jasmine Meadows Apt. 377</td>\n",
       "      <td>Salisbury</td>\n",
       "      <td>PA</td>\n",
       "      <td>39.709683</td>\n",
       "      <td>-79.100757</td>\n",
       "    </tr>\n",
       "    <tr>\n",
       "      <th>4</th>\n",
       "      <td>7350</td>\n",
       "      <td>837 Kristy Extension</td>\n",
       "      <td>Bakerstown</td>\n",
       "      <td>PA</td>\n",
       "      <td>40.668960</td>\n",
       "      <td>-79.927009</td>\n",
       "    </tr>\n",
       "  </tbody>\n",
       "</table>\n",
       "</div>"
      ],
      "text/plain": [
       "   store_id                  store_address           city state        lat  \\\n",
       "0      8674   72654 Carrie Burgs Suite 967          Milan    MO  40.188827   \n",
       "1      7289           86929 Wilkinson Mill  Lake Cherokee    TX  32.362491   \n",
       "2      7354             011 Michael Cliffs      Elizabeth    CO  39.374152   \n",
       "3      1255  4314 Jasmine Meadows Apt. 377      Salisbury    PA  39.709683   \n",
       "4      7350           837 Kristy Extension     Bakerstown    PA  40.668960   \n",
       "\n",
       "          lon  \n",
       "0  -93.086862  \n",
       "1  -94.658962  \n",
       "2 -104.654768  \n",
       "3  -79.100757  \n",
       "4  -79.927009  "
      ]
     },
     "metadata": {},
     "output_type": "display_data"
    },
    {
     "data": {
      "text/html": [
       "<div>\n",
       "<style scoped>\n",
       "    .dataframe tbody tr th:only-of-type {\n",
       "        vertical-align: middle;\n",
       "    }\n",
       "\n",
       "    .dataframe tbody tr th {\n",
       "        vertical-align: top;\n",
       "    }\n",
       "\n",
       "    .dataframe thead th {\n",
       "        text-align: right;\n",
       "    }\n",
       "</style>\n",
       "<table border=\"1\" class=\"dataframe\">\n",
       "  <thead>\n",
       "    <tr style=\"text-align: right;\">\n",
       "      <th></th>\n",
       "      <th>customer_id</th>\n",
       "      <th>first_name</th>\n",
       "      <th>last_name</th>\n",
       "      <th>email</th>\n",
       "      <th>member</th>\n",
       "      <th>card_on_file</th>\n",
       "    </tr>\n",
       "  </thead>\n",
       "  <tbody>\n",
       "    <tr>\n",
       "      <th>0</th>\n",
       "      <td>abf34256</td>\n",
       "      <td>Jessica</td>\n",
       "      <td>Harris</td>\n",
       "      <td>nicole70@yahoo.com</td>\n",
       "      <td>True</td>\n",
       "      <td>JCB 16 digit</td>\n",
       "    </tr>\n",
       "    <tr>\n",
       "      <th>1</th>\n",
       "      <td>1a3102d8</td>\n",
       "      <td>George</td>\n",
       "      <td>Baker</td>\n",
       "      <td>ngraham@hotmail.com</td>\n",
       "      <td>False</td>\n",
       "      <td>JCB 16 digit</td>\n",
       "    </tr>\n",
       "    <tr>\n",
       "      <th>2</th>\n",
       "      <td>ade8ec0f</td>\n",
       "      <td>Kyle</td>\n",
       "      <td>Shelton</td>\n",
       "      <td>dawnpadilla@gmail.com</td>\n",
       "      <td>False</td>\n",
       "      <td>VISA 16 digit</td>\n",
       "    </tr>\n",
       "    <tr>\n",
       "      <th>3</th>\n",
       "      <td>945755ea</td>\n",
       "      <td>Eduardo</td>\n",
       "      <td>Olson</td>\n",
       "      <td>leslie57@hotmail.com</td>\n",
       "      <td>False</td>\n",
       "      <td>VISA 19 digit</td>\n",
       "    </tr>\n",
       "    <tr>\n",
       "      <th>4</th>\n",
       "      <td>e68e6b82</td>\n",
       "      <td>Alexandra</td>\n",
       "      <td>Jones</td>\n",
       "      <td>robinquinn@gilbert-morales.com</td>\n",
       "      <td>False</td>\n",
       "      <td>VISA 16 digit</td>\n",
       "    </tr>\n",
       "  </tbody>\n",
       "</table>\n",
       "</div>"
      ],
      "text/plain": [
       "  customer_id first_name last_name                           email  member  \\\n",
       "0    abf34256    Jessica    Harris              nicole70@yahoo.com    True   \n",
       "1    1a3102d8     George     Baker             ngraham@hotmail.com   False   \n",
       "2    ade8ec0f       Kyle   Shelton           dawnpadilla@gmail.com   False   \n",
       "3    945755ea    Eduardo     Olson            leslie57@hotmail.com   False   \n",
       "4    e68e6b82  Alexandra     Jones  robinquinn@gilbert-morales.com   False   \n",
       "\n",
       "    card_on_file  \n",
       "0   JCB 16 digit  \n",
       "1   JCB 16 digit  \n",
       "2  VISA 16 digit  \n",
       "3  VISA 19 digit  \n",
       "4  VISA 16 digit  "
      ]
     },
     "metadata": {},
     "output_type": "display_data"
    }
   ],
   "source": [
    "stores = generate_stores(25)\n",
    "customers = generate_customers(100)\n",
    "\n",
    "display(stores.head())\n",
    "display(customers.head())"
   ]
  },
  {
   "cell_type": "code",
   "execution_count": 138,
   "metadata": {},
   "outputs": [
    {
     "data": {
      "text/plain": [
       "{'visit_id': 'b731f189',\n",
       " 'visit_date': '01-01-2020',\n",
       " 'store_id': 5493,\n",
       " 'customer_id': '450df5ac',\n",
       " 'order_total': 265.08,\n",
       " 'payment_method': 'cash'}"
      ]
     },
     "execution_count": 138,
     "metadata": {},
     "output_type": "execute_result"
    }
   ],
   "source": [
    "def generate_visit(stores, customers, visit_date=\"01-01-2020\"):\n",
    "    \n",
    "    visit = {\n",
    "        \"visit_id\": str(fake.uuid4().split(\"-\")[0]),\n",
    "        \"visit_date\": visit_date,\n",
    "        \"store_id\": stores.sample().store_id.values[0],\n",
    "        \"customer_id\": customers.sample().customer_id.values[0],\n",
    "        \"order_total\": round(random.random() * random.choice([10, 100, 500, 1000]), 2),\n",
    "        \"payment_method\": random.choice([\"cash\", \"credit\"])\n",
    "    }\n",
    "    \n",
    "    return visit\n",
    "\n",
    "generate_visit(stores, customers)"
   ]
  },
  {
   "cell_type": "code",
   "execution_count": 139,
   "metadata": {},
   "outputs": [
    {
     "data": {
      "text/html": [
       "<div>\n",
       "<style scoped>\n",
       "    .dataframe tbody tr th:only-of-type {\n",
       "        vertical-align: middle;\n",
       "    }\n",
       "\n",
       "    .dataframe tbody tr th {\n",
       "        vertical-align: top;\n",
       "    }\n",
       "\n",
       "    .dataframe thead th {\n",
       "        text-align: right;\n",
       "    }\n",
       "</style>\n",
       "<table border=\"1\" class=\"dataframe\">\n",
       "  <thead>\n",
       "    <tr style=\"text-align: right;\">\n",
       "      <th></th>\n",
       "      <th>visit_id</th>\n",
       "      <th>visit_date</th>\n",
       "      <th>store_id</th>\n",
       "      <th>customer_id</th>\n",
       "      <th>order_total</th>\n",
       "      <th>payment_method</th>\n",
       "    </tr>\n",
       "  </thead>\n",
       "  <tbody>\n",
       "    <tr>\n",
       "      <th>0</th>\n",
       "      <td>4577c79e</td>\n",
       "      <td>01-01-2020</td>\n",
       "      <td>3182</td>\n",
       "      <td>3504c839</td>\n",
       "      <td>757.06</td>\n",
       "      <td>credit</td>\n",
       "    </tr>\n",
       "    <tr>\n",
       "      <th>1</th>\n",
       "      <td>d766201a</td>\n",
       "      <td>01-01-2020</td>\n",
       "      <td>1255</td>\n",
       "      <td>ad2febc0</td>\n",
       "      <td>782.75</td>\n",
       "      <td>cash</td>\n",
       "    </tr>\n",
       "    <tr>\n",
       "      <th>2</th>\n",
       "      <td>74d253c3</td>\n",
       "      <td>01-01-2020</td>\n",
       "      <td>2603</td>\n",
       "      <td>9c12cf9d</td>\n",
       "      <td>4.49</td>\n",
       "      <td>cash</td>\n",
       "    </tr>\n",
       "    <tr>\n",
       "      <th>3</th>\n",
       "      <td>9039ff04</td>\n",
       "      <td>01-01-2020</td>\n",
       "      <td>3182</td>\n",
       "      <td>abf34256</td>\n",
       "      <td>7.08</td>\n",
       "      <td>cash</td>\n",
       "    </tr>\n",
       "    <tr>\n",
       "      <th>4</th>\n",
       "      <td>6fd402e9</td>\n",
       "      <td>01-01-2020</td>\n",
       "      <td>6578</td>\n",
       "      <td>f9796322</td>\n",
       "      <td>0.39</td>\n",
       "      <td>credit</td>\n",
       "    </tr>\n",
       "  </tbody>\n",
       "</table>\n",
       "</div>"
      ],
      "text/plain": [
       "   visit_id  visit_date  store_id customer_id  order_total payment_method\n",
       "0  4577c79e  01-01-2020      3182    3504c839       757.06         credit\n",
       "1  d766201a  01-01-2020      1255    ad2febc0       782.75           cash\n",
       "2  74d253c3  01-01-2020      2603    9c12cf9d         4.49           cash\n",
       "3  9039ff04  01-01-2020      3182    abf34256         7.08           cash\n",
       "4  6fd402e9  01-01-2020      6578    f9796322         0.39         credit"
      ]
     },
     "execution_count": 139,
     "metadata": {},
     "output_type": "execute_result"
    }
   ],
   "source": [
    "def generate_visits(num_visits, stores, customers, visit_date=\"01-01-2020\"):\n",
    "    \n",
    "    def generate_visit(stores=stores, customers=customers, visit_date=visit_date):\n",
    "    \n",
    "        visit = {\n",
    "            \"visit_id\": str(fake.uuid4().split(\"-\")[0]),\n",
    "            \"visit_date\": visit_date,\n",
    "            \"store_id\": stores.sample().store_id.values[0],\n",
    "            \"customer_id\": customers.sample().customer_id.values[0],\n",
    "            \"order_total\": round(random.random() * random.choice([10, 100, 500, 1000]), 2),\n",
    "            \"payment_method\": random.choice([\"cash\", \"credit\"])\n",
    "        }\n",
    "        \n",
    "        return visit\n",
    "    \n",
    "    visits = pd.DataFrame([generate_visit(stores, customers) for i in range(num_visits)])\n",
    "    \n",
    "    return visits\n",
    "\n",
    "generate_visits(5, stores, customers)"
   ]
  },
  {
   "cell_type": "code",
   "execution_count": 357,
   "metadata": {},
   "outputs": [
    {
     "ename": "KeyboardInterrupt",
     "evalue": "",
     "output_type": "error",
     "traceback": [
      "\u001b[1;31m---------------------------------------------------------------------------\u001b[0m",
      "\u001b[1;31mKeyboardInterrupt\u001b[0m                         Traceback (most recent call last)",
      "Cell \u001b[1;32mIn[357], line 5\u001b[0m\n\u001b[0;32m      2\u001b[0m end_date \u001b[39m=\u001b[39m \u001b[39m\"\u001b[39m\u001b[39m06-01-2020\u001b[39m\u001b[39m\"\u001b[39m\n\u001b[0;32m      4\u001b[0m \u001b[39mfor\u001b[39;00m i \u001b[39min\u001b[39;00m pd\u001b[39m.\u001b[39mdate_range(start_date, end_date):\n\u001b[1;32m----> 5\u001b[0m     visits \u001b[39m=\u001b[39m generate_visits(random\u001b[39m.\u001b[39;49mrandrange(\u001b[39m1\u001b[39;49m, \u001b[39m1000\u001b[39;49m), visit_date\u001b[39m=\u001b[39;49mi)\n\u001b[0;32m      7\u001b[0m     filepath \u001b[39m=\u001b[39m \u001b[39mf\u001b[39m\u001b[39m\"\u001b[39m\u001b[39mdata/db/\u001b[39m\u001b[39m{\u001b[39;00mi\u001b[39m.\u001b[39myear\u001b[39m}\u001b[39;00m\u001b[39m/\u001b[39m\u001b[39m{\u001b[39;00mi\u001b[39m.\u001b[39mmonth\u001b[39m}\u001b[39;00m\u001b[39m/\u001b[39m\u001b[39m{\u001b[39;00mi\u001b[39m.\u001b[39mday\u001b[39m}\u001b[39;00m\u001b[39m\"\u001b[39m\n\u001b[0;32m      8\u001b[0m     Path(filepath)\u001b[39m.\u001b[39mmkdir(parents\u001b[39m=\u001b[39m\u001b[39mTrue\u001b[39;00m, exist_ok\u001b[39m=\u001b[39m\u001b[39mTrue\u001b[39;00m)\n",
      "Cell \u001b[1;32mIn[355], line 16\u001b[0m, in \u001b[0;36mgenerate_visits\u001b[1;34m(num_visits, visit_date)\u001b[0m\n\u001b[0;32m      5\u001b[0m     visit \u001b[39m=\u001b[39m {\n\u001b[0;32m      6\u001b[0m         \u001b[39m\"\u001b[39m\u001b[39mvisit_id\u001b[39m\u001b[39m\"\u001b[39m: \u001b[39mstr\u001b[39m(fake\u001b[39m.\u001b[39muuid4()\u001b[39m.\u001b[39msplit(\u001b[39m\"\u001b[39m\u001b[39m-\u001b[39m\u001b[39m\"\u001b[39m)[\u001b[39m0\u001b[39m]),\n\u001b[0;32m      7\u001b[0m         \u001b[39m\"\u001b[39m\u001b[39mvisit_date\u001b[39m\u001b[39m\"\u001b[39m: visit_date,\n\u001b[1;32m   (...)\u001b[0m\n\u001b[0;32m     11\u001b[0m         \u001b[39m\"\u001b[39m\u001b[39mpayment_method\u001b[39m\u001b[39m\"\u001b[39m: random\u001b[39m.\u001b[39mchoice([\u001b[39m\"\u001b[39m\u001b[39mcash\u001b[39m\u001b[39m\"\u001b[39m, \u001b[39m\"\u001b[39m\u001b[39mcredit\u001b[39m\u001b[39m\"\u001b[39m])\n\u001b[0;32m     12\u001b[0m     }\n\u001b[0;32m     14\u001b[0m     \u001b[39mreturn\u001b[39;00m visit\n\u001b[1;32m---> 16\u001b[0m visits \u001b[39m=\u001b[39m pd\u001b[39m.\u001b[39mDataFrame([generate_visit(stores, customers) \u001b[39mfor\u001b[39;00m i \u001b[39min\u001b[39;00m \u001b[39mrange\u001b[39m(num_visits)])\n\u001b[0;32m     18\u001b[0m \u001b[39mreturn\u001b[39;00m visits\n",
      "Cell \u001b[1;32mIn[355], line 16\u001b[0m, in \u001b[0;36m<listcomp>\u001b[1;34m(.0)\u001b[0m\n\u001b[0;32m      5\u001b[0m     visit \u001b[39m=\u001b[39m {\n\u001b[0;32m      6\u001b[0m         \u001b[39m\"\u001b[39m\u001b[39mvisit_id\u001b[39m\u001b[39m\"\u001b[39m: \u001b[39mstr\u001b[39m(fake\u001b[39m.\u001b[39muuid4()\u001b[39m.\u001b[39msplit(\u001b[39m\"\u001b[39m\u001b[39m-\u001b[39m\u001b[39m\"\u001b[39m)[\u001b[39m0\u001b[39m]),\n\u001b[0;32m      7\u001b[0m         \u001b[39m\"\u001b[39m\u001b[39mvisit_date\u001b[39m\u001b[39m\"\u001b[39m: visit_date,\n\u001b[1;32m   (...)\u001b[0m\n\u001b[0;32m     11\u001b[0m         \u001b[39m\"\u001b[39m\u001b[39mpayment_method\u001b[39m\u001b[39m\"\u001b[39m: random\u001b[39m.\u001b[39mchoice([\u001b[39m\"\u001b[39m\u001b[39mcash\u001b[39m\u001b[39m\"\u001b[39m, \u001b[39m\"\u001b[39m\u001b[39mcredit\u001b[39m\u001b[39m\"\u001b[39m])\n\u001b[0;32m     12\u001b[0m     }\n\u001b[0;32m     14\u001b[0m     \u001b[39mreturn\u001b[39;00m visit\n\u001b[1;32m---> 16\u001b[0m visits \u001b[39m=\u001b[39m pd\u001b[39m.\u001b[39mDataFrame([generate_visit(stores, customers) \u001b[39mfor\u001b[39;00m i \u001b[39min\u001b[39;00m \u001b[39mrange\u001b[39m(num_visits)])\n\u001b[0;32m     18\u001b[0m \u001b[39mreturn\u001b[39;00m visits\n",
      "Cell \u001b[1;32mIn[355], line 9\u001b[0m, in \u001b[0;36mgenerate_visits.<locals>.generate_visit\u001b[1;34m(stores, customers, visit_date)\u001b[0m\n\u001b[0;32m      3\u001b[0m \u001b[39mdef\u001b[39;00m \u001b[39mgenerate_visit\u001b[39m(stores, customers, visit_date\u001b[39m=\u001b[39mvisit_date):\n\u001b[0;32m      5\u001b[0m     visit \u001b[39m=\u001b[39m {\n\u001b[0;32m      6\u001b[0m         \u001b[39m\"\u001b[39m\u001b[39mvisit_id\u001b[39m\u001b[39m\"\u001b[39m: \u001b[39mstr\u001b[39m(fake\u001b[39m.\u001b[39muuid4()\u001b[39m.\u001b[39msplit(\u001b[39m\"\u001b[39m\u001b[39m-\u001b[39m\u001b[39m\"\u001b[39m)[\u001b[39m0\u001b[39m]),\n\u001b[0;32m      7\u001b[0m         \u001b[39m\"\u001b[39m\u001b[39mvisit_date\u001b[39m\u001b[39m\"\u001b[39m: visit_date,\n\u001b[0;32m      8\u001b[0m         \u001b[39m\"\u001b[39m\u001b[39mstore_id\u001b[39m\u001b[39m\"\u001b[39m: stores\u001b[39m.\u001b[39msample()\u001b[39m.\u001b[39mstore_id\u001b[39m.\u001b[39mvalues[\u001b[39m0\u001b[39m],\n\u001b[1;32m----> 9\u001b[0m         \u001b[39m\"\u001b[39m\u001b[39mcustomer_id\u001b[39m\u001b[39m\"\u001b[39m: customers\u001b[39m.\u001b[39;49msample()\u001b[39m.\u001b[39mcustomer_id\u001b[39m.\u001b[39mvalues[\u001b[39m0\u001b[39m],\n\u001b[0;32m     10\u001b[0m         \u001b[39m\"\u001b[39m\u001b[39morder_total\u001b[39m\u001b[39m\"\u001b[39m: \u001b[39mround\u001b[39m(random\u001b[39m.\u001b[39mrandom() \u001b[39m*\u001b[39m random\u001b[39m.\u001b[39mchoice([\u001b[39m10\u001b[39m, \u001b[39m100\u001b[39m, \u001b[39m500\u001b[39m, \u001b[39m1000\u001b[39m]), \u001b[39m2\u001b[39m),\n\u001b[0;32m     11\u001b[0m         \u001b[39m\"\u001b[39m\u001b[39mpayment_method\u001b[39m\u001b[39m\"\u001b[39m: random\u001b[39m.\u001b[39mchoice([\u001b[39m\"\u001b[39m\u001b[39mcash\u001b[39m\u001b[39m\"\u001b[39m, \u001b[39m\"\u001b[39m\u001b[39mcredit\u001b[39m\u001b[39m\"\u001b[39m])\n\u001b[0;32m     12\u001b[0m     }\n\u001b[0;32m     14\u001b[0m     \u001b[39mreturn\u001b[39;00m visit\n",
      "File \u001b[1;32mc:\\Users\\kah32\\miniconda3\\envs\\faker\\lib\\site-packages\\pandas\\core\\generic.py:5774\u001b[0m, in \u001b[0;36mNDFrame.sample\u001b[1;34m(self, n, frac, replace, weights, random_state, axis, ignore_index)\u001b[0m\n\u001b[0;32m   5771\u001b[0m     weights \u001b[39m=\u001b[39m sample\u001b[39m.\u001b[39mpreprocess_weights(\u001b[39mself\u001b[39m, weights, axis)\n\u001b[0;32m   5773\u001b[0m sampled_indices \u001b[39m=\u001b[39m sample\u001b[39m.\u001b[39msample(obj_len, size, replace, weights, rs)\n\u001b[1;32m-> 5774\u001b[0m result \u001b[39m=\u001b[39m \u001b[39mself\u001b[39;49m\u001b[39m.\u001b[39;49mtake(sampled_indices, axis\u001b[39m=\u001b[39;49maxis)\n\u001b[0;32m   5776\u001b[0m \u001b[39mif\u001b[39;00m ignore_index:\n\u001b[0;32m   5777\u001b[0m     result\u001b[39m.\u001b[39mindex \u001b[39m=\u001b[39m default_index(\u001b[39mlen\u001b[39m(result))\n",
      "File \u001b[1;32mc:\\Users\\kah32\\miniconda3\\envs\\faker\\lib\\site-packages\\pandas\\core\\generic.py:3871\u001b[0m, in \u001b[0;36mNDFrame.take\u001b[1;34m(self, indices, axis, is_copy, **kwargs)\u001b[0m\n\u001b[0;32m   3862\u001b[0m     warnings\u001b[39m.\u001b[39mwarn(\n\u001b[0;32m   3863\u001b[0m         \u001b[39m\"\u001b[39m\u001b[39mis_copy is deprecated and will be removed in a future version. \u001b[39m\u001b[39m\"\u001b[39m\n\u001b[0;32m   3864\u001b[0m         \u001b[39m\"\u001b[39m\u001b[39m'\u001b[39m\u001b[39mtake\u001b[39m\u001b[39m'\u001b[39m\u001b[39m always returns a copy, so there is no need to specify this.\u001b[39m\u001b[39m\"\u001b[39m,\n\u001b[0;32m   3865\u001b[0m         \u001b[39mFutureWarning\u001b[39;00m,\n\u001b[0;32m   3866\u001b[0m         stacklevel\u001b[39m=\u001b[39mfind_stack_level(),\n\u001b[0;32m   3867\u001b[0m     )\n\u001b[0;32m   3869\u001b[0m nv\u001b[39m.\u001b[39mvalidate_take((), kwargs)\n\u001b[1;32m-> 3871\u001b[0m \u001b[39mreturn\u001b[39;00m \u001b[39mself\u001b[39;49m\u001b[39m.\u001b[39;49m_take(indices, axis)\n",
      "File \u001b[1;32mc:\\Users\\kah32\\miniconda3\\envs\\faker\\lib\\site-packages\\pandas\\core\\generic.py:3886\u001b[0m, in \u001b[0;36mNDFrame._take\u001b[1;34m(self, indices, axis, convert_indices)\u001b[0m\n\u001b[0;32m   3879\u001b[0m \u001b[39m\"\"\"\u001b[39;00m\n\u001b[0;32m   3880\u001b[0m \u001b[39mInternal version of the `take` allowing specification of additional args.\u001b[39;00m\n\u001b[0;32m   3881\u001b[0m \n\u001b[0;32m   3882\u001b[0m \u001b[39mSee the docstring of `take` for full explanation of the parameters.\u001b[39;00m\n\u001b[0;32m   3883\u001b[0m \u001b[39m\"\"\"\u001b[39;00m\n\u001b[0;32m   3884\u001b[0m \u001b[39mself\u001b[39m\u001b[39m.\u001b[39m_consolidate_inplace()\n\u001b[1;32m-> 3886\u001b[0m new_data \u001b[39m=\u001b[39m \u001b[39mself\u001b[39;49m\u001b[39m.\u001b[39;49m_mgr\u001b[39m.\u001b[39;49mtake(\n\u001b[0;32m   3887\u001b[0m     indices,\n\u001b[0;32m   3888\u001b[0m     axis\u001b[39m=\u001b[39;49m\u001b[39mself\u001b[39;49m\u001b[39m.\u001b[39;49m_get_block_manager_axis(axis),\n\u001b[0;32m   3889\u001b[0m     verify\u001b[39m=\u001b[39;49m\u001b[39mTrue\u001b[39;49;00m,\n\u001b[0;32m   3890\u001b[0m     convert_indices\u001b[39m=\u001b[39;49mconvert_indices,\n\u001b[0;32m   3891\u001b[0m )\n\u001b[0;32m   3892\u001b[0m \u001b[39mreturn\u001b[39;00m \u001b[39mself\u001b[39m\u001b[39m.\u001b[39m_constructor(new_data)\u001b[39m.\u001b[39m__finalize__(\u001b[39mself\u001b[39m, method\u001b[39m=\u001b[39m\u001b[39m\"\u001b[39m\u001b[39mtake\u001b[39m\u001b[39m\"\u001b[39m)\n",
      "File \u001b[1;32mc:\\Users\\kah32\\miniconda3\\envs\\faker\\lib\\site-packages\\pandas\\core\\internals\\managers.py:980\u001b[0m, in \u001b[0;36mBaseBlockManager.take\u001b[1;34m(self, indexer, axis, verify, convert_indices)\u001b[0m\n\u001b[0;32m    977\u001b[0m     indexer \u001b[39m=\u001b[39m maybe_convert_indices(indexer, n, verify\u001b[39m=\u001b[39mverify)\n\u001b[0;32m    979\u001b[0m new_labels \u001b[39m=\u001b[39m \u001b[39mself\u001b[39m\u001b[39m.\u001b[39maxes[axis]\u001b[39m.\u001b[39mtake(indexer)\n\u001b[1;32m--> 980\u001b[0m \u001b[39mreturn\u001b[39;00m \u001b[39mself\u001b[39;49m\u001b[39m.\u001b[39;49mreindex_indexer(\n\u001b[0;32m    981\u001b[0m     new_axis\u001b[39m=\u001b[39;49mnew_labels,\n\u001b[0;32m    982\u001b[0m     indexer\u001b[39m=\u001b[39;49mindexer,\n\u001b[0;32m    983\u001b[0m     axis\u001b[39m=\u001b[39;49maxis,\n\u001b[0;32m    984\u001b[0m     allow_dups\u001b[39m=\u001b[39;49m\u001b[39mTrue\u001b[39;49;00m,\n\u001b[0;32m    985\u001b[0m     copy\u001b[39m=\u001b[39;49m\u001b[39mNone\u001b[39;49;00m,\n\u001b[0;32m    986\u001b[0m )\n",
      "File \u001b[1;32mc:\\Users\\kah32\\miniconda3\\envs\\faker\\lib\\site-packages\\pandas\\core\\internals\\managers.py:772\u001b[0m, in \u001b[0;36mBaseBlockManager.reindex_indexer\u001b[1;34m(self, new_axis, indexer, axis, fill_value, allow_dups, copy, only_slice, use_na_proxy)\u001b[0m\n\u001b[0;32m    769\u001b[0m new_mgr \u001b[39m=\u001b[39m \u001b[39mtype\u001b[39m(\u001b[39mself\u001b[39m)\u001b[39m.\u001b[39mfrom_blocks(new_blocks, new_axes, new_refs, parent\u001b[39m=\u001b[39mparent)\n\u001b[0;32m    770\u001b[0m \u001b[39mif\u001b[39;00m axis \u001b[39m==\u001b[39m \u001b[39m1\u001b[39m:\n\u001b[0;32m    771\u001b[0m     \u001b[39m# We can avoid the need to rebuild these\u001b[39;00m\n\u001b[1;32m--> 772\u001b[0m     new_mgr\u001b[39m.\u001b[39m_blknos \u001b[39m=\u001b[39m \u001b[39mself\u001b[39;49m\u001b[39m.\u001b[39;49mblknos\u001b[39m.\u001b[39;49mcopy()\n\u001b[0;32m    773\u001b[0m     new_mgr\u001b[39m.\u001b[39m_blklocs \u001b[39m=\u001b[39m \u001b[39mself\u001b[39m\u001b[39m.\u001b[39mblklocs\u001b[39m.\u001b[39mcopy()\n\u001b[0;32m    774\u001b[0m \u001b[39mreturn\u001b[39;00m new_mgr\n",
      "\u001b[1;31mKeyboardInterrupt\u001b[0m: "
     ]
    }
   ],
   "source": [
    "# start_date = \"01-01-2020\"\n",
    "# end_date = \"06-01-2020\"\n",
    "\n",
    "# for i in pd.date_range(start_date, end_date):\n",
    "#     visits = generate_visits(random.randrange(1, 1000), visit_date=i)\n",
    "    \n",
    "#     filepath = f\"data/db/{i.year}/{i.month}/{i.day}\"\n",
    "#     Path(filepath).mkdir(parents=True, exist_ok=True)\n",
    "    \n",
    "#     visits.to_csv(f\"{filepath}/{str(i.date()).replace('-', '')}.csv\", index=False)"
   ]
  },
  {
   "cell_type": "code",
   "execution_count": 97,
   "metadata": {},
   "outputs": [],
   "source": [
    "# def seed_data(start_date, end_date, directory, num_stores, num_customers):\n",
    "    \n",
    "#     Path(directory).mkdir(parents=True, exist_ok=True)\n",
    "    \n",
    "#     stores = generate_stores(num_stores)\n",
    "#     stores.to_csv(f\"{directory}/stores.csv\", index=False)\n",
    "    \n",
    "#     customers = generate_customers(num_customers)\n",
    "#     customers.to_csv(f\"{directory}/customers.csv\", index=False)\n",
    "    \n",
    "#     for i in pd.date_range(start_date, end_date):\n",
    "#         visits = generate_visits(random.randrange(1, 1000), stores, customers, visit_date=i)\n",
    "        \n",
    "#         filepath = f\"{directory}/{i.year}/{i.month}/{i.day}\"\n",
    "#         Path(filepath).mkdir(parents=True, exist_ok=True)\n",
    "        \n",
    "#         filename = f\"{filepath}/{str(i.date()).replace('-', '')}.csv\"\n",
    "        \n",
    "#         visits.to_csv(filename, index=False)\n",
    "#         with open('data/db/log.txt', 'a') as f:\n",
    "#             f.write(filename.replace(\"\\\\\", \"/\"))\n",
    "#             f.write('\\n')\n",
    "\n",
    "\n",
    "# seed_data(\"01-01-2020\", \"03-01-2020\", \"data/db\", num_stores=50, num_customers=1000)"
   ]
  },
  {
   "cell_type": "code",
   "execution_count": 140,
   "metadata": {},
   "outputs": [],
   "source": [
    "def seed_data(start_date, end_date, directory, num_stores, num_customers):\n",
    "    \n",
    "    Path(directory).mkdir(parents=True, exist_ok=True)\n",
    "    \n",
    "    stores = generate_stores(num_stores)\n",
    "    stores.to_csv(f\"{directory}/stores.csv\", index=False)\n",
    "    \n",
    "    customers = generate_customers(num_customers)\n",
    "    customers.to_csv(f\"{directory}/customers.csv\", index=False)\n",
    "    \n",
    "    visit_data = []\n",
    "    \n",
    "    for i in pd.date_range(start_date, end_date):\n",
    "        visits = generate_visits(random.randrange(1, 1000), stores, customers, visit_date=i)\n",
    "        visit_data.append(visits)\n",
    "    \n",
    "    pd.concat(visit_data).to_csv(f\"{directory}/visits.csv\", index=False)\n",
    "\n",
    "seed_data(\"01-01-2020\", \"06-01-2020\", \"data/db\", num_stores=50, num_customers=1000)\n",
    "        "
   ]
  },
  {
   "cell_type": "code",
   "execution_count": 2,
   "metadata": {},
   "outputs": [
    {
     "data": {
      "text/html": [
       "<div>\n",
       "<style scoped>\n",
       "    .dataframe tbody tr th:only-of-type {\n",
       "        vertical-align: middle;\n",
       "    }\n",
       "\n",
       "    .dataframe tbody tr th {\n",
       "        vertical-align: top;\n",
       "    }\n",
       "\n",
       "    .dataframe thead th {\n",
       "        text-align: right;\n",
       "    }\n",
       "</style>\n",
       "<table border=\"1\" class=\"dataframe\">\n",
       "  <thead>\n",
       "    <tr style=\"text-align: right;\">\n",
       "      <th></th>\n",
       "      <th>store_id</th>\n",
       "      <th>store_address</th>\n",
       "      <th>city</th>\n",
       "      <th>state</th>\n",
       "      <th>lat</th>\n",
       "      <th>lon</th>\n",
       "    </tr>\n",
       "  </thead>\n",
       "  <tbody>\n",
       "    <tr>\n",
       "      <th>0</th>\n",
       "      <td>8600</td>\n",
       "      <td>3672 Jordan Ways</td>\n",
       "      <td>East Lansdowne</td>\n",
       "      <td>PA</td>\n",
       "      <td>39.967639</td>\n",
       "      <td>-75.290413</td>\n",
       "    </tr>\n",
       "    <tr>\n",
       "      <th>1</th>\n",
       "      <td>1305</td>\n",
       "      <td>9770 Jay Alley Suite 938</td>\n",
       "      <td>Malone</td>\n",
       "      <td>WA</td>\n",
       "      <td>46.949959</td>\n",
       "      <td>-123.350093</td>\n",
       "    </tr>\n",
       "    <tr>\n",
       "      <th>2</th>\n",
       "      <td>6205</td>\n",
       "      <td>0079 Cesar Spur Suite 279</td>\n",
       "      <td>Vanndale</td>\n",
       "      <td>AR</td>\n",
       "      <td>35.301869</td>\n",
       "      <td>-90.819717</td>\n",
       "    </tr>\n",
       "    <tr>\n",
       "      <th>3</th>\n",
       "      <td>6313</td>\n",
       "      <td>695 Becker Circles Apt. 528</td>\n",
       "      <td>Essary Springs</td>\n",
       "      <td>TN</td>\n",
       "      <td>35.029169</td>\n",
       "      <td>-88.826712</td>\n",
       "    </tr>\n",
       "    <tr>\n",
       "      <th>4</th>\n",
       "      <td>256</td>\n",
       "      <td>5494 Richard Freeway</td>\n",
       "      <td>Mineral Wells</td>\n",
       "      <td>TX</td>\n",
       "      <td>32.851450</td>\n",
       "      <td>-98.039422</td>\n",
       "    </tr>\n",
       "  </tbody>\n",
       "</table>\n",
       "</div>"
      ],
      "text/plain": [
       "  store_id                store_address            city state        lat  \\\n",
       "0     8600             3672 Jordan Ways  East Lansdowne    PA  39.967639   \n",
       "1     1305     9770 Jay Alley Suite 938          Malone    WA  46.949959   \n",
       "2     6205    0079 Cesar Spur Suite 279        Vanndale    AR  35.301869   \n",
       "3     6313  695 Becker Circles Apt. 528  Essary Springs    TN  35.029169   \n",
       "4      256         5494 Richard Freeway   Mineral Wells    TX  32.851450   \n",
       "\n",
       "          lon  \n",
       "0  -75.290413  \n",
       "1 -123.350093  \n",
       "2  -90.819717  \n",
       "3  -88.826712  \n",
       "4  -98.039422  "
      ]
     },
     "metadata": {},
     "output_type": "display_data"
    },
    {
     "data": {
      "text/html": [
       "<div>\n",
       "<style scoped>\n",
       "    .dataframe tbody tr th:only-of-type {\n",
       "        vertical-align: middle;\n",
       "    }\n",
       "\n",
       "    .dataframe tbody tr th {\n",
       "        vertical-align: top;\n",
       "    }\n",
       "\n",
       "    .dataframe thead th {\n",
       "        text-align: right;\n",
       "    }\n",
       "</style>\n",
       "<table border=\"1\" class=\"dataframe\">\n",
       "  <thead>\n",
       "    <tr style=\"text-align: right;\">\n",
       "      <th></th>\n",
       "      <th>customer_id</th>\n",
       "      <th>first_name</th>\n",
       "      <th>last_name</th>\n",
       "      <th>email</th>\n",
       "      <th>member</th>\n",
       "      <th>card_on_file</th>\n",
       "    </tr>\n",
       "  </thead>\n",
       "  <tbody>\n",
       "    <tr>\n",
       "      <th>0</th>\n",
       "      <td>69cb82e1</td>\n",
       "      <td>Ashlee</td>\n",
       "      <td>Dennis</td>\n",
       "      <td>adamsthomas@hotmail.com</td>\n",
       "      <td>False</td>\n",
       "      <td>VISA 16 digit</td>\n",
       "    </tr>\n",
       "    <tr>\n",
       "      <th>1</th>\n",
       "      <td>24c11c10</td>\n",
       "      <td>Marie</td>\n",
       "      <td>Ramos</td>\n",
       "      <td>steven70@gmail.com</td>\n",
       "      <td>True</td>\n",
       "      <td>VISA 13 digit</td>\n",
       "    </tr>\n",
       "    <tr>\n",
       "      <th>2</th>\n",
       "      <td>38ada57a</td>\n",
       "      <td>Daniel</td>\n",
       "      <td>Brooks</td>\n",
       "      <td>sullivanerica@hotmail.com</td>\n",
       "      <td>False</td>\n",
       "      <td>American Express</td>\n",
       "    </tr>\n",
       "    <tr>\n",
       "      <th>3</th>\n",
       "      <td>e543c9f4</td>\n",
       "      <td>Nathan</td>\n",
       "      <td>Taylor</td>\n",
       "      <td>bdeleon@yahoo.com</td>\n",
       "      <td>False</td>\n",
       "      <td>JCB 16 digit</td>\n",
       "    </tr>\n",
       "    <tr>\n",
       "      <th>4</th>\n",
       "      <td>aa8ff855</td>\n",
       "      <td>Clarence</td>\n",
       "      <td>Newman</td>\n",
       "      <td>patty59@hotmail.com</td>\n",
       "      <td>True</td>\n",
       "      <td>JCB 16 digit</td>\n",
       "    </tr>\n",
       "  </tbody>\n",
       "</table>\n",
       "</div>"
      ],
      "text/plain": [
       "  customer_id first_name last_name                      email  member  \\\n",
       "0    69cb82e1     Ashlee    Dennis    adamsthomas@hotmail.com   False   \n",
       "1    24c11c10      Marie     Ramos         steven70@gmail.com    True   \n",
       "2    38ada57a     Daniel    Brooks  sullivanerica@hotmail.com   False   \n",
       "3    e543c9f4     Nathan    Taylor          bdeleon@yahoo.com   False   \n",
       "4    aa8ff855   Clarence    Newman        patty59@hotmail.com    True   \n",
       "\n",
       "       card_on_file  \n",
       "0     VISA 16 digit  \n",
       "1     VISA 13 digit  \n",
       "2  American Express  \n",
       "3      JCB 16 digit  \n",
       "4      JCB 16 digit  "
      ]
     },
     "metadata": {},
     "output_type": "display_data"
    },
    {
     "data": {
      "text/html": [
       "<div>\n",
       "<style scoped>\n",
       "    .dataframe tbody tr th:only-of-type {\n",
       "        vertical-align: middle;\n",
       "    }\n",
       "\n",
       "    .dataframe tbody tr th {\n",
       "        vertical-align: top;\n",
       "    }\n",
       "\n",
       "    .dataframe thead th {\n",
       "        text-align: right;\n",
       "    }\n",
       "</style>\n",
       "<table border=\"1\" class=\"dataframe\">\n",
       "  <thead>\n",
       "    <tr style=\"text-align: right;\">\n",
       "      <th></th>\n",
       "      <th>visit_id</th>\n",
       "      <th>visit_date</th>\n",
       "      <th>store_id</th>\n",
       "      <th>customer_id</th>\n",
       "      <th>order_total</th>\n",
       "      <th>payment_method</th>\n",
       "    </tr>\n",
       "  </thead>\n",
       "  <tbody>\n",
       "    <tr>\n",
       "      <th>0</th>\n",
       "      <td>350792a2</td>\n",
       "      <td>2020-01-01</td>\n",
       "      <td>7563</td>\n",
       "      <td>b01c396a</td>\n",
       "      <td>237.49</td>\n",
       "      <td>cash</td>\n",
       "    </tr>\n",
       "    <tr>\n",
       "      <th>1</th>\n",
       "      <td>6c083db0</td>\n",
       "      <td>2020-01-01</td>\n",
       "      <td>4840</td>\n",
       "      <td>4f0b9d38</td>\n",
       "      <td>9.75</td>\n",
       "      <td>credit</td>\n",
       "    </tr>\n",
       "    <tr>\n",
       "      <th>2</th>\n",
       "      <td>9dcbb3ec</td>\n",
       "      <td>2020-01-01</td>\n",
       "      <td>5253</td>\n",
       "      <td>998b0091</td>\n",
       "      <td>1.54</td>\n",
       "      <td>credit</td>\n",
       "    </tr>\n",
       "    <tr>\n",
       "      <th>3</th>\n",
       "      <td>d2c95aeb</td>\n",
       "      <td>2020-01-01</td>\n",
       "      <td>2130</td>\n",
       "      <td>1efcc83d</td>\n",
       "      <td>286.33</td>\n",
       "      <td>credit</td>\n",
       "    </tr>\n",
       "    <tr>\n",
       "      <th>4</th>\n",
       "      <td>4fce911b</td>\n",
       "      <td>2020-01-01</td>\n",
       "      <td>5351</td>\n",
       "      <td>b07e53f7</td>\n",
       "      <td>759.23</td>\n",
       "      <td>credit</td>\n",
       "    </tr>\n",
       "  </tbody>\n",
       "</table>\n",
       "</div>"
      ],
      "text/plain": [
       "   visit_id  visit_date store_id customer_id  order_total payment_method\n",
       "0  350792a2  2020-01-01     7563    b01c396a       237.49           cash\n",
       "1  6c083db0  2020-01-01     4840    4f0b9d38         9.75         credit\n",
       "2  9dcbb3ec  2020-01-01     5253    998b0091         1.54         credit\n",
       "3  d2c95aeb  2020-01-01     2130    1efcc83d       286.33         credit\n",
       "4  4fce911b  2020-01-01     5351    b07e53f7       759.23         credit"
      ]
     },
     "metadata": {},
     "output_type": "display_data"
    }
   ],
   "source": [
    "visits = pd.read_csv(\"data/db/visits.csv\", dtype={\"customer_id\":\"string\", \"store_id\":\"string\"})\n",
    "customers = pd.read_csv(\"data/db/customers.csv\", dtype={\"customer_id\":\"string\"})\n",
    "stores = pd.read_csv(\"data/db/stores.csv\", dtype={\"store_id\":\"string\"})\n",
    "\n",
    "display(stores.head())\n",
    "display(customers.head())\n",
    "display(visits.head())"
   ]
  },
  {
   "cell_type": "code",
   "execution_count": 259,
   "metadata": {},
   "outputs": [
    {
     "name": "stdout",
     "output_type": "stream",
     "text": [
      "2020-06-01 00:00:00 89 visits (84303 total visits)\n",
      "2020-06-02 00:00:00 905 visits (85208 total visits)\n",
      "2020-06-03 00:00:00 359 visits (85567 total visits)\n",
      "2020-06-04 00:00:00 15 visits (85582 total visits)\n",
      "2020-06-05 00:00:00 258 visits (85840 total visits)\n",
      "2020-06-06 00:00:00 421 visits (86261 total visits)\n",
      "2020-06-07 00:00:00 849 visits (87110 total visits)\n",
      "2020-06-08 00:00:00 855 visits (87965 total visits)\n",
      "2020-06-09 00:00:00 436 visits (88401 total visits)\n",
      "2020-06-10 00:00:00 430 visits (88831 total visits)\n",
      "2020-06-11 00:00:00 776 visits (89607 total visits)\n",
      "2020-06-12 00:00:00 873 visits (90480 total visits)\n",
      "2020-06-13 00:00:00 465 visits (90945 total visits)\n",
      "2020-06-14 00:00:00 22 visits (90967 total visits)\n",
      "2020-06-15 00:00:00 954 visits (91921 total visits)\n",
      "2020-06-16 00:00:00 808 visits (92729 total visits)\n",
      "2020-06-17 00:00:00 727 visits (93456 total visits)\n",
      "2020-06-18 00:00:00 240 visits (93696 total visits)\n",
      "2020-06-19 00:00:00 342 visits (94038 total visits)\n",
      "2020-06-20 00:00:00 996 visits (95034 total visits)\n",
      "2020-06-21 00:00:00 143 visits (95177 total visits)\n",
      "2020-06-22 00:00:00 678 visits (95855 total visits)\n",
      "2020-06-23 00:00:00 558 visits (96413 total visits)\n",
      "2020-06-24 00:00:00 53 visits (96466 total visits)\n",
      "2020-06-25 00:00:00 15 visits (96481 total visits)\n",
      "2020-06-26 00:00:00 518 visits (96999 total visits)\n",
      "2020-06-27 00:00:00 933 visits (97932 total visits)\n",
      "2020-06-28 00:00:00 629 visits (98561 total visits)\n",
      "2020-06-29 00:00:00 647 visits (99208 total visits)\n",
      "2020-06-30 00:00:00 155 visits (99363 total visits)\n",
      "2020-07-01 00:00:00 102 visits (99465 total visits)\n",
      "2020-07-02 00:00:00 242 visits (99707 total visits)\n",
      "2020-07-03 00:00:00 464 visits (100171 total visits)\n",
      "2020-07-04 00:00:00 192 visits (100363 total visits)\n",
      "2020-07-05 00:00:00 504 visits (100867 total visits)\n",
      "2020-07-06 00:00:00 311 visits (101178 total visits)\n",
      "2020-07-07 00:00:00 661 visits (101839 total visits)\n",
      "2020-07-08 00:00:00 275 visits (102114 total visits)\n",
      "2020-07-09 00:00:00 391 visits (102505 total visits)\n",
      "2020-07-10 00:00:00 732 visits (103237 total visits)\n",
      "2020-07-11 00:00:00 992 visits (104229 total visits)\n",
      "2020-07-12 00:00:00 214 visits (104443 total visits)\n",
      "2020-07-13 00:00:00 86 visits (104529 total visits)\n",
      "2020-07-14 00:00:00 395 visits (104924 total visits)\n",
      "2020-07-15 00:00:00 252 visits (105176 total visits)\n",
      "2020-07-16 00:00:00 349 visits (105525 total visits)\n",
      "2020-07-17 00:00:00 489 visits (106014 total visits)\n",
      "2020-07-18 00:00:00 346 visits (106360 total visits)\n",
      "2020-07-19 00:00:00 545 visits (106905 total visits)\n",
      "2020-07-20 00:00:00 567 visits (107472 total visits)\n",
      "2020-07-21 00:00:00 442 visits (107914 total visits)\n",
      "2020-07-22 00:00:00 506 visits (108420 total visits)\n",
      "2020-07-23 00:00:00 580 visits (109000 total visits)\n"
     ]
    },
    {
     "ename": "KeyboardInterrupt",
     "evalue": "",
     "output_type": "error",
     "traceback": [
      "\u001b[1;31m---------------------------------------------------------------------------\u001b[0m",
      "\u001b[1;31mKeyboardInterrupt\u001b[0m                         Traceback (most recent call last)",
      "Cell \u001b[1;32mIn[259], line 23\u001b[0m\n\u001b[0;32m     18\u001b[0m         time\u001b[39m.\u001b[39msleep(delay)\n\u001b[0;32m     20\u001b[0m     \u001b[39mreturn\u001b[39;00m \u001b[39mNone\u001b[39;00m\n\u001b[1;32m---> 23\u001b[0m generate_data(\u001b[39m\"\u001b[39;49m\u001b[39m06-01-2020\u001b[39;49m\u001b[39m\"\u001b[39;49m, \u001b[39m\"\u001b[39;49m\u001b[39m12-31-2021\u001b[39;49m\u001b[39m\"\u001b[39;49m, \u001b[39m\"\u001b[39;49m\u001b[39mdata/db\u001b[39;49m\u001b[39m\"\u001b[39;49m, delay\u001b[39m=\u001b[39;49m\u001b[39m3\u001b[39;49m)\n",
      "Cell \u001b[1;32mIn[259], line 18\u001b[0m, in \u001b[0;36mgenerate_data\u001b[1;34m(start_date, end_date, directory, delay)\u001b[0m\n\u001b[0;32m     14\u001b[0m     df\u001b[39m.\u001b[39mto_csv(\u001b[39mf\u001b[39m\u001b[39m\"\u001b[39m\u001b[39m{\u001b[39;00mdirectory\u001b[39m}\u001b[39;00m\u001b[39m/visits.csv\u001b[39m\u001b[39m\"\u001b[39m, index\u001b[39m=\u001b[39m\u001b[39mFalse\u001b[39;00m)\n\u001b[0;32m     16\u001b[0m     \u001b[39mprint\u001b[39m(i, \u001b[39mf\u001b[39m\u001b[39m\"\u001b[39m\u001b[39m{\u001b[39;00mnew_visits\u001b[39m.\u001b[39mshape[\u001b[39m0\u001b[39m]\u001b[39m}\u001b[39;00m\u001b[39m visits (\u001b[39m\u001b[39m{\u001b[39;00mdf\u001b[39m.\u001b[39mshape[\u001b[39m0\u001b[39m]\u001b[39m}\u001b[39;00m\u001b[39m total visits)\u001b[39m\u001b[39m\"\u001b[39m)\n\u001b[1;32m---> 18\u001b[0m     time\u001b[39m.\u001b[39;49msleep(delay)\n\u001b[0;32m     20\u001b[0m \u001b[39mreturn\u001b[39;00m \u001b[39mNone\u001b[39;00m\n",
      "\u001b[1;31mKeyboardInterrupt\u001b[0m: "
     ]
    }
   ],
   "source": [
    "def generate_data(start_date, end_date, directory, delay=2):\n",
    "    Path(directory).mkdir(parents=True, exist_ok=True)\n",
    "    \n",
    "    stores = pd.read_csv(f\"{directory}/stores.csv\")\n",
    "    customers = pd.read_csv(f\"{directory}/customers.csv\")\n",
    "    \n",
    "    for i in pd.date_range(start_date, end_date):\n",
    "        \n",
    "        new_visits = generate_visits(random.randrange(1, 1000), stores, customers, visit_date=i)\n",
    "        \n",
    "        visits = pd.read_csv(f\"{directory}/visits.csv\")\n",
    "        \n",
    "        df = pd.concat([visits, new_visits])\n",
    "        df.to_csv(f\"{directory}/visits.csv\", index=False)\n",
    "        \n",
    "        print(i, f\"{new_visits.shape[0]} visits ({df.shape[0]} total visits)\")\n",
    "        \n",
    "        time.sleep(delay)\n",
    "    \n",
    "    return None\n",
    "\n",
    "\n",
    "generate_data(\"06-01-2020\", \"12-31-2021\", \"data/db\", delay=3)"
   ]
  },
  {
   "cell_type": "code",
   "execution_count": 142,
   "metadata": {},
   "outputs": [
    {
     "data": {
      "text/html": [
       "<div style=\"width:100%;\"><div style=\"position:relative;width:100%;height:0;padding-bottom:60%;\"><span style=\"color:#565656\">Make this Notebook Trusted to load map: File -> Trust Notebook</span><iframe srcdoc=\"&lt;!DOCTYPE html&gt;\n",
       "&lt;html&gt;\n",
       "&lt;head&gt;\n",
       "    \n",
       "    &lt;meta http-equiv=&quot;content-type&quot; content=&quot;text/html; charset=UTF-8&quot; /&gt;\n",
       "    \n",
       "        &lt;script&gt;\n",
       "            L_NO_TOUCH = false;\n",
       "            L_DISABLE_3D = false;\n",
       "        &lt;/script&gt;\n",
       "    \n",
       "    &lt;style&gt;html, body {width: 100%;height: 100%;margin: 0;padding: 0;}&lt;/style&gt;\n",
       "    &lt;style&gt;#map {position:absolute;top:0;bottom:0;right:0;left:0;}&lt;/style&gt;\n",
       "    &lt;script src=&quot;https://cdn.jsdelivr.net/npm/leaflet@1.9.3/dist/leaflet.js&quot;&gt;&lt;/script&gt;\n",
       "    &lt;script src=&quot;https://code.jquery.com/jquery-1.12.4.min.js&quot;&gt;&lt;/script&gt;\n",
       "    &lt;script src=&quot;https://cdn.jsdelivr.net/npm/bootstrap@5.2.2/dist/js/bootstrap.bundle.min.js&quot;&gt;&lt;/script&gt;\n",
       "    &lt;script src=&quot;https://cdnjs.cloudflare.com/ajax/libs/Leaflet.awesome-markers/2.0.2/leaflet.awesome-markers.js&quot;&gt;&lt;/script&gt;\n",
       "    &lt;link rel=&quot;stylesheet&quot; href=&quot;https://cdn.jsdelivr.net/npm/leaflet@1.9.3/dist/leaflet.css&quot;/&gt;\n",
       "    &lt;link rel=&quot;stylesheet&quot; href=&quot;https://cdn.jsdelivr.net/npm/bootstrap@5.2.2/dist/css/bootstrap.min.css&quot;/&gt;\n",
       "    &lt;link rel=&quot;stylesheet&quot; href=&quot;https://netdna.bootstrapcdn.com/bootstrap/3.0.0/css/bootstrap.min.css&quot;/&gt;\n",
       "    &lt;link rel=&quot;stylesheet&quot; href=&quot;https://cdn.jsdelivr.net/npm/@fortawesome/fontawesome-free@6.2.0/css/all.min.css&quot;/&gt;\n",
       "    &lt;link rel=&quot;stylesheet&quot; href=&quot;https://cdnjs.cloudflare.com/ajax/libs/Leaflet.awesome-markers/2.0.2/leaflet.awesome-markers.css&quot;/&gt;\n",
       "    &lt;link rel=&quot;stylesheet&quot; href=&quot;https://cdn.jsdelivr.net/gh/python-visualization/folium/folium/templates/leaflet.awesome.rotate.min.css&quot;/&gt;\n",
       "    \n",
       "            &lt;meta name=&quot;viewport&quot; content=&quot;width=device-width,\n",
       "                initial-scale=1.0, maximum-scale=1.0, user-scalable=no&quot; /&gt;\n",
       "            &lt;style&gt;\n",
       "                #map_cf381d96e26ecf1d349ab32df6860ca6 {\n",
       "                    position: relative;\n",
       "                    width: 100.0%;\n",
       "                    height: 100.0%;\n",
       "                    left: 0.0%;\n",
       "                    top: 0.0%;\n",
       "                }\n",
       "                .leaflet-container { font-size: 1rem; }\n",
       "            &lt;/style&gt;\n",
       "        \n",
       "&lt;/head&gt;\n",
       "&lt;body&gt;\n",
       "    \n",
       "    \n",
       "            &lt;div class=&quot;folium-map&quot; id=&quot;map_cf381d96e26ecf1d349ab32df6860ca6&quot; &gt;&lt;/div&gt;\n",
       "        \n",
       "&lt;/body&gt;\n",
       "&lt;script&gt;\n",
       "    \n",
       "    \n",
       "            var map_cf381d96e26ecf1d349ab32df6860ca6 = L.map(\n",
       "                &quot;map_cf381d96e26ecf1d349ab32df6860ca6&quot;,\n",
       "                {\n",
       "                    center: [39.776383, -76.602334],\n",
       "                    crs: L.CRS.EPSG3857,\n",
       "                    zoom: 10,\n",
       "                    zoomControl: true,\n",
       "                    preferCanvas: false,\n",
       "                }\n",
       "            );\n",
       "\n",
       "            \n",
       "\n",
       "        \n",
       "    \n",
       "            var tile_layer_77226a8c77f99f549a962713fac98820 = L.tileLayer(\n",
       "                &quot;https://{s}.tile.openstreetmap.org/{z}/{x}/{y}.png&quot;,\n",
       "                {&quot;attribution&quot;: &quot;Data by \\u0026copy; \\u003ca target=\\&quot;_blank\\&quot; href=\\&quot;http://openstreetmap.org\\&quot;\\u003eOpenStreetMap\\u003c/a\\u003e, under \\u003ca target=\\&quot;_blank\\&quot; href=\\&quot;http://www.openstreetmap.org/copyright\\&quot;\\u003eODbL\\u003c/a\\u003e.&quot;, &quot;detectRetina&quot;: false, &quot;maxNativeZoom&quot;: 18, &quot;maxZoom&quot;: 18, &quot;minZoom&quot;: 0, &quot;noWrap&quot;: false, &quot;opacity&quot;: 1, &quot;subdomains&quot;: &quot;abc&quot;, &quot;tms&quot;: false}\n",
       "            ).addTo(map_cf381d96e26ecf1d349ab32df6860ca6);\n",
       "        \n",
       "    \n",
       "            var circle_marker_b5b1e3133dc64242a10f2043e0c692e6 = L.circleMarker(\n",
       "                [39.96763936497498, -75.29041258038596],\n",
       "                {&quot;bubblingMouseEvents&quot;: true, &quot;color&quot;: &quot;#3388ff&quot;, &quot;dashArray&quot;: null, &quot;dashOffset&quot;: null, &quot;fill&quot;: false, &quot;fillColor&quot;: &quot;#3388ff&quot;, &quot;fillOpacity&quot;: 0.2, &quot;fillRule&quot;: &quot;evenodd&quot;, &quot;lineCap&quot;: &quot;round&quot;, &quot;lineJoin&quot;: &quot;round&quot;, &quot;opacity&quot;: 1.0, &quot;radius&quot;: 5, &quot;stroke&quot;: true, &quot;weight&quot;: 3}\n",
       "            ).addTo(map_cf381d96e26ecf1d349ab32df6860ca6);\n",
       "        \n",
       "    \n",
       "            circle_marker_b5b1e3133dc64242a10f2043e0c692e6.bindTooltip(\n",
       "                `&lt;div&gt;\n",
       "                     East Lansdowne, PA\n",
       "                 &lt;/div&gt;`,\n",
       "                {&quot;sticky&quot;: true}\n",
       "            );\n",
       "        \n",
       "    \n",
       "            var circle_marker_825725c25a1c1e65886c0e44a0d80d5d = L.circleMarker(\n",
       "                [46.94995944322761, -123.35009347687476],\n",
       "                {&quot;bubblingMouseEvents&quot;: true, &quot;color&quot;: &quot;#3388ff&quot;, &quot;dashArray&quot;: null, &quot;dashOffset&quot;: null, &quot;fill&quot;: false, &quot;fillColor&quot;: &quot;#3388ff&quot;, &quot;fillOpacity&quot;: 0.2, &quot;fillRule&quot;: &quot;evenodd&quot;, &quot;lineCap&quot;: &quot;round&quot;, &quot;lineJoin&quot;: &quot;round&quot;, &quot;opacity&quot;: 1.0, &quot;radius&quot;: 5, &quot;stroke&quot;: true, &quot;weight&quot;: 3}\n",
       "            ).addTo(map_cf381d96e26ecf1d349ab32df6860ca6);\n",
       "        \n",
       "    \n",
       "            circle_marker_825725c25a1c1e65886c0e44a0d80d5d.bindTooltip(\n",
       "                `&lt;div&gt;\n",
       "                     Malone, WA\n",
       "                 &lt;/div&gt;`,\n",
       "                {&quot;sticky&quot;: true}\n",
       "            );\n",
       "        \n",
       "    \n",
       "            var circle_marker_1cba5b917c8a3bbd2c3fa39a74082f61 = L.circleMarker(\n",
       "                [35.30186855172086, -90.81971692911166],\n",
       "                {&quot;bubblingMouseEvents&quot;: true, &quot;color&quot;: &quot;#3388ff&quot;, &quot;dashArray&quot;: null, &quot;dashOffset&quot;: null, &quot;fill&quot;: false, &quot;fillColor&quot;: &quot;#3388ff&quot;, &quot;fillOpacity&quot;: 0.2, &quot;fillRule&quot;: &quot;evenodd&quot;, &quot;lineCap&quot;: &quot;round&quot;, &quot;lineJoin&quot;: &quot;round&quot;, &quot;opacity&quot;: 1.0, &quot;radius&quot;: 5, &quot;stroke&quot;: true, &quot;weight&quot;: 3}\n",
       "            ).addTo(map_cf381d96e26ecf1d349ab32df6860ca6);\n",
       "        \n",
       "    \n",
       "            circle_marker_1cba5b917c8a3bbd2c3fa39a74082f61.bindTooltip(\n",
       "                `&lt;div&gt;\n",
       "                     Vanndale, AR\n",
       "                 &lt;/div&gt;`,\n",
       "                {&quot;sticky&quot;: true}\n",
       "            );\n",
       "        \n",
       "    \n",
       "            var circle_marker_d650aab27f192c291feab2cc9f41abf8 = L.circleMarker(\n",
       "                [35.02916852445684, -88.82671235650446],\n",
       "                {&quot;bubblingMouseEvents&quot;: true, &quot;color&quot;: &quot;#3388ff&quot;, &quot;dashArray&quot;: null, &quot;dashOffset&quot;: null, &quot;fill&quot;: false, &quot;fillColor&quot;: &quot;#3388ff&quot;, &quot;fillOpacity&quot;: 0.2, &quot;fillRule&quot;: &quot;evenodd&quot;, &quot;lineCap&quot;: &quot;round&quot;, &quot;lineJoin&quot;: &quot;round&quot;, &quot;opacity&quot;: 1.0, &quot;radius&quot;: 5, &quot;stroke&quot;: true, &quot;weight&quot;: 3}\n",
       "            ).addTo(map_cf381d96e26ecf1d349ab32df6860ca6);\n",
       "        \n",
       "    \n",
       "            circle_marker_d650aab27f192c291feab2cc9f41abf8.bindTooltip(\n",
       "                `&lt;div&gt;\n",
       "                     Essary Springs, TN\n",
       "                 &lt;/div&gt;`,\n",
       "                {&quot;sticky&quot;: true}\n",
       "            );\n",
       "        \n",
       "    \n",
       "            var circle_marker_d30da4461040d3b86d1abbfe9d4e3b81 = L.circleMarker(\n",
       "                [32.85144970863698, -98.03942190590796],\n",
       "                {&quot;bubblingMouseEvents&quot;: true, &quot;color&quot;: &quot;#3388ff&quot;, &quot;dashArray&quot;: null, &quot;dashOffset&quot;: null, &quot;fill&quot;: false, &quot;fillColor&quot;: &quot;#3388ff&quot;, &quot;fillOpacity&quot;: 0.2, &quot;fillRule&quot;: &quot;evenodd&quot;, &quot;lineCap&quot;: &quot;round&quot;, &quot;lineJoin&quot;: &quot;round&quot;, &quot;opacity&quot;: 1.0, &quot;radius&quot;: 5, &quot;stroke&quot;: true, &quot;weight&quot;: 3}\n",
       "            ).addTo(map_cf381d96e26ecf1d349ab32df6860ca6);\n",
       "        \n",
       "    \n",
       "            circle_marker_d30da4461040d3b86d1abbfe9d4e3b81.bindTooltip(\n",
       "                `&lt;div&gt;\n",
       "                     Mineral Wells, TX\n",
       "                 &lt;/div&gt;`,\n",
       "                {&quot;sticky&quot;: true}\n",
       "            );\n",
       "        \n",
       "    \n",
       "            var circle_marker_83d4c9250643c7365f921ca1fd00ec61 = L.circleMarker(\n",
       "                [36.89813245579378, -94.15066562371698],\n",
       "                {&quot;bubblingMouseEvents&quot;: true, &quot;color&quot;: &quot;#3388ff&quot;, &quot;dashArray&quot;: null, &quot;dashOffset&quot;: null, &quot;fill&quot;: false, &quot;fillColor&quot;: &quot;#3388ff&quot;, &quot;fillOpacity&quot;: 0.2, &quot;fillRule&quot;: &quot;evenodd&quot;, &quot;lineCap&quot;: &quot;round&quot;, &quot;lineJoin&quot;: &quot;round&quot;, &quot;opacity&quot;: 1.0, &quot;radius&quot;: 5, &quot;stroke&quot;: true, &quot;weight&quot;: 3}\n",
       "            ).addTo(map_cf381d96e26ecf1d349ab32df6860ca6);\n",
       "        \n",
       "    \n",
       "            circle_marker_83d4c9250643c7365f921ca1fd00ec61.bindTooltip(\n",
       "                `&lt;div&gt;\n",
       "                     Newtonia, MO\n",
       "                 &lt;/div&gt;`,\n",
       "                {&quot;sticky&quot;: true}\n",
       "            );\n",
       "        \n",
       "    \n",
       "            var circle_marker_ba7762cbd8498d95e2e8be1db31e58c0 = L.circleMarker(\n",
       "                [40.89652484228901, -74.10559820324882],\n",
       "                {&quot;bubblingMouseEvents&quot;: true, &quot;color&quot;: &quot;#3388ff&quot;, &quot;dashArray&quot;: null, &quot;dashOffset&quot;: null, &quot;fill&quot;: false, &quot;fillColor&quot;: &quot;#3388ff&quot;, &quot;fillOpacity&quot;: 0.2, &quot;fillRule&quot;: &quot;evenodd&quot;, &quot;lineCap&quot;: &quot;round&quot;, &quot;lineJoin&quot;: &quot;round&quot;, &quot;opacity&quot;: 1.0, &quot;radius&quot;: 5, &quot;stroke&quot;: true, &quot;weight&quot;: 3}\n",
       "            ).addTo(map_cf381d96e26ecf1d349ab32df6860ca6);\n",
       "        \n",
       "    \n",
       "            circle_marker_ba7762cbd8498d95e2e8be1db31e58c0.bindTooltip(\n",
       "                `&lt;div&gt;\n",
       "                     Wallington, NJ\n",
       "                 &lt;/div&gt;`,\n",
       "                {&quot;sticky&quot;: true}\n",
       "            );\n",
       "        \n",
       "    \n",
       "            var circle_marker_e03ceec4a3a137e76caf0e50fd203e9b = L.circleMarker(\n",
       "                [36.73265715926286, -79.79185779177824],\n",
       "                {&quot;bubblingMouseEvents&quot;: true, &quot;color&quot;: &quot;#3388ff&quot;, &quot;dashArray&quot;: null, &quot;dashOffset&quot;: null, &quot;fill&quot;: false, &quot;fillColor&quot;: &quot;#3388ff&quot;, &quot;fillOpacity&quot;: 0.2, &quot;fillRule&quot;: &quot;evenodd&quot;, &quot;lineCap&quot;: &quot;round&quot;, &quot;lineJoin&quot;: &quot;round&quot;, &quot;opacity&quot;: 1.0, &quot;radius&quot;: 5, &quot;stroke&quot;: true, &quot;weight&quot;: 3}\n",
       "            ).addTo(map_cf381d96e26ecf1d349ab32df6860ca6);\n",
       "        \n",
       "    \n",
       "            circle_marker_e03ceec4a3a137e76caf0e50fd203e9b.bindTooltip(\n",
       "                `&lt;div&gt;\n",
       "                     Laurel Park, VA\n",
       "                 &lt;/div&gt;`,\n",
       "                {&quot;sticky&quot;: true}\n",
       "            );\n",
       "        \n",
       "    \n",
       "            var circle_marker_953fe59e879775813107544017cde4e4 = L.circleMarker(\n",
       "                [39.00564986675142, -74.90234219453484],\n",
       "                {&quot;bubblingMouseEvents&quot;: true, &quot;color&quot;: &quot;#3388ff&quot;, &quot;dashArray&quot;: null, &quot;dashOffset&quot;: null, &quot;fill&quot;: false, &quot;fillColor&quot;: &quot;#3388ff&quot;, &quot;fillOpacity&quot;: 0.2, &quot;fillRule&quot;: &quot;evenodd&quot;, &quot;lineCap&quot;: &quot;round&quot;, &quot;lineJoin&quot;: &quot;round&quot;, &quot;opacity&quot;: 1.0, &quot;radius&quot;: 5, &quot;stroke&quot;: true, &quot;weight&quot;: 3}\n",
       "            ).addTo(map_cf381d96e26ecf1d349ab32df6860ca6);\n",
       "        \n",
       "    \n",
       "            circle_marker_953fe59e879775813107544017cde4e4.bindTooltip(\n",
       "                `&lt;div&gt;\n",
       "                     Rio Grande, NJ\n",
       "                 &lt;/div&gt;`,\n",
       "                {&quot;sticky&quot;: true}\n",
       "            );\n",
       "        \n",
       "    \n",
       "            var circle_marker_5fb66aa2488e4af84f96e5ffa5fb9ee3 = L.circleMarker(\n",
       "                [43.69784765144587, -112.1719008656006],\n",
       "                {&quot;bubblingMouseEvents&quot;: true, &quot;color&quot;: &quot;#3388ff&quot;, &quot;dashArray&quot;: null, &quot;dashOffset&quot;: null, &quot;fill&quot;: false, &quot;fillColor&quot;: &quot;#3388ff&quot;, &quot;fillOpacity&quot;: 0.2, &quot;fillRule&quot;: &quot;evenodd&quot;, &quot;lineCap&quot;: &quot;round&quot;, &quot;lineJoin&quot;: &quot;round&quot;, &quot;opacity&quot;: 1.0, &quot;radius&quot;: 5, &quot;stroke&quot;: true, &quot;weight&quot;: 3}\n",
       "            ).addTo(map_cf381d96e26ecf1d349ab32df6860ca6);\n",
       "        \n",
       "    \n",
       "            circle_marker_5fb66aa2488e4af84f96e5ffa5fb9ee3.bindTooltip(\n",
       "                `&lt;div&gt;\n",
       "                     Roberts, ID\n",
       "                 &lt;/div&gt;`,\n",
       "                {&quot;sticky&quot;: true}\n",
       "            );\n",
       "        \n",
       "    \n",
       "            var circle_marker_683200b51f0688113fd7854cf6aefd9a = L.circleMarker(\n",
       "                [34.33240821620303, -92.68334766689972],\n",
       "                {&quot;bubblingMouseEvents&quot;: true, &quot;color&quot;: &quot;#3388ff&quot;, &quot;dashArray&quot;: null, &quot;dashOffset&quot;: null, &quot;fill&quot;: false, &quot;fillColor&quot;: &quot;#3388ff&quot;, &quot;fillOpacity&quot;: 0.2, &quot;fillRule&quot;: &quot;evenodd&quot;, &quot;lineCap&quot;: &quot;round&quot;, &quot;lineJoin&quot;: &quot;round&quot;, &quot;opacity&quot;: 1.0, &quot;radius&quot;: 5, &quot;stroke&quot;: true, &quot;weight&quot;: 3}\n",
       "            ).addTo(map_cf381d96e26ecf1d349ab32df6860ca6);\n",
       "        \n",
       "    \n",
       "            circle_marker_683200b51f0688113fd7854cf6aefd9a.bindTooltip(\n",
       "                `&lt;div&gt;\n",
       "                     Poyen, AR\n",
       "                 &lt;/div&gt;`,\n",
       "                {&quot;sticky&quot;: true}\n",
       "            );\n",
       "        \n",
       "    \n",
       "            var circle_marker_9266d357f2ee08a56e1c875a82239d23 = L.circleMarker(\n",
       "                [42.2077711068146, -96.07375767313168],\n",
       "                {&quot;bubblingMouseEvents&quot;: true, &quot;color&quot;: &quot;#3388ff&quot;, &quot;dashArray&quot;: null, &quot;dashOffset&quot;: null, &quot;fill&quot;: false, &quot;fillColor&quot;: &quot;#3388ff&quot;, &quot;fillOpacity&quot;: 0.2, &quot;fillRule&quot;: &quot;evenodd&quot;, &quot;lineCap&quot;: &quot;round&quot;, &quot;lineJoin&quot;: &quot;round&quot;, &quot;opacity&quot;: 1.0, &quot;radius&quot;: 5, &quot;stroke&quot;: true, &quot;weight&quot;: 3}\n",
       "            ).addTo(map_cf381d96e26ecf1d349ab32df6860ca6);\n",
       "        \n",
       "    \n",
       "            circle_marker_9266d357f2ee08a56e1c875a82239d23.bindTooltip(\n",
       "                `&lt;div&gt;\n",
       "                     Hornick, IA\n",
       "                 &lt;/div&gt;`,\n",
       "                {&quot;sticky&quot;: true}\n",
       "            );\n",
       "        \n",
       "    \n",
       "            var circle_marker_baa6bd2b1e5321b2aa50682cfd7f9d84 = L.circleMarker(\n",
       "                [40.36651825605527, -123.1977678624286],\n",
       "                {&quot;bubblingMouseEvents&quot;: true, &quot;color&quot;: &quot;#3388ff&quot;, &quot;dashArray&quot;: null, &quot;dashOffset&quot;: null, &quot;fill&quot;: false, &quot;fillColor&quot;: &quot;#3388ff&quot;, &quot;fillOpacity&quot;: 0.2, &quot;fillRule&quot;: &quot;evenodd&quot;, &quot;lineCap&quot;: &quot;round&quot;, &quot;lineJoin&quot;: &quot;round&quot;, &quot;opacity&quot;: 1.0, &quot;radius&quot;: 5, &quot;stroke&quot;: true, &quot;weight&quot;: 3}\n",
       "            ).addTo(map_cf381d96e26ecf1d349ab32df6860ca6);\n",
       "        \n",
       "    \n",
       "            circle_marker_baa6bd2b1e5321b2aa50682cfd7f9d84.bindTooltip(\n",
       "                `&lt;div&gt;\n",
       "                     Post Mountain, CA\n",
       "                 &lt;/div&gt;`,\n",
       "                {&quot;sticky&quot;: true}\n",
       "            );\n",
       "        \n",
       "    \n",
       "            var circle_marker_b00c30159150456e9da469d611a9cad7 = L.circleMarker(\n",
       "                [38.037016731174205, -120.4768217803619],\n",
       "                {&quot;bubblingMouseEvents&quot;: true, &quot;color&quot;: &quot;#3388ff&quot;, &quot;dashArray&quot;: null, &quot;dashOffset&quot;: null, &quot;fill&quot;: false, &quot;fillColor&quot;: &quot;#3388ff&quot;, &quot;fillOpacity&quot;: 0.2, &quot;fillRule&quot;: &quot;evenodd&quot;, &quot;lineCap&quot;: &quot;round&quot;, &quot;lineJoin&quot;: &quot;round&quot;, &quot;opacity&quot;: 1.0, &quot;radius&quot;: 5, &quot;stroke&quot;: true, &quot;weight&quot;: 3}\n",
       "            ).addTo(map_cf381d96e26ecf1d349ab32df6860ca6);\n",
       "        \n",
       "    \n",
       "            circle_marker_b00c30159150456e9da469d611a9cad7.bindTooltip(\n",
       "                `&lt;div&gt;\n",
       "                     Vallecito, CA\n",
       "                 &lt;/div&gt;`,\n",
       "                {&quot;sticky&quot;: true}\n",
       "            );\n",
       "        \n",
       "    \n",
       "            var circle_marker_a066d68993fabe0e6789f055c1bb1188 = L.circleMarker(\n",
       "                [32.46459160136102, -97.76619390547084],\n",
       "                {&quot;bubblingMouseEvents&quot;: true, &quot;color&quot;: &quot;#3388ff&quot;, &quot;dashArray&quot;: null, &quot;dashOffset&quot;: null, &quot;fill&quot;: false, &quot;fillColor&quot;: &quot;#3388ff&quot;, &quot;fillOpacity&quot;: 0.2, &quot;fillRule&quot;: &quot;evenodd&quot;, &quot;lineCap&quot;: &quot;round&quot;, &quot;lineJoin&quot;: &quot;round&quot;, &quot;opacity&quot;: 1.0, &quot;radius&quot;: 5, &quot;stroke&quot;: true, &quot;weight&quot;: 3}\n",
       "            ).addTo(map_cf381d96e26ecf1d349ab32df6860ca6);\n",
       "        \n",
       "    \n",
       "            circle_marker_a066d68993fabe0e6789f055c1bb1188.bindTooltip(\n",
       "                `&lt;div&gt;\n",
       "                     Granbury, TX\n",
       "                 &lt;/div&gt;`,\n",
       "                {&quot;sticky&quot;: true}\n",
       "            );\n",
       "        \n",
       "    \n",
       "            var circle_marker_537cfa05a0cc579a9ee9e295ff0525e9 = L.circleMarker(\n",
       "                [32.93991358838128, -105.90578582015944],\n",
       "                {&quot;bubblingMouseEvents&quot;: true, &quot;color&quot;: &quot;#3388ff&quot;, &quot;dashArray&quot;: null, &quot;dashOffset&quot;: null, &quot;fill&quot;: false, &quot;fillColor&quot;: &quot;#3388ff&quot;, &quot;fillOpacity&quot;: 0.2, &quot;fillRule&quot;: &quot;evenodd&quot;, &quot;lineCap&quot;: &quot;round&quot;, &quot;lineJoin&quot;: &quot;round&quot;, &quot;opacity&quot;: 1.0, &quot;radius&quot;: 5, &quot;stroke&quot;: true, &quot;weight&quot;: 3}\n",
       "            ).addTo(map_cf381d96e26ecf1d349ab32df6860ca6);\n",
       "        \n",
       "    \n",
       "            circle_marker_537cfa05a0cc579a9ee9e295ff0525e9.bindTooltip(\n",
       "                `&lt;div&gt;\n",
       "                     La Luz, NM\n",
       "                 &lt;/div&gt;`,\n",
       "                {&quot;sticky&quot;: true}\n",
       "            );\n",
       "        \n",
       "    \n",
       "            var circle_marker_18ff6880f87dc281c3196248b426730e = L.circleMarker(\n",
       "                [42.80035516610915, -106.42896789730202],\n",
       "                {&quot;bubblingMouseEvents&quot;: true, &quot;color&quot;: &quot;#3388ff&quot;, &quot;dashArray&quot;: null, &quot;dashOffset&quot;: null, &quot;fill&quot;: false, &quot;fillColor&quot;: &quot;#3388ff&quot;, &quot;fillOpacity&quot;: 0.2, &quot;fillRule&quot;: &quot;evenodd&quot;, &quot;lineCap&quot;: &quot;round&quot;, &quot;lineJoin&quot;: &quot;round&quot;, &quot;opacity&quot;: 1.0, &quot;radius&quot;: 5, &quot;stroke&quot;: true, &quot;weight&quot;: 3}\n",
       "            ).addTo(map_cf381d96e26ecf1d349ab32df6860ca6);\n",
       "        \n",
       "    \n",
       "            circle_marker_18ff6880f87dc281c3196248b426730e.bindTooltip(\n",
       "                `&lt;div&gt;\n",
       "                     Red Butte, WY\n",
       "                 &lt;/div&gt;`,\n",
       "                {&quot;sticky&quot;: true}\n",
       "            );\n",
       "        \n",
       "    \n",
       "            var circle_marker_d36429f6e33b7a02ee600ba7fb52b812 = L.circleMarker(\n",
       "                [47.3653979160848, -122.70930927736276],\n",
       "                {&quot;bubblingMouseEvents&quot;: true, &quot;color&quot;: &quot;#3388ff&quot;, &quot;dashArray&quot;: null, &quot;dashOffset&quot;: null, &quot;fill&quot;: false, &quot;fillColor&quot;: &quot;#3388ff&quot;, &quot;fillOpacity&quot;: 0.2, &quot;fillRule&quot;: &quot;evenodd&quot;, &quot;lineCap&quot;: &quot;round&quot;, &quot;lineJoin&quot;: &quot;round&quot;, &quot;opacity&quot;: 1.0, &quot;radius&quot;: 5, &quot;stroke&quot;: true, &quot;weight&quot;: 3}\n",
       "            ).addTo(map_cf381d96e26ecf1d349ab32df6860ca6);\n",
       "        \n",
       "    \n",
       "            circle_marker_d36429f6e33b7a02ee600ba7fb52b812.bindTooltip(\n",
       "                `&lt;div&gt;\n",
       "                     Key Center, WA\n",
       "                 &lt;/div&gt;`,\n",
       "                {&quot;sticky&quot;: true}\n",
       "            );\n",
       "        \n",
       "    \n",
       "            var circle_marker_9f496abd0b2c797278eeed185c0de9ef = L.circleMarker(\n",
       "                [42.14050616027309, -87.98943118249845],\n",
       "                {&quot;bubblingMouseEvents&quot;: true, &quot;color&quot;: &quot;#3388ff&quot;, &quot;dashArray&quot;: null, &quot;dashOffset&quot;: null, &quot;fill&quot;: false, &quot;fillColor&quot;: &quot;#3388ff&quot;, &quot;fillOpacity&quot;: 0.2, &quot;fillRule&quot;: &quot;evenodd&quot;, &quot;lineCap&quot;: &quot;round&quot;, &quot;lineJoin&quot;: &quot;round&quot;, &quot;opacity&quot;: 1.0, &quot;radius&quot;: 5, &quot;stroke&quot;: true, &quot;weight&quot;: 3}\n",
       "            ).addTo(map_cf381d96e26ecf1d349ab32df6860ca6);\n",
       "        \n",
       "    \n",
       "            circle_marker_9f496abd0b2c797278eeed185c0de9ef.bindTooltip(\n",
       "                `&lt;div&gt;\n",
       "                     Buffalo Grove, IL\n",
       "                 &lt;/div&gt;`,\n",
       "                {&quot;sticky&quot;: true}\n",
       "            );\n",
       "        \n",
       "    \n",
       "            var circle_marker_086c2e2193c34867a4930cf579f62d20 = L.circleMarker(\n",
       "                [39.5078190180168, -80.5773085413465],\n",
       "                {&quot;bubblingMouseEvents&quot;: true, &quot;color&quot;: &quot;#3388ff&quot;, &quot;dashArray&quot;: null, &quot;dashOffset&quot;: null, &quot;fill&quot;: false, &quot;fillColor&quot;: &quot;#3388ff&quot;, &quot;fillOpacity&quot;: 0.2, &quot;fillRule&quot;: &quot;evenodd&quot;, &quot;lineCap&quot;: &quot;round&quot;, &quot;lineJoin&quot;: &quot;round&quot;, &quot;opacity&quot;: 1.0, &quot;radius&quot;: 5, &quot;stroke&quot;: true, &quot;weight&quot;: 3}\n",
       "            ).addTo(map_cf381d96e26ecf1d349ab32df6860ca6);\n",
       "        \n",
       "    \n",
       "            circle_marker_086c2e2193c34867a4930cf579f62d20.bindTooltip(\n",
       "                `&lt;div&gt;\n",
       "                     Smithfield, WV\n",
       "                 &lt;/div&gt;`,\n",
       "                {&quot;sticky&quot;: true}\n",
       "            );\n",
       "        \n",
       "    \n",
       "            var circle_marker_ebb1f48fcf719cb33e0500289da0ed17 = L.circleMarker(\n",
       "                [38.981951729103976, -75.82687309708261],\n",
       "                {&quot;bubblingMouseEvents&quot;: true, &quot;color&quot;: &quot;#3388ff&quot;, &quot;dashArray&quot;: null, &quot;dashOffset&quot;: null, &quot;fill&quot;: false, &quot;fillColor&quot;: &quot;#3388ff&quot;, &quot;fillOpacity&quot;: 0.2, &quot;fillRule&quot;: &quot;evenodd&quot;, &quot;lineCap&quot;: &quot;round&quot;, &quot;lineJoin&quot;: &quot;round&quot;, &quot;opacity&quot;: 1.0, &quot;radius&quot;: 5, &quot;stroke&quot;: true, &quot;weight&quot;: 3}\n",
       "            ).addTo(map_cf381d96e26ecf1d349ab32df6860ca6);\n",
       "        \n",
       "    \n",
       "            circle_marker_ebb1f48fcf719cb33e0500289da0ed17.bindTooltip(\n",
       "                `&lt;div&gt;\n",
       "                     Goldsboro, MD\n",
       "                 &lt;/div&gt;`,\n",
       "                {&quot;sticky&quot;: true}\n",
       "            );\n",
       "        \n",
       "    \n",
       "            var circle_marker_052082cbe69344185036f81ae734f0ea = L.circleMarker(\n",
       "                [33.933778806616694, -84.25901838492808],\n",
       "                {&quot;bubblingMouseEvents&quot;: true, &quot;color&quot;: &quot;#3388ff&quot;, &quot;dashArray&quot;: null, &quot;dashOffset&quot;: null, &quot;fill&quot;: false, &quot;fillColor&quot;: &quot;#3388ff&quot;, &quot;fillOpacity&quot;: 0.2, &quot;fillRule&quot;: &quot;evenodd&quot;, &quot;lineCap&quot;: &quot;round&quot;, &quot;lineJoin&quot;: &quot;round&quot;, &quot;opacity&quot;: 1.0, &quot;radius&quot;: 5, &quot;stroke&quot;: true, &quot;weight&quot;: 3}\n",
       "            ).addTo(map_cf381d96e26ecf1d349ab32df6860ca6);\n",
       "        \n",
       "    \n",
       "            circle_marker_052082cbe69344185036f81ae734f0ea.bindTooltip(\n",
       "                `&lt;div&gt;\n",
       "                     Peachtree Corners, GA\n",
       "                 &lt;/div&gt;`,\n",
       "                {&quot;sticky&quot;: true}\n",
       "            );\n",
       "        \n",
       "    \n",
       "            var circle_marker_4d8007675c45d38be7ea08b8070d4e87 = L.circleMarker(\n",
       "                [40.78570686486085, -73.7451536457876],\n",
       "                {&quot;bubblingMouseEvents&quot;: true, &quot;color&quot;: &quot;#3388ff&quot;, &quot;dashArray&quot;: null, &quot;dashOffset&quot;: null, &quot;fill&quot;: false, &quot;fillColor&quot;: &quot;#3388ff&quot;, &quot;fillOpacity&quot;: 0.2, &quot;fillRule&quot;: &quot;evenodd&quot;, &quot;lineCap&quot;: &quot;round&quot;, &quot;lineJoin&quot;: &quot;round&quot;, &quot;opacity&quot;: 1.0, &quot;radius&quot;: 5, &quot;stroke&quot;: true, &quot;weight&quot;: 3}\n",
       "            ).addTo(map_cf381d96e26ecf1d349ab32df6860ca6);\n",
       "        \n",
       "    \n",
       "            circle_marker_4d8007675c45d38be7ea08b8070d4e87.bindTooltip(\n",
       "                `&lt;div&gt;\n",
       "                     Great Neck Plaza, NY\n",
       "                 &lt;/div&gt;`,\n",
       "                {&quot;sticky&quot;: true}\n",
       "            );\n",
       "        \n",
       "    \n",
       "            var circle_marker_a9df0d8848394cefa4416b79fb941506 = L.circleMarker(\n",
       "                [42.49499121146226, -71.52253235694052],\n",
       "                {&quot;bubblingMouseEvents&quot;: true, &quot;color&quot;: &quot;#3388ff&quot;, &quot;dashArray&quot;: null, &quot;dashOffset&quot;: null, &quot;fill&quot;: false, &quot;fillColor&quot;: &quot;#3388ff&quot;, &quot;fillOpacity&quot;: 0.2, &quot;fillRule&quot;: &quot;evenodd&quot;, &quot;lineCap&quot;: &quot;round&quot;, &quot;lineJoin&quot;: &quot;round&quot;, &quot;opacity&quot;: 1.0, &quot;radius&quot;: 5, &quot;stroke&quot;: true, &quot;weight&quot;: 3}\n",
       "            ).addTo(map_cf381d96e26ecf1d349ab32df6860ca6);\n",
       "        \n",
       "    \n",
       "            circle_marker_a9df0d8848394cefa4416b79fb941506.bindTooltip(\n",
       "                `&lt;div&gt;\n",
       "                     Littleton Common, MA\n",
       "                 &lt;/div&gt;`,\n",
       "                {&quot;sticky&quot;: true}\n",
       "            );\n",
       "        \n",
       "    \n",
       "            var circle_marker_6c43bb88f3b49c00040756f09f973cf1 = L.circleMarker(\n",
       "                [35.367077540778936, -93.51053421543315],\n",
       "                {&quot;bubblingMouseEvents&quot;: true, &quot;color&quot;: &quot;#3388ff&quot;, &quot;dashArray&quot;: null, &quot;dashOffset&quot;: null, &quot;fill&quot;: false, &quot;fillColor&quot;: &quot;#3388ff&quot;, &quot;fillOpacity&quot;: 0.2, &quot;fillRule&quot;: &quot;evenodd&quot;, &quot;lineCap&quot;: &quot;round&quot;, &quot;lineJoin&quot;: &quot;round&quot;, &quot;opacity&quot;: 1.0, &quot;radius&quot;: 5, &quot;stroke&quot;: true, &quot;weight&quot;: 3}\n",
       "            ).addTo(map_cf381d96e26ecf1d349ab32df6860ca6);\n",
       "        \n",
       "    \n",
       "            circle_marker_6c43bb88f3b49c00040756f09f973cf1.bindTooltip(\n",
       "                `&lt;div&gt;\n",
       "                     Morrison Bluff, AR\n",
       "                 &lt;/div&gt;`,\n",
       "                {&quot;sticky&quot;: true}\n",
       "            );\n",
       "        \n",
       "    \n",
       "            var circle_marker_b83bf6077b9a7a290461a31537f97c43 = L.circleMarker(\n",
       "                [36.69354905483559, -102.4799726468468],\n",
       "                {&quot;bubblingMouseEvents&quot;: true, &quot;color&quot;: &quot;#3388ff&quot;, &quot;dashArray&quot;: null, &quot;dashOffset&quot;: null, &quot;fill&quot;: false, &quot;fillColor&quot;: &quot;#3388ff&quot;, &quot;fillOpacity&quot;: 0.2, &quot;fillRule&quot;: &quot;evenodd&quot;, &quot;lineCap&quot;: &quot;round&quot;, &quot;lineJoin&quot;: &quot;round&quot;, &quot;opacity&quot;: 1.0, &quot;radius&quot;: 5, &quot;stroke&quot;: true, &quot;weight&quot;: 3}\n",
       "            ).addTo(map_cf381d96e26ecf1d349ab32df6860ca6);\n",
       "        \n",
       "    \n",
       "            circle_marker_b83bf6077b9a7a290461a31537f97c43.bindTooltip(\n",
       "                `&lt;div&gt;\n",
       "                     Boise City, OK\n",
       "                 &lt;/div&gt;`,\n",
       "                {&quot;sticky&quot;: true}\n",
       "            );\n",
       "        \n",
       "    \n",
       "            var circle_marker_4f8a194b4f7c761e6c3d936fd5c23d90 = L.circleMarker(\n",
       "                [37.95482926227878, -98.7395658612202],\n",
       "                {&quot;bubblingMouseEvents&quot;: true, &quot;color&quot;: &quot;#3388ff&quot;, &quot;dashArray&quot;: null, &quot;dashOffset&quot;: null, &quot;fill&quot;: false, &quot;fillColor&quot;: &quot;#3388ff&quot;, &quot;fillOpacity&quot;: 0.2, &quot;fillRule&quot;: &quot;evenodd&quot;, &quot;lineCap&quot;: &quot;round&quot;, &quot;lineJoin&quot;: &quot;round&quot;, &quot;opacity&quot;: 1.0, &quot;radius&quot;: 5, &quot;stroke&quot;: true, &quot;weight&quot;: 3}\n",
       "            ).addTo(map_cf381d96e26ecf1d349ab32df6860ca6);\n",
       "        \n",
       "    \n",
       "            circle_marker_4f8a194b4f7c761e6c3d936fd5c23d90.bindTooltip(\n",
       "                `&lt;div&gt;\n",
       "                     St. John, KS\n",
       "                 &lt;/div&gt;`,\n",
       "                {&quot;sticky&quot;: true}\n",
       "            );\n",
       "        \n",
       "    \n",
       "            var circle_marker_948655e917d60322e896581f2d61d7a6 = L.circleMarker(\n",
       "                [38.29988996787311, -75.75106335215789],\n",
       "                {&quot;bubblingMouseEvents&quot;: true, &quot;color&quot;: &quot;#3388ff&quot;, &quot;dashArray&quot;: null, &quot;dashOffset&quot;: null, &quot;fill&quot;: false, &quot;fillColor&quot;: &quot;#3388ff&quot;, &quot;fillOpacity&quot;: 0.2, &quot;fillRule&quot;: &quot;evenodd&quot;, &quot;lineCap&quot;: &quot;round&quot;, &quot;lineJoin&quot;: &quot;round&quot;, &quot;opacity&quot;: 1.0, &quot;radius&quot;: 5, &quot;stroke&quot;: true, &quot;weight&quot;: 3}\n",
       "            ).addTo(map_cf381d96e26ecf1d349ab32df6860ca6);\n",
       "        \n",
       "    \n",
       "            circle_marker_948655e917d60322e896581f2d61d7a6.bindTooltip(\n",
       "                `&lt;div&gt;\n",
       "                     Whitehaven, MD\n",
       "                 &lt;/div&gt;`,\n",
       "                {&quot;sticky&quot;: true}\n",
       "            );\n",
       "        \n",
       "    \n",
       "            var circle_marker_41c723c767c1e82c828c44dfd2fcea65 = L.circleMarker(\n",
       "                [44.13300196604977, -73.4892158603173],\n",
       "                {&quot;bubblingMouseEvents&quot;: true, &quot;color&quot;: &quot;#3388ff&quot;, &quot;dashArray&quot;: null, &quot;dashOffset&quot;: null, &quot;fill&quot;: false, &quot;fillColor&quot;: &quot;#3388ff&quot;, &quot;fillOpacity&quot;: 0.2, &quot;fillRule&quot;: &quot;evenodd&quot;, &quot;lineCap&quot;: &quot;round&quot;, &quot;lineJoin&quot;: &quot;round&quot;, &quot;opacity&quot;: 1.0, &quot;radius&quot;: 5, &quot;stroke&quot;: true, &quot;weight&quot;: 3}\n",
       "            ).addTo(map_cf381d96e26ecf1d349ab32df6860ca6);\n",
       "        \n",
       "    \n",
       "            circle_marker_41c723c767c1e82c828c44dfd2fcea65.bindTooltip(\n",
       "                `&lt;div&gt;\n",
       "                     Mineville, NY\n",
       "                 &lt;/div&gt;`,\n",
       "                {&quot;sticky&quot;: true}\n",
       "            );\n",
       "        \n",
       "    \n",
       "            var circle_marker_54bc6a79046e54e1664e586bc4843048 = L.circleMarker(\n",
       "                [40.53814260947542, -96.67143284168446],\n",
       "                {&quot;bubblingMouseEvents&quot;: true, &quot;color&quot;: &quot;#3388ff&quot;, &quot;dashArray&quot;: null, &quot;dashOffset&quot;: null, &quot;fill&quot;: false, &quot;fillColor&quot;: &quot;#3388ff&quot;, &quot;fillOpacity&quot;: 0.2, &quot;fillRule&quot;: &quot;evenodd&quot;, &quot;lineCap&quot;: &quot;round&quot;, &quot;lineJoin&quot;: &quot;round&quot;, &quot;opacity&quot;: 1.0, &quot;radius&quot;: 5, &quot;stroke&quot;: true, &quot;weight&quot;: 3}\n",
       "            ).addTo(map_cf381d96e26ecf1d349ab32df6860ca6);\n",
       "        \n",
       "    \n",
       "            circle_marker_54bc6a79046e54e1664e586bc4843048.bindTooltip(\n",
       "                `&lt;div&gt;\n",
       "                     Princeton, NE\n",
       "                 &lt;/div&gt;`,\n",
       "                {&quot;sticky&quot;: true}\n",
       "            );\n",
       "        \n",
       "    \n",
       "            var circle_marker_e4e229b13b40e69438decce09fed1809 = L.circleMarker(\n",
       "                [38.56590863712649, -89.2388695374909],\n",
       "                {&quot;bubblingMouseEvents&quot;: true, &quot;color&quot;: &quot;#3388ff&quot;, &quot;dashArray&quot;: null, &quot;dashOffset&quot;: null, &quot;fill&quot;: false, &quot;fillColor&quot;: &quot;#3388ff&quot;, &quot;fillOpacity&quot;: 0.2, &quot;fillRule&quot;: &quot;evenodd&quot;, &quot;lineCap&quot;: &quot;round&quot;, &quot;lineJoin&quot;: &quot;round&quot;, &quot;opacity&quot;: 1.0, &quot;radius&quot;: 5, &quot;stroke&quot;: true, &quot;weight&quot;: 3}\n",
       "            ).addTo(map_cf381d96e26ecf1d349ab32df6860ca6);\n",
       "        \n",
       "    \n",
       "            circle_marker_e4e229b13b40e69438decce09fed1809.bindTooltip(\n",
       "                `&lt;div&gt;\n",
       "                     Hoffman, IL\n",
       "                 &lt;/div&gt;`,\n",
       "                {&quot;sticky&quot;: true}\n",
       "            );\n",
       "        \n",
       "    \n",
       "            var circle_marker_e7118fdd246b9da95d82587dee202435 = L.circleMarker(\n",
       "                [55.07506845899962, -162.2610631557263],\n",
       "                {&quot;bubblingMouseEvents&quot;: true, &quot;color&quot;: &quot;#3388ff&quot;, &quot;dashArray&quot;: null, &quot;dashOffset&quot;: null, &quot;fill&quot;: false, &quot;fillColor&quot;: &quot;#3388ff&quot;, &quot;fillOpacity&quot;: 0.2, &quot;fillRule&quot;: &quot;evenodd&quot;, &quot;lineCap&quot;: &quot;round&quot;, &quot;lineJoin&quot;: &quot;round&quot;, &quot;opacity&quot;: 1.0, &quot;radius&quot;: 5, &quot;stroke&quot;: true, &quot;weight&quot;: 3}\n",
       "            ).addTo(map_cf381d96e26ecf1d349ab32df6860ca6);\n",
       "        \n",
       "    \n",
       "            circle_marker_e7118fdd246b9da95d82587dee202435.bindTooltip(\n",
       "                `&lt;div&gt;\n",
       "                     King Cove, AK\n",
       "                 &lt;/div&gt;`,\n",
       "                {&quot;sticky&quot;: true}\n",
       "            );\n",
       "        \n",
       "    \n",
       "            var circle_marker_ae3abd10b94803e34a4c356cbcf40619 = L.circleMarker(\n",
       "                [35.41927843497409, -109.52988846226148],\n",
       "                {&quot;bubblingMouseEvents&quot;: true, &quot;color&quot;: &quot;#3388ff&quot;, &quot;dashArray&quot;: null, &quot;dashOffset&quot;: null, &quot;fill&quot;: false, &quot;fillColor&quot;: &quot;#3388ff&quot;, &quot;fillOpacity&quot;: 0.2, &quot;fillRule&quot;: &quot;evenodd&quot;, &quot;lineCap&quot;: &quot;round&quot;, &quot;lineJoin&quot;: &quot;round&quot;, &quot;opacity&quot;: 1.0, &quot;radius&quot;: 5, &quot;stroke&quot;: true, &quot;weight&quot;: 3}\n",
       "            ).addTo(map_cf381d96e26ecf1d349ab32df6860ca6);\n",
       "        \n",
       "    \n",
       "            circle_marker_ae3abd10b94803e34a4c356cbcf40619.bindTooltip(\n",
       "                `&lt;div&gt;\n",
       "                     Wide Ruins, AZ\n",
       "                 &lt;/div&gt;`,\n",
       "                {&quot;sticky&quot;: true}\n",
       "            );\n",
       "        \n",
       "    \n",
       "            var circle_marker_76cbc472acfd6b732767616c8578d640 = L.circleMarker(\n",
       "                [41.27843722453651, -81.06260519492615],\n",
       "                {&quot;bubblingMouseEvents&quot;: true, &quot;color&quot;: &quot;#3388ff&quot;, &quot;dashArray&quot;: null, &quot;dashOffset&quot;: null, &quot;fill&quot;: false, &quot;fillColor&quot;: &quot;#3388ff&quot;, &quot;fillOpacity&quot;: 0.2, &quot;fillRule&quot;: &quot;evenodd&quot;, &quot;lineCap&quot;: &quot;round&quot;, &quot;lineJoin&quot;: &quot;round&quot;, &quot;opacity&quot;: 1.0, &quot;radius&quot;: 5, &quot;stroke&quot;: true, &quot;weight&quot;: 3}\n",
       "            ).addTo(map_cf381d96e26ecf1d349ab32df6860ca6);\n",
       "        \n",
       "    \n",
       "            circle_marker_76cbc472acfd6b732767616c8578d640.bindTooltip(\n",
       "                `&lt;div&gt;\n",
       "                     Windham, OH\n",
       "                 &lt;/div&gt;`,\n",
       "                {&quot;sticky&quot;: true}\n",
       "            );\n",
       "        \n",
       "    \n",
       "            var circle_marker_0d91540b50e118772d5d8521a9156b6f = L.circleMarker(\n",
       "                [36.12815479313746, -94.8976079748066],\n",
       "                {&quot;bubblingMouseEvents&quot;: true, &quot;color&quot;: &quot;#3388ff&quot;, &quot;dashArray&quot;: null, &quot;dashOffset&quot;: null, &quot;fill&quot;: false, &quot;fillColor&quot;: &quot;#3388ff&quot;, &quot;fillOpacity&quot;: 0.2, &quot;fillRule&quot;: &quot;evenodd&quot;, &quot;lineCap&quot;: &quot;round&quot;, &quot;lineJoin&quot;: &quot;round&quot;, &quot;opacity&quot;: 1.0, &quot;radius&quot;: 5, &quot;stroke&quot;: true, &quot;weight&quot;: 3}\n",
       "            ).addTo(map_cf381d96e26ecf1d349ab32df6860ca6);\n",
       "        \n",
       "    \n",
       "            circle_marker_0d91540b50e118772d5d8521a9156b6f.bindTooltip(\n",
       "                `&lt;div&gt;\n",
       "                     Oaks, OK\n",
       "                 &lt;/div&gt;`,\n",
       "                {&quot;sticky&quot;: true}\n",
       "            );\n",
       "        \n",
       "    \n",
       "            var circle_marker_f62068da1b43c97bbcb8b173b8c1907a = L.circleMarker(\n",
       "                [41.944575580142825, -72.1992281117006],\n",
       "                {&quot;bubblingMouseEvents&quot;: true, &quot;color&quot;: &quot;#3388ff&quot;, &quot;dashArray&quot;: null, &quot;dashOffset&quot;: null, &quot;fill&quot;: false, &quot;fillColor&quot;: &quot;#3388ff&quot;, &quot;fillOpacity&quot;: 0.2, &quot;fillRule&quot;: &quot;evenodd&quot;, &quot;lineCap&quot;: &quot;round&quot;, &quot;lineJoin&quot;: &quot;round&quot;, &quot;opacity&quot;: 1.0, &quot;radius&quot;: 5, &quot;stroke&quot;: true, &quot;weight&quot;: 3}\n",
       "            ).addTo(map_cf381d96e26ecf1d349ab32df6860ca6);\n",
       "        \n",
       "    \n",
       "            circle_marker_f62068da1b43c97bbcb8b173b8c1907a.bindTooltip(\n",
       "                `&lt;div&gt;\n",
       "                     Lake Chaffee, CT\n",
       "                 &lt;/div&gt;`,\n",
       "                {&quot;sticky&quot;: true}\n",
       "            );\n",
       "        \n",
       "    \n",
       "            var circle_marker_28ea004a4030feeb2958d4769493060c = L.circleMarker(\n",
       "                [36.43159175797839, -80.42460126046342],\n",
       "                {&quot;bubblingMouseEvents&quot;: true, &quot;color&quot;: &quot;#3388ff&quot;, &quot;dashArray&quot;: null, &quot;dashOffset&quot;: null, &quot;fill&quot;: false, &quot;fillColor&quot;: &quot;#3388ff&quot;, &quot;fillOpacity&quot;: 0.2, &quot;fillRule&quot;: &quot;evenodd&quot;, &quot;lineCap&quot;: &quot;round&quot;, &quot;lineJoin&quot;: &quot;round&quot;, &quot;opacity&quot;: 1.0, &quot;radius&quot;: 5, &quot;stroke&quot;: true, &quot;weight&quot;: 3}\n",
       "            ).addTo(map_cf381d96e26ecf1d349ab32df6860ca6);\n",
       "        \n",
       "    \n",
       "            circle_marker_28ea004a4030feeb2958d4769493060c.bindTooltip(\n",
       "                `&lt;div&gt;\n",
       "                     Pilot Mountain, NC\n",
       "                 &lt;/div&gt;`,\n",
       "                {&quot;sticky&quot;: true}\n",
       "            );\n",
       "        \n",
       "    \n",
       "            var circle_marker_e50ce900967476e2c73b8f96d04daedd = L.circleMarker(\n",
       "                [35.42253595808615, -81.07346664007666],\n",
       "                {&quot;bubblingMouseEvents&quot;: true, &quot;color&quot;: &quot;#3388ff&quot;, &quot;dashArray&quot;: null, &quot;dashOffset&quot;: null, &quot;fill&quot;: false, &quot;fillColor&quot;: &quot;#3388ff&quot;, &quot;fillOpacity&quot;: 0.2, &quot;fillRule&quot;: &quot;evenodd&quot;, &quot;lineCap&quot;: &quot;round&quot;, &quot;lineJoin&quot;: &quot;round&quot;, &quot;opacity&quot;: 1.0, &quot;radius&quot;: 5, &quot;stroke&quot;: true, &quot;weight&quot;: 3}\n",
       "            ).addTo(map_cf381d96e26ecf1d349ab32df6860ca6);\n",
       "        \n",
       "    \n",
       "            circle_marker_e50ce900967476e2c73b8f96d04daedd.bindTooltip(\n",
       "                `&lt;div&gt;\n",
       "                     Alexis, NC\n",
       "                 &lt;/div&gt;`,\n",
       "                {&quot;sticky&quot;: true}\n",
       "            );\n",
       "        \n",
       "    \n",
       "            var circle_marker_183e7e86526e53634259b964a68a82fe = L.circleMarker(\n",
       "                [36.23327944544019, -90.69836427512936],\n",
       "                {&quot;bubblingMouseEvents&quot;: true, &quot;color&quot;: &quot;#3388ff&quot;, &quot;dashArray&quot;: null, &quot;dashOffset&quot;: null, &quot;fill&quot;: false, &quot;fillColor&quot;: &quot;#3388ff&quot;, &quot;fillOpacity&quot;: 0.2, &quot;fillRule&quot;: &quot;evenodd&quot;, &quot;lineCap&quot;: &quot;round&quot;, &quot;lineJoin&quot;: &quot;round&quot;, &quot;opacity&quot;: 1.0, &quot;radius&quot;: 5, &quot;stroke&quot;: true, &quot;weight&quot;: 3}\n",
       "            ).addTo(map_cf381d96e26ecf1d349ab32df6860ca6);\n",
       "        \n",
       "    \n",
       "            circle_marker_183e7e86526e53634259b964a68a82fe.bindTooltip(\n",
       "                `&lt;div&gt;\n",
       "                     Peach Orchard, AR\n",
       "                 &lt;/div&gt;`,\n",
       "                {&quot;sticky&quot;: true}\n",
       "            );\n",
       "        \n",
       "    \n",
       "            var circle_marker_26931598baa862b311af812f6c4f2da7 = L.circleMarker(\n",
       "                [45.32073420074913, -100.86595389944702],\n",
       "                {&quot;bubblingMouseEvents&quot;: true, &quot;color&quot;: &quot;#3388ff&quot;, &quot;dashArray&quot;: null, &quot;dashOffset&quot;: null, &quot;fill&quot;: false, &quot;fillColor&quot;: &quot;#3388ff&quot;, &quot;fillOpacity&quot;: 0.2, &quot;fillRule&quot;: &quot;evenodd&quot;, &quot;lineCap&quot;: &quot;round&quot;, &quot;lineJoin&quot;: &quot;round&quot;, &quot;opacity&quot;: 1.0, &quot;radius&quot;: 5, &quot;stroke&quot;: true, &quot;weight&quot;: 3}\n",
       "            ).addTo(map_cf381d96e26ecf1d349ab32df6860ca6);\n",
       "        \n",
       "    \n",
       "            circle_marker_26931598baa862b311af812f6c4f2da7.bindTooltip(\n",
       "                `&lt;div&gt;\n",
       "                     Whitehorse, SD\n",
       "                 &lt;/div&gt;`,\n",
       "                {&quot;sticky&quot;: true}\n",
       "            );\n",
       "        \n",
       "    \n",
       "            var circle_marker_7d93359325f18bbd6dda272d35969fee = L.circleMarker(\n",
       "                [47.11535355235062, -122.48945959692128],\n",
       "                {&quot;bubblingMouseEvents&quot;: true, &quot;color&quot;: &quot;#3388ff&quot;, &quot;dashArray&quot;: null, &quot;dashOffset&quot;: null, &quot;fill&quot;: false, &quot;fillColor&quot;: &quot;#3388ff&quot;, &quot;fillOpacity&quot;: 0.2, &quot;fillRule&quot;: &quot;evenodd&quot;, &quot;lineCap&quot;: &quot;round&quot;, &quot;lineJoin&quot;: &quot;round&quot;, &quot;opacity&quot;: 1.0, &quot;radius&quot;: 5, &quot;stroke&quot;: true, &quot;weight&quot;: 3}\n",
       "            ).addTo(map_cf381d96e26ecf1d349ab32df6860ca6);\n",
       "        \n",
       "    \n",
       "            circle_marker_7d93359325f18bbd6dda272d35969fee.bindTooltip(\n",
       "                `&lt;div&gt;\n",
       "                     McChord AFB, WA\n",
       "                 &lt;/div&gt;`,\n",
       "                {&quot;sticky&quot;: true}\n",
       "            );\n",
       "        \n",
       "    \n",
       "            var circle_marker_aa7a770e6c971961f7506b935a98ae25 = L.circleMarker(\n",
       "                [31.88960156170195, -108.57745258834524],\n",
       "                {&quot;bubblingMouseEvents&quot;: true, &quot;color&quot;: &quot;#3388ff&quot;, &quot;dashArray&quot;: null, &quot;dashOffset&quot;: null, &quot;fill&quot;: false, &quot;fillColor&quot;: &quot;#3388ff&quot;, &quot;fillOpacity&quot;: 0.2, &quot;fillRule&quot;: &quot;evenodd&quot;, &quot;lineCap&quot;: &quot;round&quot;, &quot;lineJoin&quot;: &quot;round&quot;, &quot;opacity&quot;: 1.0, &quot;radius&quot;: 5, &quot;stroke&quot;: true, &quot;weight&quot;: 3}\n",
       "            ).addTo(map_cf381d96e26ecf1d349ab32df6860ca6);\n",
       "        \n",
       "    \n",
       "            circle_marker_aa7a770e6c971961f7506b935a98ae25.bindTooltip(\n",
       "                `&lt;div&gt;\n",
       "                     Playas, NM\n",
       "                 &lt;/div&gt;`,\n",
       "                {&quot;sticky&quot;: true}\n",
       "            );\n",
       "        \n",
       "    \n",
       "            var circle_marker_db74464921d9dfbbd0d8ce27912ac16e = L.circleMarker(\n",
       "                [37.93747368560268, -96.15940432967464],\n",
       "                {&quot;bubblingMouseEvents&quot;: true, &quot;color&quot;: &quot;#3388ff&quot;, &quot;dashArray&quot;: null, &quot;dashOffset&quot;: null, &quot;fill&quot;: false, &quot;fillColor&quot;: &quot;#3388ff&quot;, &quot;fillOpacity&quot;: 0.2, &quot;fillRule&quot;: &quot;evenodd&quot;, &quot;lineCap&quot;: &quot;round&quot;, &quot;lineJoin&quot;: &quot;round&quot;, &quot;opacity&quot;: 1.0, &quot;radius&quot;: 5, &quot;stroke&quot;: true, &quot;weight&quot;: 3}\n",
       "            ).addTo(map_cf381d96e26ecf1d349ab32df6860ca6);\n",
       "        \n",
       "    \n",
       "            circle_marker_db74464921d9dfbbd0d8ce27912ac16e.bindTooltip(\n",
       "                `&lt;div&gt;\n",
       "                     Hamilton, KS\n",
       "                 &lt;/div&gt;`,\n",
       "                {&quot;sticky&quot;: true}\n",
       "            );\n",
       "        \n",
       "    \n",
       "            var circle_marker_52c3ff08b53461440b60ec65f6f6aef9 = L.circleMarker(\n",
       "                [41.75931796382294, -87.90280842628093],\n",
       "                {&quot;bubblingMouseEvents&quot;: true, &quot;color&quot;: &quot;#3388ff&quot;, &quot;dashArray&quot;: null, &quot;dashOffset&quot;: null, &quot;fill&quot;: false, &quot;fillColor&quot;: &quot;#3388ff&quot;, &quot;fillOpacity&quot;: 0.2, &quot;fillRule&quot;: &quot;evenodd&quot;, &quot;lineCap&quot;: &quot;round&quot;, &quot;lineJoin&quot;: &quot;round&quot;, &quot;opacity&quot;: 1.0, &quot;radius&quot;: 5, &quot;stroke&quot;: true, &quot;weight&quot;: 3}\n",
       "            ).addTo(map_cf381d96e26ecf1d349ab32df6860ca6);\n",
       "        \n",
       "    \n",
       "            circle_marker_52c3ff08b53461440b60ec65f6f6aef9.bindTooltip(\n",
       "                `&lt;div&gt;\n",
       "                     Countryside, IL\n",
       "                 &lt;/div&gt;`,\n",
       "                {&quot;sticky&quot;: true}\n",
       "            );\n",
       "        \n",
       "    \n",
       "            var circle_marker_60439adeae803ee3f5bb2dcf4b1cd988 = L.circleMarker(\n",
       "                [38.98198587569164, -87.79284037786152],\n",
       "                {&quot;bubblingMouseEvents&quot;: true, &quot;color&quot;: &quot;#3388ff&quot;, &quot;dashArray&quot;: null, &quot;dashOffset&quot;: null, &quot;fill&quot;: false, &quot;fillColor&quot;: &quot;#3388ff&quot;, &quot;fillOpacity&quot;: 0.2, &quot;fillRule&quot;: &quot;evenodd&quot;, &quot;lineCap&quot;: &quot;round&quot;, &quot;lineJoin&quot;: &quot;round&quot;, &quot;opacity&quot;: 1.0, &quot;radius&quot;: 5, &quot;stroke&quot;: true, &quot;weight&quot;: 3}\n",
       "            ).addTo(map_cf381d96e26ecf1d349ab32df6860ca6);\n",
       "        \n",
       "    \n",
       "            circle_marker_60439adeae803ee3f5bb2dcf4b1cd988.bindTooltip(\n",
       "                `&lt;div&gt;\n",
       "                     Stoy, IL\n",
       "                 &lt;/div&gt;`,\n",
       "                {&quot;sticky&quot;: true}\n",
       "            );\n",
       "        \n",
       "    \n",
       "            var circle_marker_dcf8233fce500c48bce51986aaaef6a0 = L.circleMarker(\n",
       "                [44.25584548379079, -91.4568156267138],\n",
       "                {&quot;bubblingMouseEvents&quot;: true, &quot;color&quot;: &quot;#3388ff&quot;, &quot;dashArray&quot;: null, &quot;dashOffset&quot;: null, &quot;fill&quot;: false, &quot;fillColor&quot;: &quot;#3388ff&quot;, &quot;fillOpacity&quot;: 0.2, &quot;fillRule&quot;: &quot;evenodd&quot;, &quot;lineCap&quot;: &quot;round&quot;, &quot;lineJoin&quot;: &quot;round&quot;, &quot;opacity&quot;: 1.0, &quot;radius&quot;: 5, &quot;stroke&quot;: true, &quot;weight&quot;: 3}\n",
       "            ).addTo(map_cf381d96e26ecf1d349ab32df6860ca6);\n",
       "        \n",
       "    \n",
       "            circle_marker_dcf8233fce500c48bce51986aaaef6a0.bindTooltip(\n",
       "                `&lt;div&gt;\n",
       "                     Arcadia, WI\n",
       "                 &lt;/div&gt;`,\n",
       "                {&quot;sticky&quot;: true}\n",
       "            );\n",
       "        \n",
       "    \n",
       "            var circle_marker_e89398f4842d55cf2602252d69c40cf0 = L.circleMarker(\n",
       "                [20.810708510253736, -156.3319624155828],\n",
       "                {&quot;bubblingMouseEvents&quot;: true, &quot;color&quot;: &quot;#3388ff&quot;, &quot;dashArray&quot;: null, &quot;dashOffset&quot;: null, &quot;fill&quot;: false, &quot;fillColor&quot;: &quot;#3388ff&quot;, &quot;fillOpacity&quot;: 0.2, &quot;fillRule&quot;: &quot;evenodd&quot;, &quot;lineCap&quot;: &quot;round&quot;, &quot;lineJoin&quot;: &quot;round&quot;, &quot;opacity&quot;: 1.0, &quot;radius&quot;: 5, &quot;stroke&quot;: true, &quot;weight&quot;: 3}\n",
       "            ).addTo(map_cf381d96e26ecf1d349ab32df6860ca6);\n",
       "        \n",
       "    \n",
       "            circle_marker_e89398f4842d55cf2602252d69c40cf0.bindTooltip(\n",
       "                `&lt;div&gt;\n",
       "                     Kula, HI\n",
       "                 &lt;/div&gt;`,\n",
       "                {&quot;sticky&quot;: true}\n",
       "            );\n",
       "        \n",
       "    \n",
       "            var circle_marker_529ba3c3c97a8136f401ececca1f1745 = L.circleMarker(\n",
       "                [21.43401237657515, -158.02372779852686],\n",
       "                {&quot;bubblingMouseEvents&quot;: true, &quot;color&quot;: &quot;#3388ff&quot;, &quot;dashArray&quot;: null, &quot;dashOffset&quot;: null, &quot;fill&quot;: false, &quot;fillColor&quot;: &quot;#3388ff&quot;, &quot;fillOpacity&quot;: 0.2, &quot;fillRule&quot;: &quot;evenodd&quot;, &quot;lineCap&quot;: &quot;round&quot;, &quot;lineJoin&quot;: &quot;round&quot;, &quot;opacity&quot;: 1.0, &quot;radius&quot;: 5, &quot;stroke&quot;: true, &quot;weight&quot;: 3}\n",
       "            ).addTo(map_cf381d96e26ecf1d349ab32df6860ca6);\n",
       "        \n",
       "    \n",
       "            circle_marker_529ba3c3c97a8136f401ececca1f1745.bindTooltip(\n",
       "                `&lt;div&gt;\n",
       "                     Wheeler AFB, HI\n",
       "                 &lt;/div&gt;`,\n",
       "                {&quot;sticky&quot;: true}\n",
       "            );\n",
       "        \n",
       "    \n",
       "            var circle_marker_8b509247bad1ff87c8ff6353f3f49a39 = L.circleMarker(\n",
       "                [26.313200233783625, -98.60346728986988],\n",
       "                {&quot;bubblingMouseEvents&quot;: true, &quot;color&quot;: &quot;#3388ff&quot;, &quot;dashArray&quot;: null, &quot;dashOffset&quot;: null, &quot;fill&quot;: false, &quot;fillColor&quot;: &quot;#3388ff&quot;, &quot;fillOpacity&quot;: 0.2, &quot;fillRule&quot;: &quot;evenodd&quot;, &quot;lineCap&quot;: &quot;round&quot;, &quot;lineJoin&quot;: &quot;round&quot;, &quot;opacity&quot;: 1.0, &quot;radius&quot;: 5, &quot;stroke&quot;: true, &quot;weight&quot;: 3}\n",
       "            ).addTo(map_cf381d96e26ecf1d349ab32df6860ca6);\n",
       "        \n",
       "    \n",
       "            circle_marker_8b509247bad1ff87c8ff6353f3f49a39.bindTooltip(\n",
       "                `&lt;div&gt;\n",
       "                     Longoria, TX\n",
       "                 &lt;/div&gt;`,\n",
       "                {&quot;sticky&quot;: true}\n",
       "            );\n",
       "        \n",
       "    \n",
       "            var circle_marker_ef0c9a8aeb8dc7361a8203e490016fb2 = L.circleMarker(\n",
       "                [34.6434476817187, -87.68443844976314],\n",
       "                {&quot;bubblingMouseEvents&quot;: true, &quot;color&quot;: &quot;#3388ff&quot;, &quot;dashArray&quot;: null, &quot;dashOffset&quot;: null, &quot;fill&quot;: false, &quot;fillColor&quot;: &quot;#3388ff&quot;, &quot;fillOpacity&quot;: 0.2, &quot;fillRule&quot;: &quot;evenodd&quot;, &quot;lineCap&quot;: &quot;round&quot;, &quot;lineJoin&quot;: &quot;round&quot;, &quot;opacity&quot;: 1.0, &quot;radius&quot;: 5, &quot;stroke&quot;: true, &quot;weight&quot;: 3}\n",
       "            ).addTo(map_cf381d96e26ecf1d349ab32df6860ca6);\n",
       "        \n",
       "    \n",
       "            circle_marker_ef0c9a8aeb8dc7361a8203e490016fb2.bindTooltip(\n",
       "                `&lt;div&gt;\n",
       "                     Littleville, AL\n",
       "                 &lt;/div&gt;`,\n",
       "                {&quot;sticky&quot;: true}\n",
       "            );\n",
       "        \n",
       "&lt;/script&gt;\n",
       "&lt;/html&gt;\" style=\"position:absolute;width:100%;height:100%;left:0;top:0;border:none !important;\" allowfullscreen webkitallowfullscreen mozallowfullscreen></iframe></div></div>"
      ],
      "text/plain": [
       "<folium.folium.Map at 0x18158898730>"
      ]
     },
     "execution_count": 142,
     "metadata": {},
     "output_type": "execute_result"
    }
   ],
   "source": [
    "import folium\n",
    "\n",
    "m = folium.Map(location=[39.776383, -76.602334])\n",
    "\n",
    "for x,y in stores.iterrows():\n",
    "    folium.CircleMarker(location=[y.lat, y.lon], radius=5, tooltip=f\"{y.city}, {y.state}\").add_to(m)\n",
    "\n",
    "m"
   ]
  },
  {
   "cell_type": "code",
   "execution_count": 111,
   "metadata": {},
   "outputs": [
    {
     "data": {
      "text/html": [
       "<div>\n",
       "<style scoped>\n",
       "    .dataframe tbody tr th:only-of-type {\n",
       "        vertical-align: middle;\n",
       "    }\n",
       "\n",
       "    .dataframe tbody tr th {\n",
       "        vertical-align: top;\n",
       "    }\n",
       "\n",
       "    .dataframe thead th {\n",
       "        text-align: right;\n",
       "    }\n",
       "</style>\n",
       "<table border=\"1\" class=\"dataframe\">\n",
       "  <thead>\n",
       "    <tr style=\"text-align: right;\">\n",
       "      <th></th>\n",
       "      <th>nonmember</th>\n",
       "      <th>member</th>\n",
       "    </tr>\n",
       "    <tr>\n",
       "      <th>visit_date</th>\n",
       "      <th></th>\n",
       "      <th></th>\n",
       "    </tr>\n",
       "  </thead>\n",
       "  <tbody>\n",
       "    <tr>\n",
       "      <th>2020-01-01</th>\n",
       "      <td>469333.02</td>\n",
       "      <td>497716.20</td>\n",
       "    </tr>\n",
       "    <tr>\n",
       "      <th>2020-01-11</th>\n",
       "      <td>585736.85</td>\n",
       "      <td>637601.48</td>\n",
       "    </tr>\n",
       "    <tr>\n",
       "      <th>2020-01-21</th>\n",
       "      <td>560370.18</td>\n",
       "      <td>574707.80</td>\n",
       "    </tr>\n",
       "    <tr>\n",
       "      <th>2020-01-31</th>\n",
       "      <td>589514.75</td>\n",
       "      <td>645522.24</td>\n",
       "    </tr>\n",
       "    <tr>\n",
       "      <th>2020-02-10</th>\n",
       "      <td>358970.44</td>\n",
       "      <td>402135.32</td>\n",
       "    </tr>\n",
       "    <tr>\n",
       "      <th>2020-02-20</th>\n",
       "      <td>394075.09</td>\n",
       "      <td>404645.66</td>\n",
       "    </tr>\n",
       "    <tr>\n",
       "      <th>2020-03-01</th>\n",
       "      <td>473430.68</td>\n",
       "      <td>485920.58</td>\n",
       "    </tr>\n",
       "    <tr>\n",
       "      <th>2020-03-11</th>\n",
       "      <td>410686.90</td>\n",
       "      <td>443570.14</td>\n",
       "    </tr>\n",
       "    <tr>\n",
       "      <th>2020-03-21</th>\n",
       "      <td>566248.65</td>\n",
       "      <td>593518.07</td>\n",
       "    </tr>\n",
       "    <tr>\n",
       "      <th>2020-03-31</th>\n",
       "      <td>426608.57</td>\n",
       "      <td>457165.98</td>\n",
       "    </tr>\n",
       "    <tr>\n",
       "      <th>2020-04-10</th>\n",
       "      <td>530504.84</td>\n",
       "      <td>554299.05</td>\n",
       "    </tr>\n",
       "    <tr>\n",
       "      <th>2020-04-20</th>\n",
       "      <td>529396.86</td>\n",
       "      <td>571723.74</td>\n",
       "    </tr>\n",
       "    <tr>\n",
       "      <th>2020-04-30</th>\n",
       "      <td>446616.40</td>\n",
       "      <td>473781.33</td>\n",
       "    </tr>\n",
       "    <tr>\n",
       "      <th>2020-05-10</th>\n",
       "      <td>509868.84</td>\n",
       "      <td>555860.71</td>\n",
       "    </tr>\n",
       "    <tr>\n",
       "      <th>2020-05-20</th>\n",
       "      <td>372941.36</td>\n",
       "      <td>401091.44</td>\n",
       "    </tr>\n",
       "    <tr>\n",
       "      <th>2020-05-30</th>\n",
       "      <td>220608.78</td>\n",
       "      <td>236011.67</td>\n",
       "    </tr>\n",
       "  </tbody>\n",
       "</table>\n",
       "</div>"
      ],
      "text/plain": [
       "            nonmember     member\n",
       "visit_date                      \n",
       "2020-01-01  469333.02  497716.20\n",
       "2020-01-11  585736.85  637601.48\n",
       "2020-01-21  560370.18  574707.80\n",
       "2020-01-31  589514.75  645522.24\n",
       "2020-02-10  358970.44  402135.32\n",
       "2020-02-20  394075.09  404645.66\n",
       "2020-03-01  473430.68  485920.58\n",
       "2020-03-11  410686.90  443570.14\n",
       "2020-03-21  566248.65  593518.07\n",
       "2020-03-31  426608.57  457165.98\n",
       "2020-04-10  530504.84  554299.05\n",
       "2020-04-20  529396.86  571723.74\n",
       "2020-04-30  446616.40  473781.33\n",
       "2020-05-10  509868.84  555860.71\n",
       "2020-05-20  372941.36  401091.44\n",
       "2020-05-30  220608.78  236011.67"
      ]
     },
     "execution_count": 111,
     "metadata": {},
     "output_type": "execute_result"
    }
   ],
   "source": [
    "x = df[['visit_date', 'order_total', 'member']].groupby([\"visit_date\", \"member\"]).sum().unstack()[\"order_total\"]\n",
    "x.columns = [\"nonmember\", \"member\"]\n",
    "x.index = pd.to_datetime(x.index)\n",
    "x.resample(\"10D\").sum()"
   ]
  },
  {
   "cell_type": "code",
   "execution_count": 158,
   "metadata": {},
   "outputs": [
    {
     "data": {
      "text/plain": [
       "visit_id           object\n",
       "visit_date         object\n",
       "store_id            int64\n",
       "customer_id        string\n",
       "order_total       float64\n",
       "payment_method     object\n",
       "dtype: object"
      ]
     },
     "execution_count": 158,
     "metadata": {},
     "output_type": "execute_result"
    }
   ],
   "source": [
    "visits.dtypes"
   ]
  },
  {
   "cell_type": "code",
   "execution_count": 3,
   "metadata": {},
   "outputs": [
    {
     "data": {
      "text/html": [
       "<div>\n",
       "<style scoped>\n",
       "    .dataframe tbody tr th:only-of-type {\n",
       "        vertical-align: middle;\n",
       "    }\n",
       "\n",
       "    .dataframe tbody tr th {\n",
       "        vertical-align: top;\n",
       "    }\n",
       "\n",
       "    .dataframe thead th {\n",
       "        text-align: right;\n",
       "    }\n",
       "</style>\n",
       "<table border=\"1\" class=\"dataframe\">\n",
       "  <thead>\n",
       "    <tr style=\"text-align: right;\">\n",
       "      <th></th>\n",
       "      <th>visit_id</th>\n",
       "      <th>visit_date</th>\n",
       "      <th>store_id</th>\n",
       "      <th>customer_id</th>\n",
       "      <th>order_total</th>\n",
       "      <th>payment_method</th>\n",
       "      <th>first_name</th>\n",
       "      <th>last_name</th>\n",
       "      <th>email</th>\n",
       "      <th>member</th>\n",
       "      <th>card_on_file</th>\n",
       "      <th>store_address</th>\n",
       "      <th>city</th>\n",
       "      <th>state</th>\n",
       "      <th>lat</th>\n",
       "      <th>lon</th>\n",
       "    </tr>\n",
       "  </thead>\n",
       "  <tbody>\n",
       "    <tr>\n",
       "      <th>0</th>\n",
       "      <td>350792a2</td>\n",
       "      <td>2020-01-01</td>\n",
       "      <td>7563</td>\n",
       "      <td>b01c396a</td>\n",
       "      <td>237.49</td>\n",
       "      <td>cash</td>\n",
       "      <td>Joseph</td>\n",
       "      <td>Alexander</td>\n",
       "      <td>novakkatie@preston.com</td>\n",
       "      <td>True</td>\n",
       "      <td>Diners Club / Carte Blanche</td>\n",
       "      <td>844 Romero Fork Suite 043</td>\n",
       "      <td>Wide Ruins</td>\n",
       "      <td>AZ</td>\n",
       "      <td>35.419278</td>\n",
       "      <td>-109.529888</td>\n",
       "    </tr>\n",
       "    <tr>\n",
       "      <th>1</th>\n",
       "      <td>6c083db0</td>\n",
       "      <td>2020-01-01</td>\n",
       "      <td>4840</td>\n",
       "      <td>4f0b9d38</td>\n",
       "      <td>9.75</td>\n",
       "      <td>credit</td>\n",
       "      <td>David</td>\n",
       "      <td>Walters</td>\n",
       "      <td>jessica43@yahoo.com</td>\n",
       "      <td>True</td>\n",
       "      <td>VISA 16 digit</td>\n",
       "      <td>5786 Jason Underpass Apt. 484</td>\n",
       "      <td>Vallecito</td>\n",
       "      <td>CA</td>\n",
       "      <td>38.037017</td>\n",
       "      <td>-120.476822</td>\n",
       "    </tr>\n",
       "    <tr>\n",
       "      <th>2</th>\n",
       "      <td>9dcbb3ec</td>\n",
       "      <td>2020-01-01</td>\n",
       "      <td>5253</td>\n",
       "      <td>998b0091</td>\n",
       "      <td>1.54</td>\n",
       "      <td>credit</td>\n",
       "      <td>Dawn</td>\n",
       "      <td>Wolfe</td>\n",
       "      <td>francisaaron@brennan-baker.com</td>\n",
       "      <td>False</td>\n",
       "      <td>Maestro</td>\n",
       "      <td>24432 Smith Summit</td>\n",
       "      <td>Windham</td>\n",
       "      <td>OH</td>\n",
       "      <td>41.278437</td>\n",
       "      <td>-81.062605</td>\n",
       "    </tr>\n",
       "    <tr>\n",
       "      <th>3</th>\n",
       "      <td>d2c95aeb</td>\n",
       "      <td>2020-01-01</td>\n",
       "      <td>2130</td>\n",
       "      <td>1efcc83d</td>\n",
       "      <td>286.33</td>\n",
       "      <td>credit</td>\n",
       "      <td>Jennifer</td>\n",
       "      <td>Gould</td>\n",
       "      <td>victoria16@miller.com</td>\n",
       "      <td>False</td>\n",
       "      <td>JCB 16 digit</td>\n",
       "      <td>72253 Jackson Pike</td>\n",
       "      <td>King Cove</td>\n",
       "      <td>AK</td>\n",
       "      <td>55.075068</td>\n",
       "      <td>-162.261063</td>\n",
       "    </tr>\n",
       "    <tr>\n",
       "      <th>4</th>\n",
       "      <td>4fce911b</td>\n",
       "      <td>2020-01-01</td>\n",
       "      <td>5351</td>\n",
       "      <td>b07e53f7</td>\n",
       "      <td>759.23</td>\n",
       "      <td>credit</td>\n",
       "      <td>Lauren</td>\n",
       "      <td>Frazier</td>\n",
       "      <td>dwilliams@gray-lynch.com</td>\n",
       "      <td>False</td>\n",
       "      <td>Diners Club / Carte Blanche</td>\n",
       "      <td>79420 Kristi Burgs</td>\n",
       "      <td>Whitehorse</td>\n",
       "      <td>SD</td>\n",
       "      <td>45.320734</td>\n",
       "      <td>-100.865954</td>\n",
       "    </tr>\n",
       "    <tr>\n",
       "      <th>...</th>\n",
       "      <td>...</td>\n",
       "      <td>...</td>\n",
       "      <td>...</td>\n",
       "      <td>...</td>\n",
       "      <td>...</td>\n",
       "      <td>...</td>\n",
       "      <td>...</td>\n",
       "      <td>...</td>\n",
       "      <td>...</td>\n",
       "      <td>...</td>\n",
       "      <td>...</td>\n",
       "      <td>...</td>\n",
       "      <td>...</td>\n",
       "      <td>...</td>\n",
       "      <td>...</td>\n",
       "      <td>...</td>\n",
       "    </tr>\n",
       "    <tr>\n",
       "      <th>108995</th>\n",
       "      <td>5e6d3021</td>\n",
       "      <td>2020-07-23 00:00:00</td>\n",
       "      <td>3896</td>\n",
       "      <td>05324751</td>\n",
       "      <td>62.13</td>\n",
       "      <td>credit</td>\n",
       "      <td>Kathleen</td>\n",
       "      <td>White</td>\n",
       "      <td>taylorheather@walters.com</td>\n",
       "      <td>False</td>\n",
       "      <td>Discover</td>\n",
       "      <td>117 Alicia Brook Suite 022</td>\n",
       "      <td>Smithfield</td>\n",
       "      <td>WV</td>\n",
       "      <td>39.507819</td>\n",
       "      <td>-80.577309</td>\n",
       "    </tr>\n",
       "    <tr>\n",
       "      <th>108996</th>\n",
       "      <td>d40674f9</td>\n",
       "      <td>2020-07-23 00:00:00</td>\n",
       "      <td>6205</td>\n",
       "      <td>24a62517</td>\n",
       "      <td>4.90</td>\n",
       "      <td>cash</td>\n",
       "      <td>Terri</td>\n",
       "      <td>Reed</td>\n",
       "      <td>courtney09@baldwin.info</td>\n",
       "      <td>False</td>\n",
       "      <td>VISA 16 digit</td>\n",
       "      <td>0079 Cesar Spur Suite 279</td>\n",
       "      <td>Vanndale</td>\n",
       "      <td>AR</td>\n",
       "      <td>35.301869</td>\n",
       "      <td>-90.819717</td>\n",
       "    </tr>\n",
       "    <tr>\n",
       "      <th>108997</th>\n",
       "      <td>de8a64eb</td>\n",
       "      <td>2020-07-23 00:00:00</td>\n",
       "      <td>1317</td>\n",
       "      <td>cf2ca894</td>\n",
       "      <td>201.78</td>\n",
       "      <td>credit</td>\n",
       "      <td>Rebecca</td>\n",
       "      <td>Ramirez</td>\n",
       "      <td>mclaughlinbenjamin@carter-atkins.biz</td>\n",
       "      <td>True</td>\n",
       "      <td>VISA 16 digit</td>\n",
       "      <td>536 Moore Inlet Apt. 601</td>\n",
       "      <td>Littleville</td>\n",
       "      <td>AL</td>\n",
       "      <td>34.643448</td>\n",
       "      <td>-87.684438</td>\n",
       "    </tr>\n",
       "    <tr>\n",
       "      <th>108998</th>\n",
       "      <td>dcab7edb</td>\n",
       "      <td>2020-07-23 00:00:00</td>\n",
       "      <td>7563</td>\n",
       "      <td>d9752264</td>\n",
       "      <td>287.64</td>\n",
       "      <td>cash</td>\n",
       "      <td>Crystal</td>\n",
       "      <td>Webster</td>\n",
       "      <td>danielanderson@reeves.info</td>\n",
       "      <td>False</td>\n",
       "      <td>JCB 16 digit</td>\n",
       "      <td>844 Romero Fork Suite 043</td>\n",
       "      <td>Wide Ruins</td>\n",
       "      <td>AZ</td>\n",
       "      <td>35.419278</td>\n",
       "      <td>-109.529888</td>\n",
       "    </tr>\n",
       "    <tr>\n",
       "      <th>108999</th>\n",
       "      <td>2312ac66</td>\n",
       "      <td>2020-07-23 00:00:00</td>\n",
       "      <td>4269</td>\n",
       "      <td>10f4ef3b</td>\n",
       "      <td>43.38</td>\n",
       "      <td>credit</td>\n",
       "      <td>John</td>\n",
       "      <td>Mueller</td>\n",
       "      <td>iscott@ramos-cox.com</td>\n",
       "      <td>False</td>\n",
       "      <td>JCB 15 digit</td>\n",
       "      <td>347 Phillips Turnpike</td>\n",
       "      <td>Longoria</td>\n",
       "      <td>TX</td>\n",
       "      <td>26.313200</td>\n",
       "      <td>-98.603467</td>\n",
       "    </tr>\n",
       "  </tbody>\n",
       "</table>\n",
       "<p>109000 rows × 16 columns</p>\n",
       "</div>"
      ],
      "text/plain": [
       "        visit_id           visit_date store_id customer_id  order_total  \\\n",
       "0       350792a2           2020-01-01     7563    b01c396a       237.49   \n",
       "1       6c083db0           2020-01-01     4840    4f0b9d38         9.75   \n",
       "2       9dcbb3ec           2020-01-01     5253    998b0091         1.54   \n",
       "3       d2c95aeb           2020-01-01     2130    1efcc83d       286.33   \n",
       "4       4fce911b           2020-01-01     5351    b07e53f7       759.23   \n",
       "...          ...                  ...      ...         ...          ...   \n",
       "108995  5e6d3021  2020-07-23 00:00:00     3896    05324751        62.13   \n",
       "108996  d40674f9  2020-07-23 00:00:00     6205    24a62517         4.90   \n",
       "108997  de8a64eb  2020-07-23 00:00:00     1317    cf2ca894       201.78   \n",
       "108998  dcab7edb  2020-07-23 00:00:00     7563    d9752264       287.64   \n",
       "108999  2312ac66  2020-07-23 00:00:00     4269    10f4ef3b        43.38   \n",
       "\n",
       "       payment_method first_name  last_name  \\\n",
       "0                cash     Joseph  Alexander   \n",
       "1              credit      David    Walters   \n",
       "2              credit       Dawn      Wolfe   \n",
       "3              credit   Jennifer      Gould   \n",
       "4              credit     Lauren    Frazier   \n",
       "...               ...        ...        ...   \n",
       "108995         credit   Kathleen      White   \n",
       "108996           cash      Terri       Reed   \n",
       "108997         credit    Rebecca    Ramirez   \n",
       "108998           cash    Crystal    Webster   \n",
       "108999         credit       John    Mueller   \n",
       "\n",
       "                                       email  member  \\\n",
       "0                     novakkatie@preston.com    True   \n",
       "1                        jessica43@yahoo.com    True   \n",
       "2             francisaaron@brennan-baker.com   False   \n",
       "3                      victoria16@miller.com   False   \n",
       "4                   dwilliams@gray-lynch.com   False   \n",
       "...                                      ...     ...   \n",
       "108995             taylorheather@walters.com   False   \n",
       "108996               courtney09@baldwin.info   False   \n",
       "108997  mclaughlinbenjamin@carter-atkins.biz    True   \n",
       "108998            danielanderson@reeves.info   False   \n",
       "108999                  iscott@ramos-cox.com   False   \n",
       "\n",
       "                       card_on_file                  store_address  \\\n",
       "0       Diners Club / Carte Blanche      844 Romero Fork Suite 043   \n",
       "1                     VISA 16 digit  5786 Jason Underpass Apt. 484   \n",
       "2                           Maestro             24432 Smith Summit   \n",
       "3                      JCB 16 digit             72253 Jackson Pike   \n",
       "4       Diners Club / Carte Blanche             79420 Kristi Burgs   \n",
       "...                             ...                            ...   \n",
       "108995                     Discover     117 Alicia Brook Suite 022   \n",
       "108996                VISA 16 digit      0079 Cesar Spur Suite 279   \n",
       "108997                VISA 16 digit       536 Moore Inlet Apt. 601   \n",
       "108998                 JCB 16 digit      844 Romero Fork Suite 043   \n",
       "108999                 JCB 15 digit          347 Phillips Turnpike   \n",
       "\n",
       "               city state        lat         lon  \n",
       "0        Wide Ruins    AZ  35.419278 -109.529888  \n",
       "1         Vallecito    CA  38.037017 -120.476822  \n",
       "2           Windham    OH  41.278437  -81.062605  \n",
       "3         King Cove    AK  55.075068 -162.261063  \n",
       "4        Whitehorse    SD  45.320734 -100.865954  \n",
       "...             ...   ...        ...         ...  \n",
       "108995   Smithfield    WV  39.507819  -80.577309  \n",
       "108996     Vanndale    AR  35.301869  -90.819717  \n",
       "108997  Littleville    AL  34.643448  -87.684438  \n",
       "108998   Wide Ruins    AZ  35.419278 -109.529888  \n",
       "108999     Longoria    TX  26.313200  -98.603467  \n",
       "\n",
       "[109000 rows x 16 columns]"
      ]
     },
     "execution_count": 3,
     "metadata": {},
     "output_type": "execute_result"
    }
   ],
   "source": [
    "df= visits.merge(customers, on=\"customer_id\", how=\"left\").merge(stores, on=\"store_id\", how=\"left\")\n",
    "df"
   ]
  },
  {
   "cell_type": "code",
   "execution_count": 200,
   "metadata": {},
   "outputs": [
    {
     "data": {
      "text/html": [
       "<div>\n",
       "<style scoped>\n",
       "    .dataframe tbody tr th:only-of-type {\n",
       "        vertical-align: middle;\n",
       "    }\n",
       "\n",
       "    .dataframe tbody tr th {\n",
       "        vertical-align: top;\n",
       "    }\n",
       "\n",
       "    .dataframe thead th {\n",
       "        text-align: right;\n",
       "    }\n",
       "</style>\n",
       "<table border=\"1\" class=\"dataframe\">\n",
       "  <thead>\n",
       "    <tr style=\"text-align: right;\">\n",
       "      <th></th>\n",
       "      <th>0</th>\n",
       "    </tr>\n",
       "    <tr>\n",
       "      <th>visit_date</th>\n",
       "      <th></th>\n",
       "    </tr>\n",
       "  </thead>\n",
       "  <tbody>\n",
       "    <tr>\n",
       "      <th>2020-01-01</th>\n",
       "      <td>727</td>\n",
       "    </tr>\n",
       "    <tr>\n",
       "      <th>2020-01-02</th>\n",
       "      <td>494</td>\n",
       "    </tr>\n",
       "    <tr>\n",
       "      <th>2020-01-03</th>\n",
       "      <td>230</td>\n",
       "    </tr>\n",
       "    <tr>\n",
       "      <th>2020-01-04</th>\n",
       "      <td>348</td>\n",
       "    </tr>\n",
       "    <tr>\n",
       "      <th>2020-01-05</th>\n",
       "      <td>721</td>\n",
       "    </tr>\n",
       "    <tr>\n",
       "      <th>...</th>\n",
       "      <td>...</td>\n",
       "    </tr>\n",
       "    <tr>\n",
       "      <th>2020-05-28</th>\n",
       "      <td>754</td>\n",
       "    </tr>\n",
       "    <tr>\n",
       "      <th>2020-05-29</th>\n",
       "      <td>680</td>\n",
       "    </tr>\n",
       "    <tr>\n",
       "      <th>2020-05-30</th>\n",
       "      <td>83</td>\n",
       "    </tr>\n",
       "    <tr>\n",
       "      <th>2020-05-31</th>\n",
       "      <td>317</td>\n",
       "    </tr>\n",
       "    <tr>\n",
       "      <th>2020-06-01</th>\n",
       "      <td>453</td>\n",
       "    </tr>\n",
       "  </tbody>\n",
       "</table>\n",
       "<p>153 rows × 1 columns</p>\n",
       "</div>"
      ],
      "text/plain": [
       "              0\n",
       "visit_date     \n",
       "2020-01-01  727\n",
       "2020-01-02  494\n",
       "2020-01-03  230\n",
       "2020-01-04  348\n",
       "2020-01-05  721\n",
       "...         ...\n",
       "2020-05-28  754\n",
       "2020-05-29  680\n",
       "2020-05-30   83\n",
       "2020-05-31  317\n",
       "2020-06-01  453\n",
       "\n",
       "[153 rows x 1 columns]"
      ]
     },
     "execution_count": 200,
     "metadata": {},
     "output_type": "execute_result"
    }
   ],
   "source": [
    "df[\"visit_date\"] = pd.to_datetime(df[\"visit_date\"])\n",
    "\n",
    "df.groupby(\"visit_date\").size().to_frame()"
   ]
  },
  {
   "cell_type": "code",
   "execution_count": 206,
   "metadata": {},
   "outputs": [
    {
     "data": {
      "text/html": [
       "<div>\n",
       "<style scoped>\n",
       "    .dataframe tbody tr th:only-of-type {\n",
       "        vertical-align: middle;\n",
       "    }\n",
       "\n",
       "    .dataframe tbody tr th {\n",
       "        vertical-align: top;\n",
       "    }\n",
       "\n",
       "    .dataframe thead th {\n",
       "        text-align: right;\n",
       "    }\n",
       "</style>\n",
       "<table border=\"1\" class=\"dataframe\">\n",
       "  <thead>\n",
       "    <tr style=\"text-align: right;\">\n",
       "      <th></th>\n",
       "      <th>order_total</th>\n",
       "    </tr>\n",
       "    <tr>\n",
       "      <th>customer_id</th>\n",
       "      <th></th>\n",
       "    </tr>\n",
       "  </thead>\n",
       "  <tbody>\n",
       "    <tr>\n",
       "      <th>003b38e0</th>\n",
       "      <td>13744.89</td>\n",
       "    </tr>\n",
       "    <tr>\n",
       "      <th>007a9ce1</th>\n",
       "      <td>17257.31</td>\n",
       "    </tr>\n",
       "    <tr>\n",
       "      <th>00c8ce8e</th>\n",
       "      <td>14609.56</td>\n",
       "    </tr>\n",
       "    <tr>\n",
       "      <th>0117c257</th>\n",
       "      <td>14477.12</td>\n",
       "    </tr>\n",
       "    <tr>\n",
       "      <th>0118156e</th>\n",
       "      <td>12491.74</td>\n",
       "    </tr>\n",
       "    <tr>\n",
       "      <th>...</th>\n",
       "      <td>...</td>\n",
       "    </tr>\n",
       "    <tr>\n",
       "      <th>fed084d2</th>\n",
       "      <td>16187.41</td>\n",
       "    </tr>\n",
       "    <tr>\n",
       "      <th>fef6af1e</th>\n",
       "      <td>12613.81</td>\n",
       "    </tr>\n",
       "    <tr>\n",
       "      <th>ff77c733</th>\n",
       "      <td>14439.37</td>\n",
       "    </tr>\n",
       "    <tr>\n",
       "      <th>ff7a7060</th>\n",
       "      <td>17440.69</td>\n",
       "    </tr>\n",
       "    <tr>\n",
       "      <th>ffc70bc8</th>\n",
       "      <td>14100.30</td>\n",
       "    </tr>\n",
       "  </tbody>\n",
       "</table>\n",
       "<p>1000 rows × 1 columns</p>\n",
       "</div>"
      ],
      "text/plain": [
       "             order_total\n",
       "customer_id             \n",
       "003b38e0        13744.89\n",
       "007a9ce1        17257.31\n",
       "00c8ce8e        14609.56\n",
       "0117c257        14477.12\n",
       "0118156e        12491.74\n",
       "...                  ...\n",
       "fed084d2        16187.41\n",
       "fef6af1e        12613.81\n",
       "ff77c733        14439.37\n",
       "ff7a7060        17440.69\n",
       "ffc70bc8        14100.30\n",
       "\n",
       "[1000 rows x 1 columns]"
      ]
     },
     "execution_count": 206,
     "metadata": {},
     "output_type": "execute_result"
    }
   ],
   "source": [
    "x = df[[\"customer_id\", \"order_total\"]]\n",
    "x.groupby(\"customer_id\").sum()"
   ]
  },
  {
   "cell_type": "code",
   "execution_count": 231,
   "metadata": {},
   "outputs": [
    {
     "data": {
      "application/vnd.plotly.v1+json": {
       "config": {
        "plotlyServerURL": "https://plot.ly"
       },
       "data": [
        {
         "domain": {
          "x": [
           0,
           1
          ],
          "y": [
           0,
           1
          ]
         },
         "hole": 0.4,
         "hovertemplate": "payment_method=%{label}<br>count=%{value}<extra></extra>",
         "labels": [
          "cash",
          "credit"
         ],
         "legendgroup": "",
         "name": "",
         "showlegend": true,
         "type": "pie",
         "values": [
          36057,
          35803
         ]
        }
       ],
       "layout": {
        "legend": {
         "tracegroupgap": 0
        },
        "margin": {
         "t": 60
        },
        "template": {
         "data": {
          "bar": [
           {
            "error_x": {
             "color": "#2a3f5f"
            },
            "error_y": {
             "color": "#2a3f5f"
            },
            "marker": {
             "line": {
              "color": "#E5ECF6",
              "width": 0.5
             },
             "pattern": {
              "fillmode": "overlay",
              "size": 10,
              "solidity": 0.2
             }
            },
            "type": "bar"
           }
          ],
          "barpolar": [
           {
            "marker": {
             "line": {
              "color": "#E5ECF6",
              "width": 0.5
             },
             "pattern": {
              "fillmode": "overlay",
              "size": 10,
              "solidity": 0.2
             }
            },
            "type": "barpolar"
           }
          ],
          "carpet": [
           {
            "aaxis": {
             "endlinecolor": "#2a3f5f",
             "gridcolor": "white",
             "linecolor": "white",
             "minorgridcolor": "white",
             "startlinecolor": "#2a3f5f"
            },
            "baxis": {
             "endlinecolor": "#2a3f5f",
             "gridcolor": "white",
             "linecolor": "white",
             "minorgridcolor": "white",
             "startlinecolor": "#2a3f5f"
            },
            "type": "carpet"
           }
          ],
          "choropleth": [
           {
            "colorbar": {
             "outlinewidth": 0,
             "ticks": ""
            },
            "type": "choropleth"
           }
          ],
          "contour": [
           {
            "colorbar": {
             "outlinewidth": 0,
             "ticks": ""
            },
            "colorscale": [
             [
              0,
              "#0d0887"
             ],
             [
              0.1111111111111111,
              "#46039f"
             ],
             [
              0.2222222222222222,
              "#7201a8"
             ],
             [
              0.3333333333333333,
              "#9c179e"
             ],
             [
              0.4444444444444444,
              "#bd3786"
             ],
             [
              0.5555555555555556,
              "#d8576b"
             ],
             [
              0.6666666666666666,
              "#ed7953"
             ],
             [
              0.7777777777777778,
              "#fb9f3a"
             ],
             [
              0.8888888888888888,
              "#fdca26"
             ],
             [
              1,
              "#f0f921"
             ]
            ],
            "type": "contour"
           }
          ],
          "contourcarpet": [
           {
            "colorbar": {
             "outlinewidth": 0,
             "ticks": ""
            },
            "type": "contourcarpet"
           }
          ],
          "heatmap": [
           {
            "colorbar": {
             "outlinewidth": 0,
             "ticks": ""
            },
            "colorscale": [
             [
              0,
              "#0d0887"
             ],
             [
              0.1111111111111111,
              "#46039f"
             ],
             [
              0.2222222222222222,
              "#7201a8"
             ],
             [
              0.3333333333333333,
              "#9c179e"
             ],
             [
              0.4444444444444444,
              "#bd3786"
             ],
             [
              0.5555555555555556,
              "#d8576b"
             ],
             [
              0.6666666666666666,
              "#ed7953"
             ],
             [
              0.7777777777777778,
              "#fb9f3a"
             ],
             [
              0.8888888888888888,
              "#fdca26"
             ],
             [
              1,
              "#f0f921"
             ]
            ],
            "type": "heatmap"
           }
          ],
          "heatmapgl": [
           {
            "colorbar": {
             "outlinewidth": 0,
             "ticks": ""
            },
            "colorscale": [
             [
              0,
              "#0d0887"
             ],
             [
              0.1111111111111111,
              "#46039f"
             ],
             [
              0.2222222222222222,
              "#7201a8"
             ],
             [
              0.3333333333333333,
              "#9c179e"
             ],
             [
              0.4444444444444444,
              "#bd3786"
             ],
             [
              0.5555555555555556,
              "#d8576b"
             ],
             [
              0.6666666666666666,
              "#ed7953"
             ],
             [
              0.7777777777777778,
              "#fb9f3a"
             ],
             [
              0.8888888888888888,
              "#fdca26"
             ],
             [
              1,
              "#f0f921"
             ]
            ],
            "type": "heatmapgl"
           }
          ],
          "histogram": [
           {
            "marker": {
             "pattern": {
              "fillmode": "overlay",
              "size": 10,
              "solidity": 0.2
             }
            },
            "type": "histogram"
           }
          ],
          "histogram2d": [
           {
            "colorbar": {
             "outlinewidth": 0,
             "ticks": ""
            },
            "colorscale": [
             [
              0,
              "#0d0887"
             ],
             [
              0.1111111111111111,
              "#46039f"
             ],
             [
              0.2222222222222222,
              "#7201a8"
             ],
             [
              0.3333333333333333,
              "#9c179e"
             ],
             [
              0.4444444444444444,
              "#bd3786"
             ],
             [
              0.5555555555555556,
              "#d8576b"
             ],
             [
              0.6666666666666666,
              "#ed7953"
             ],
             [
              0.7777777777777778,
              "#fb9f3a"
             ],
             [
              0.8888888888888888,
              "#fdca26"
             ],
             [
              1,
              "#f0f921"
             ]
            ],
            "type": "histogram2d"
           }
          ],
          "histogram2dcontour": [
           {
            "colorbar": {
             "outlinewidth": 0,
             "ticks": ""
            },
            "colorscale": [
             [
              0,
              "#0d0887"
             ],
             [
              0.1111111111111111,
              "#46039f"
             ],
             [
              0.2222222222222222,
              "#7201a8"
             ],
             [
              0.3333333333333333,
              "#9c179e"
             ],
             [
              0.4444444444444444,
              "#bd3786"
             ],
             [
              0.5555555555555556,
              "#d8576b"
             ],
             [
              0.6666666666666666,
              "#ed7953"
             ],
             [
              0.7777777777777778,
              "#fb9f3a"
             ],
             [
              0.8888888888888888,
              "#fdca26"
             ],
             [
              1,
              "#f0f921"
             ]
            ],
            "type": "histogram2dcontour"
           }
          ],
          "mesh3d": [
           {
            "colorbar": {
             "outlinewidth": 0,
             "ticks": ""
            },
            "type": "mesh3d"
           }
          ],
          "parcoords": [
           {
            "line": {
             "colorbar": {
              "outlinewidth": 0,
              "ticks": ""
             }
            },
            "type": "parcoords"
           }
          ],
          "pie": [
           {
            "automargin": true,
            "type": "pie"
           }
          ],
          "scatter": [
           {
            "fillpattern": {
             "fillmode": "overlay",
             "size": 10,
             "solidity": 0.2
            },
            "type": "scatter"
           }
          ],
          "scatter3d": [
           {
            "line": {
             "colorbar": {
              "outlinewidth": 0,
              "ticks": ""
             }
            },
            "marker": {
             "colorbar": {
              "outlinewidth": 0,
              "ticks": ""
             }
            },
            "type": "scatter3d"
           }
          ],
          "scattercarpet": [
           {
            "marker": {
             "colorbar": {
              "outlinewidth": 0,
              "ticks": ""
             }
            },
            "type": "scattercarpet"
           }
          ],
          "scattergeo": [
           {
            "marker": {
             "colorbar": {
              "outlinewidth": 0,
              "ticks": ""
             }
            },
            "type": "scattergeo"
           }
          ],
          "scattergl": [
           {
            "marker": {
             "colorbar": {
              "outlinewidth": 0,
              "ticks": ""
             }
            },
            "type": "scattergl"
           }
          ],
          "scattermapbox": [
           {
            "marker": {
             "colorbar": {
              "outlinewidth": 0,
              "ticks": ""
             }
            },
            "type": "scattermapbox"
           }
          ],
          "scatterpolar": [
           {
            "marker": {
             "colorbar": {
              "outlinewidth": 0,
              "ticks": ""
             }
            },
            "type": "scatterpolar"
           }
          ],
          "scatterpolargl": [
           {
            "marker": {
             "colorbar": {
              "outlinewidth": 0,
              "ticks": ""
             }
            },
            "type": "scatterpolargl"
           }
          ],
          "scatterternary": [
           {
            "marker": {
             "colorbar": {
              "outlinewidth": 0,
              "ticks": ""
             }
            },
            "type": "scatterternary"
           }
          ],
          "surface": [
           {
            "colorbar": {
             "outlinewidth": 0,
             "ticks": ""
            },
            "colorscale": [
             [
              0,
              "#0d0887"
             ],
             [
              0.1111111111111111,
              "#46039f"
             ],
             [
              0.2222222222222222,
              "#7201a8"
             ],
             [
              0.3333333333333333,
              "#9c179e"
             ],
             [
              0.4444444444444444,
              "#bd3786"
             ],
             [
              0.5555555555555556,
              "#d8576b"
             ],
             [
              0.6666666666666666,
              "#ed7953"
             ],
             [
              0.7777777777777778,
              "#fb9f3a"
             ],
             [
              0.8888888888888888,
              "#fdca26"
             ],
             [
              1,
              "#f0f921"
             ]
            ],
            "type": "surface"
           }
          ],
          "table": [
           {
            "cells": {
             "fill": {
              "color": "#EBF0F8"
             },
             "line": {
              "color": "white"
             }
            },
            "header": {
             "fill": {
              "color": "#C8D4E3"
             },
             "line": {
              "color": "white"
             }
            },
            "type": "table"
           }
          ]
         },
         "layout": {
          "annotationdefaults": {
           "arrowcolor": "#2a3f5f",
           "arrowhead": 0,
           "arrowwidth": 1
          },
          "autotypenumbers": "strict",
          "coloraxis": {
           "colorbar": {
            "outlinewidth": 0,
            "ticks": ""
           }
          },
          "colorscale": {
           "diverging": [
            [
             0,
             "#8e0152"
            ],
            [
             0.1,
             "#c51b7d"
            ],
            [
             0.2,
             "#de77ae"
            ],
            [
             0.3,
             "#f1b6da"
            ],
            [
             0.4,
             "#fde0ef"
            ],
            [
             0.5,
             "#f7f7f7"
            ],
            [
             0.6,
             "#e6f5d0"
            ],
            [
             0.7,
             "#b8e186"
            ],
            [
             0.8,
             "#7fbc41"
            ],
            [
             0.9,
             "#4d9221"
            ],
            [
             1,
             "#276419"
            ]
           ],
           "sequential": [
            [
             0,
             "#0d0887"
            ],
            [
             0.1111111111111111,
             "#46039f"
            ],
            [
             0.2222222222222222,
             "#7201a8"
            ],
            [
             0.3333333333333333,
             "#9c179e"
            ],
            [
             0.4444444444444444,
             "#bd3786"
            ],
            [
             0.5555555555555556,
             "#d8576b"
            ],
            [
             0.6666666666666666,
             "#ed7953"
            ],
            [
             0.7777777777777778,
             "#fb9f3a"
            ],
            [
             0.8888888888888888,
             "#fdca26"
            ],
            [
             1,
             "#f0f921"
            ]
           ],
           "sequentialminus": [
            [
             0,
             "#0d0887"
            ],
            [
             0.1111111111111111,
             "#46039f"
            ],
            [
             0.2222222222222222,
             "#7201a8"
            ],
            [
             0.3333333333333333,
             "#9c179e"
            ],
            [
             0.4444444444444444,
             "#bd3786"
            ],
            [
             0.5555555555555556,
             "#d8576b"
            ],
            [
             0.6666666666666666,
             "#ed7953"
            ],
            [
             0.7777777777777778,
             "#fb9f3a"
            ],
            [
             0.8888888888888888,
             "#fdca26"
            ],
            [
             1,
             "#f0f921"
            ]
           ]
          },
          "colorway": [
           "#636efa",
           "#EF553B",
           "#00cc96",
           "#ab63fa",
           "#FFA15A",
           "#19d3f3",
           "#FF6692",
           "#B6E880",
           "#FF97FF",
           "#FECB52"
          ],
          "font": {
           "color": "#2a3f5f"
          },
          "geo": {
           "bgcolor": "white",
           "lakecolor": "white",
           "landcolor": "#E5ECF6",
           "showlakes": true,
           "showland": true,
           "subunitcolor": "white"
          },
          "hoverlabel": {
           "align": "left"
          },
          "hovermode": "closest",
          "mapbox": {
           "style": "light"
          },
          "paper_bgcolor": "white",
          "plot_bgcolor": "#E5ECF6",
          "polar": {
           "angularaxis": {
            "gridcolor": "white",
            "linecolor": "white",
            "ticks": ""
           },
           "bgcolor": "#E5ECF6",
           "radialaxis": {
            "gridcolor": "white",
            "linecolor": "white",
            "ticks": ""
           }
          },
          "scene": {
           "xaxis": {
            "backgroundcolor": "#E5ECF6",
            "gridcolor": "white",
            "gridwidth": 2,
            "linecolor": "white",
            "showbackground": true,
            "ticks": "",
            "zerolinecolor": "white"
           },
           "yaxis": {
            "backgroundcolor": "#E5ECF6",
            "gridcolor": "white",
            "gridwidth": 2,
            "linecolor": "white",
            "showbackground": true,
            "ticks": "",
            "zerolinecolor": "white"
           },
           "zaxis": {
            "backgroundcolor": "#E5ECF6",
            "gridcolor": "white",
            "gridwidth": 2,
            "linecolor": "white",
            "showbackground": true,
            "ticks": "",
            "zerolinecolor": "white"
           }
          },
          "shapedefaults": {
           "line": {
            "color": "#2a3f5f"
           }
          },
          "ternary": {
           "aaxis": {
            "gridcolor": "white",
            "linecolor": "white",
            "ticks": ""
           },
           "baxis": {
            "gridcolor": "white",
            "linecolor": "white",
            "ticks": ""
           },
           "bgcolor": "#E5ECF6",
           "caxis": {
            "gridcolor": "white",
            "linecolor": "white",
            "ticks": ""
           }
          },
          "title": {
           "x": 0.05
          },
          "xaxis": {
           "automargin": true,
           "gridcolor": "white",
           "linecolor": "white",
           "ticks": "",
           "title": {
            "standoff": 15
           },
           "zerolinecolor": "white",
           "zerolinewidth": 2
          },
          "yaxis": {
           "automargin": true,
           "gridcolor": "white",
           "linecolor": "white",
           "ticks": "",
           "title": {
            "standoff": 15
           },
           "zerolinecolor": "white",
           "zerolinewidth": 2
          }
         }
        }
       }
      }
     },
     "metadata": {},
     "output_type": "display_data"
    }
   ],
   "source": [
    "import plotly.express as px\n",
    "\n",
    "x = df[\"payment_method\"].value_counts().to_frame().reset_index()\n",
    "x.columns = [\"payment_method\", \"count\"]\n",
    "x\n",
    "\n",
    "px.pie(x, names='payment_method', values='count', hole=0.4)"
   ]
  },
  {
   "cell_type": "code",
   "execution_count": 234,
   "metadata": {},
   "outputs": [
    {
     "data": {
      "text/html": [
       "<div>\n",
       "<style scoped>\n",
       "    .dataframe tbody tr th:only-of-type {\n",
       "        vertical-align: middle;\n",
       "    }\n",
       "\n",
       "    .dataframe tbody tr th {\n",
       "        vertical-align: top;\n",
       "    }\n",
       "\n",
       "    .dataframe thead th {\n",
       "        text-align: right;\n",
       "    }\n",
       "</style>\n",
       "<table border=\"1\" class=\"dataframe\">\n",
       "  <thead>\n",
       "    <tr style=\"text-align: right;\">\n",
       "      <th></th>\n",
       "      <th>provider</th>\n",
       "      <th>count</th>\n",
       "    </tr>\n",
       "  </thead>\n",
       "  <tbody>\n",
       "    <tr>\n",
       "      <th>0</th>\n",
       "      <td>VISA 16 digit</td>\n",
       "      <td>12018</td>\n",
       "    </tr>\n",
       "    <tr>\n",
       "      <th>1</th>\n",
       "      <td>JCB 16 digit</td>\n",
       "      <td>11799</td>\n",
       "    </tr>\n",
       "    <tr>\n",
       "      <th>2</th>\n",
       "      <td>Discover</td>\n",
       "      <td>6817</td>\n",
       "    </tr>\n",
       "    <tr>\n",
       "      <th>3</th>\n",
       "      <td>American Express</td>\n",
       "      <td>6535</td>\n",
       "    </tr>\n",
       "    <tr>\n",
       "      <th>4</th>\n",
       "      <td>VISA 19 digit</td>\n",
       "      <td>6456</td>\n",
       "    </tr>\n",
       "    <tr>\n",
       "      <th>5</th>\n",
       "      <td>Mastercard</td>\n",
       "      <td>6133</td>\n",
       "    </tr>\n",
       "    <tr>\n",
       "      <th>6</th>\n",
       "      <td>Maestro</td>\n",
       "      <td>5911</td>\n",
       "    </tr>\n",
       "    <tr>\n",
       "      <th>7</th>\n",
       "      <td>JCB 15 digit</td>\n",
       "      <td>5546</td>\n",
       "    </tr>\n",
       "    <tr>\n",
       "      <th>8</th>\n",
       "      <td>Diners Club / Carte Blanche</td>\n",
       "      <td>5452</td>\n",
       "    </tr>\n",
       "    <tr>\n",
       "      <th>9</th>\n",
       "      <td>VISA 13 digit</td>\n",
       "      <td>5193</td>\n",
       "    </tr>\n",
       "  </tbody>\n",
       "</table>\n",
       "</div>"
      ],
      "text/plain": [
       "                      provider  count\n",
       "0                VISA 16 digit  12018\n",
       "1                 JCB 16 digit  11799\n",
       "2                     Discover   6817\n",
       "3             American Express   6535\n",
       "4                VISA 19 digit   6456\n",
       "5                   Mastercard   6133\n",
       "6                      Maestro   5911\n",
       "7                 JCB 15 digit   5546\n",
       "8  Diners Club / Carte Blanche   5452\n",
       "9                VISA 13 digit   5193"
      ]
     },
     "execution_count": 234,
     "metadata": {},
     "output_type": "execute_result"
    }
   ],
   "source": [
    "card_types = df[\"card_on_file\"].value_counts().to_frame().reset_index()\n",
    "card_types.columns = [\"provider\", \"count\"]\n",
    "\n",
    "card_types"
   ]
  },
  {
   "cell_type": "code",
   "execution_count": 256,
   "metadata": {},
   "outputs": [
    {
     "data": {
      "text/html": [
       "<div>\n",
       "<style scoped>\n",
       "    .dataframe tbody tr th:only-of-type {\n",
       "        vertical-align: middle;\n",
       "    }\n",
       "\n",
       "    .dataframe tbody tr th {\n",
       "        vertical-align: top;\n",
       "    }\n",
       "\n",
       "    .dataframe thead th {\n",
       "        text-align: right;\n",
       "    }\n",
       "</style>\n",
       "<table border=\"1\" class=\"dataframe\">\n",
       "  <thead>\n",
       "    <tr style=\"text-align: right;\">\n",
       "      <th>member</th>\n",
       "      <th>False</th>\n",
       "      <th>True</th>\n",
       "    </tr>\n",
       "    <tr>\n",
       "      <th>visit_date</th>\n",
       "      <th></th>\n",
       "      <th></th>\n",
       "    </tr>\n",
       "  </thead>\n",
       "  <tbody>\n",
       "    <tr>\n",
       "      <th>2020-01-01</th>\n",
       "      <td>74130.27</td>\n",
       "      <td>72077.21</td>\n",
       "    </tr>\n",
       "    <tr>\n",
       "      <th>2020-01-02</th>\n",
       "      <td>51163.33</td>\n",
       "      <td>47441.78</td>\n",
       "    </tr>\n",
       "    <tr>\n",
       "      <th>2020-01-03</th>\n",
       "      <td>23163.06</td>\n",
       "      <td>28997.34</td>\n",
       "    </tr>\n",
       "    <tr>\n",
       "      <th>2020-01-04</th>\n",
       "      <td>37624.09</td>\n",
       "      <td>36256.48</td>\n",
       "    </tr>\n",
       "    <tr>\n",
       "      <th>2020-01-05</th>\n",
       "      <td>70251.45</td>\n",
       "      <td>71159.73</td>\n",
       "    </tr>\n",
       "    <tr>\n",
       "      <th>...</th>\n",
       "      <td>...</td>\n",
       "      <td>...</td>\n",
       "    </tr>\n",
       "    <tr>\n",
       "      <th>2020-05-28</th>\n",
       "      <td>74045.00</td>\n",
       "      <td>82934.64</td>\n",
       "    </tr>\n",
       "    <tr>\n",
       "      <th>2020-05-29</th>\n",
       "      <td>69713.19</td>\n",
       "      <td>66817.83</td>\n",
       "    </tr>\n",
       "    <tr>\n",
       "      <th>2020-05-30</th>\n",
       "      <td>7382.40</td>\n",
       "      <td>6259.83</td>\n",
       "    </tr>\n",
       "    <tr>\n",
       "      <th>2020-05-31</th>\n",
       "      <td>33006.20</td>\n",
       "      <td>36919.06</td>\n",
       "    </tr>\n",
       "    <tr>\n",
       "      <th>2020-06-01</th>\n",
       "      <td>54977.40</td>\n",
       "      <td>42554.50</td>\n",
       "    </tr>\n",
       "  </tbody>\n",
       "</table>\n",
       "<p>153 rows × 2 columns</p>\n",
       "</div>"
      ],
      "text/plain": [
       "member         False     True \n",
       "visit_date                    \n",
       "2020-01-01  74130.27  72077.21\n",
       "2020-01-02  51163.33  47441.78\n",
       "2020-01-03  23163.06  28997.34\n",
       "2020-01-04  37624.09  36256.48\n",
       "2020-01-05  70251.45  71159.73\n",
       "...              ...       ...\n",
       "2020-05-28  74045.00  82934.64\n",
       "2020-05-29  69713.19  66817.83\n",
       "2020-05-30   7382.40   6259.83\n",
       "2020-05-31  33006.20  36919.06\n",
       "2020-06-01  54977.40  42554.50\n",
       "\n",
       "[153 rows x 2 columns]"
      ]
     },
     "execution_count": 256,
     "metadata": {},
     "output_type": "execute_result"
    }
   ],
   "source": [
    "df[['visit_date', 'order_total', 'member']].groupby([\"visit_date\", \"member\"]).sum().unstack()[\"order_total\"]"
   ]
  },
  {
   "cell_type": "code",
   "execution_count": 8,
   "metadata": {},
   "outputs": [
    {
     "name": "stderr",
     "output_type": "stream",
     "text": [
      "C:\\Users\\kah32\\AppData\\Local\\Temp\\ipykernel_26712\\2584078904.py:10: FutureWarning:\n",
      "\n",
      "The default value of numeric_only in DataFrameGroupBy.mean is deprecated. In a future version, numeric_only will default to False. Either specify numeric_only or select only columns which should be valid for the function.\n",
      "\n"
     ]
    },
    {
     "data": {
      "application/vnd.plotly.v1+json": {
       "config": {
        "plotlyServerURL": "https://plot.ly"
       },
       "data": [
        {
         "hovertemplate": "member_tier=bronze<br>visit_date=%{x}<br>order_total_x=%{y}<extra></extra>",
         "legendgroup": "bronze",
         "line": {
          "color": "#636efa",
          "dash": "solid"
         },
         "marker": {
          "symbol": "circle"
         },
         "mode": "lines",
         "name": "bronze",
         "orientation": "v",
         "showlegend": true,
         "type": "scatter",
         "x": [
          "2020-01-01",
          "2020-01-02",
          "2020-01-03",
          "2020-01-04",
          "2020-01-05",
          "2020-01-06",
          "2020-01-07",
          "2020-01-08",
          "2020-01-09",
          "2020-01-10",
          "2020-01-11",
          "2020-01-12",
          "2020-01-13",
          "2020-01-14",
          "2020-01-15",
          "2020-01-16",
          "2020-01-17",
          "2020-01-18",
          "2020-01-19",
          "2020-01-20",
          "2020-01-21",
          "2020-01-22",
          "2020-01-23",
          "2020-01-24",
          "2020-01-25",
          "2020-01-26",
          "2020-01-27",
          "2020-01-28",
          "2020-01-29",
          "2020-01-30",
          "2020-01-31",
          "2020-02-01",
          "2020-02-02",
          "2020-02-03",
          "2020-02-04",
          "2020-02-05",
          "2020-02-06",
          "2020-02-07",
          "2020-02-08",
          "2020-02-09",
          "2020-02-10",
          "2020-02-11",
          "2020-02-12",
          "2020-02-13",
          "2020-02-14",
          "2020-02-15",
          "2020-02-16",
          "2020-02-17",
          "2020-02-18",
          "2020-02-19",
          "2020-02-20",
          "2020-02-21",
          "2020-02-22",
          "2020-02-23",
          "2020-02-24",
          "2020-02-25",
          "2020-02-26",
          "2020-02-27",
          "2020-02-28",
          "2020-02-29",
          "2020-03-01",
          "2020-03-02",
          "2020-03-03",
          "2020-03-04",
          "2020-03-05",
          "2020-03-06",
          "2020-03-07",
          "2020-03-08",
          "2020-03-09",
          "2020-03-10",
          "2020-03-11",
          "2020-03-12",
          "2020-03-13",
          "2020-03-14",
          "2020-03-15",
          "2020-03-16",
          "2020-03-17",
          "2020-03-18",
          "2020-03-19",
          "2020-03-20",
          "2020-03-21",
          "2020-03-22",
          "2020-03-23",
          "2020-03-24",
          "2020-03-25",
          "2020-03-26",
          "2020-03-27",
          "2020-03-28",
          "2020-03-29",
          "2020-03-30",
          "2020-03-31",
          "2020-04-01",
          "2020-04-02",
          "2020-04-03",
          "2020-04-04",
          "2020-04-05",
          "2020-04-06",
          "2020-04-07",
          "2020-04-08",
          "2020-04-09",
          "2020-04-10",
          "2020-04-11",
          "2020-04-12",
          "2020-04-13",
          "2020-04-14",
          "2020-04-15",
          "2020-04-16",
          "2020-04-17",
          "2020-04-18",
          "2020-04-19",
          "2020-04-20",
          "2020-04-21",
          "2020-04-22",
          "2020-04-23",
          "2020-04-24",
          "2020-04-25",
          "2020-04-26",
          "2020-04-27",
          "2020-04-28",
          "2020-04-29",
          "2020-04-30",
          "2020-05-01",
          "2020-05-02",
          "2020-05-03",
          "2020-05-04",
          "2020-05-05",
          "2020-05-06",
          "2020-05-07",
          "2020-05-08",
          "2020-05-09",
          "2020-05-10",
          "2020-05-11",
          "2020-05-12",
          "2020-05-13",
          "2020-05-14",
          "2020-05-15",
          "2020-05-16",
          "2020-05-17",
          "2020-05-18",
          "2020-05-19",
          "2020-05-20",
          "2020-05-21",
          "2020-05-22",
          "2020-05-23",
          "2020-05-24",
          "2020-05-25",
          "2020-05-26",
          "2020-05-27",
          "2020-05-28",
          "2020-05-29",
          "2020-05-30",
          "2020-05-31",
          "2020-06-01",
          "2020-06-01 00:00:00",
          "2020-06-02 00:00:00",
          "2020-06-03 00:00:00",
          "2020-06-04 00:00:00",
          "2020-06-05 00:00:00",
          "2020-06-06 00:00:00",
          "2020-06-07 00:00:00",
          "2020-06-08 00:00:00",
          "2020-06-09 00:00:00",
          "2020-06-10 00:00:00",
          "2020-06-11 00:00:00",
          "2020-06-12 00:00:00",
          "2020-06-13 00:00:00",
          "2020-06-14 00:00:00",
          "2020-06-15 00:00:00",
          "2020-06-16 00:00:00",
          "2020-06-17 00:00:00",
          "2020-06-18 00:00:00",
          "2020-06-19 00:00:00",
          "2020-06-20 00:00:00",
          "2020-06-21 00:00:00",
          "2020-06-22 00:00:00",
          "2020-06-23 00:00:00",
          "2020-06-24 00:00:00",
          "2020-06-25 00:00:00",
          "2020-06-26 00:00:00",
          "2020-06-27 00:00:00",
          "2020-06-28 00:00:00",
          "2020-06-29 00:00:00",
          "2020-06-30 00:00:00",
          "2020-07-01 00:00:00",
          "2020-07-02 00:00:00",
          "2020-07-03 00:00:00",
          "2020-07-04 00:00:00",
          "2020-07-05 00:00:00",
          "2020-07-06 00:00:00",
          "2020-07-07 00:00:00",
          "2020-07-08 00:00:00",
          "2020-07-09 00:00:00",
          "2020-07-10 00:00:00",
          "2020-07-11 00:00:00",
          "2020-07-12 00:00:00",
          "2020-07-13 00:00:00",
          "2020-07-14 00:00:00",
          "2020-07-15 00:00:00",
          "2020-07-16 00:00:00",
          "2020-07-17 00:00:00",
          "2020-07-18 00:00:00",
          "2020-07-19 00:00:00",
          "2020-07-20 00:00:00",
          "2020-07-21 00:00:00",
          "2020-07-22 00:00:00",
          "2020-07-23 00:00:00"
         ],
         "xaxis": "x",
         "y": [
          172.95690909090908,
          173.26540425531917,
          198.1809375,
          191.7329090909091,
          181.84510928961748,
          191.12108374384238,
          191.68684039087947,
          185.0338888888889,
          195.11795999999998,
          190.42910447761193,
          173.62328125,
          186.96315384615383,
          195.62969014084504,
          200.22263157894736,
          164.5817142857143,
          226.73305194805195,
          190.45282894736843,
          195.24497297297296,
          139.22222222222223,
          188.40515151515154,
          189.0961739130435,
          189.4936404494382,
          212.43102564102563,
          198.5751361867704,
          168.715,
          197.22466386554623,
          173.539609375,
          183.04224669603522,
          184.85069105691056,
          167.21852678571426,
          180.2889502762431,
          191.669385665529,
          168.83994871794872,
          195.8524358974359,
          174.65486652977413,
          222.65818181818182,
          152.46666666666667,
          181.15162162162162,
          196.19854014598542,
          196.57367924528302,
          232.86277777777775,
          194.00403598971724,
          194.16920529801322,
          189.94247191011237,
          271.46500000000003,
          212.82819047619046,
          199.52462222222223,
          208.83382978723407,
          182.55643192488262,
          270.7122727272727,
          237.07333333333335,
          197.93778364116093,
          167.95107142857142,
          187.50075471698113,
          148.306,
          192.8019111111111,
          186.67109589041095,
          179.743893129771,
          187.7736842105263,
          191.565401459854,
          180.08539772727272,
          276.3274193548387,
          41.324,
          182.4704761904762,
          108.53025974025974,
          201.157609561753,
          161.98843137254903,
          184.4575337837838,
          184.0166371681416,
          162.26000000000002,
          195.64170454545456,
          153.4978712871287,
          215.30216101694916,
          195.89505353319058,
          183.25521885521886,
          249.17000000000002,
          137.83166666666668,
          190.98980132450333,
          160.6902057613169,
          218.6925,
          148.80459770114942,
          209.77420560747663,
          260.8826315789473,
          190.95404580152672,
          171.8454085603113,
          179.95576023391814,
          166.24592814371258,
          183.14401515151513,
          188.2318415417559,
          172.74195530726257,
          196.44463917525775,
          193.30373737373736,
          200.2390361445783,
          172.46225287356322,
          159.54639784946238,
          196.9495945945946,
          158.0917365269461,
          187.53842105263158,
          186.4809659090909,
          166.77637231503581,
          184.25657754010697,
          184.28403301886794,
          209.53309523809523,
          168.63112676056338,
          174.79021459227468,
          189.5780745341615,
          198.66143203883493,
          165.1602688172043,
          214.3656509695291,
          191.69902597402597,
          160.81845714285714,
          219.24292857142856,
          183.9047042253521,
          167.39666666666668,
          217.68058823529412,
          121.90818181818182,
          184.7408108108108,
          185.44786096256684,
          162.67503759398497,
          182.2118181818182,
          180.87559701492535,
          174.8072111553785,
          134.87567164179106,
          201.63932432432432,
          176.9684184914842,
          210.03663461538463,
          161.91927392739274,
          212.19539370078738,
          312.50333333333333,
          176.94974921630094,
          178.5255376344086,
          184.89962025316456,
          168.31493333333336,
          283.56529411764706,
          169.4133078880407,
          190.24355555555556,
          172.5332905982906,
          182.37046242774568,
          162.89588516746412,
          190.45029629629627,
          205.01,
          164.60166666666666,
          279.816,
          178.80093301435406,
          209.07407407407408,
          192.59694214876032,
          198.67985714285714,
          183.0543209876543,
          195.2426373626374,
          177.94832278481013,
          194.16410256410256,
          201.71822695035462,
          189.68597285067872,
          135.32958333333332,
          197.78616079494128,
          181.74742187500001,
          198.8628611898017,
          179.68161417322835,
          189.57667202572347,
          178.31730612244897,
          189.49606710158434,
          174.2047502774695,
          181.94457475380483,
          178.07824634655532,
          188.60181985294116,
          181.6953804347826,
          211.11916666666664,
          182.61823008849558,
          189.8310810810811,
          200.50622857142855,
          214.3853781512605,
          220.62179487179486,
          173.96623157894737,
          175.92925,
          183.1123602484472,
          166.92898181818182,
          148.1467857142857,
          180.88,
          191.3998023715415,
          170.35486301369863,
          181.1696885813149,
          214.65066666666667,
          159.82893333333334,
          245.91162790697675,
          180.76141592920354,
          229.57870813397128,
          198.49402061855668,
          188.0330638297872,
          179.10734375,
          223.1231475409836,
          188.5323076923077,
          179.78136612021856,
          201.46853801169593,
          191.82044303797468,
          185.77941747572814,
          157.33418604651163,
          173.34932584269663,
          178.9188679245283,
          174.22278106508875,
          180.79083333333332,
          193.07770700636942,
          185.46856603773585,
          183.8513909774436,
          172.22847290640394,
          157.71914529914528,
          181.19237037037038
         ],
         "yaxis": "y"
        },
        {
         "hovertemplate": "member_tier=silver<br>visit_date=%{x}<br>order_total_x=%{y}<extra></extra>",
         "legendgroup": "silver",
         "line": {
          "color": "#EF553B",
          "dash": "solid"
         },
         "marker": {
          "symbol": "circle"
         },
         "mode": "lines",
         "name": "silver",
         "orientation": "v",
         "showlegend": true,
         "type": "scatter",
         "x": [
          "2020-01-01",
          "2020-01-02",
          "2020-01-03",
          "2020-01-04",
          "2020-01-05",
          "2020-01-06",
          "2020-01-07",
          "2020-01-08",
          "2020-01-09",
          "2020-01-10",
          "2020-01-11",
          "2020-01-12",
          "2020-01-13",
          "2020-01-14",
          "2020-01-15",
          "2020-01-16",
          "2020-01-17",
          "2020-01-18",
          "2020-01-19",
          "2020-01-20",
          "2020-01-21",
          "2020-01-22",
          "2020-01-23",
          "2020-01-24",
          "2020-01-25",
          "2020-01-26",
          "2020-01-27",
          "2020-01-28",
          "2020-01-29",
          "2020-01-30",
          "2020-01-31",
          "2020-02-01",
          "2020-02-02",
          "2020-02-03",
          "2020-02-04",
          "2020-02-05",
          "2020-02-06",
          "2020-02-07",
          "2020-02-08",
          "2020-02-09",
          "2020-02-10",
          "2020-02-11",
          "2020-02-12",
          "2020-02-13",
          "2020-02-14",
          "2020-02-15",
          "2020-02-16",
          "2020-02-17",
          "2020-02-18",
          "2020-02-19",
          "2020-02-20",
          "2020-02-21",
          "2020-02-22",
          "2020-02-23",
          "2020-02-24",
          "2020-02-25",
          "2020-02-26",
          "2020-02-27",
          "2020-02-28",
          "2020-02-29",
          "2020-03-01",
          "2020-03-02",
          "2020-03-03",
          "2020-03-04",
          "2020-03-05",
          "2020-03-06",
          "2020-03-07",
          "2020-03-08",
          "2020-03-09",
          "2020-03-10",
          "2020-03-11",
          "2020-03-12",
          "2020-03-13",
          "2020-03-14",
          "2020-03-15",
          "2020-03-16",
          "2020-03-17",
          "2020-03-18",
          "2020-03-19",
          "2020-03-20",
          "2020-03-21",
          "2020-03-22",
          "2020-03-23",
          "2020-03-24",
          "2020-03-25",
          "2020-03-26",
          "2020-03-27",
          "2020-03-28",
          "2020-03-29",
          "2020-03-30",
          "2020-03-31",
          "2020-04-01",
          "2020-04-02",
          "2020-04-03",
          "2020-04-04",
          "2020-04-05",
          "2020-04-06",
          "2020-04-07",
          "2020-04-08",
          "2020-04-09",
          "2020-04-10",
          "2020-04-11",
          "2020-04-12",
          "2020-04-13",
          "2020-04-14",
          "2020-04-15",
          "2020-04-16",
          "2020-04-17",
          "2020-04-18",
          "2020-04-19",
          "2020-04-20",
          "2020-04-21",
          "2020-04-22",
          "2020-04-23",
          "2020-04-24",
          "2020-04-25",
          "2020-04-26",
          "2020-04-27",
          "2020-04-28",
          "2020-04-29",
          "2020-04-30",
          "2020-05-01",
          "2020-05-02",
          "2020-05-03",
          "2020-05-04",
          "2020-05-05",
          "2020-05-06",
          "2020-05-07",
          "2020-05-08",
          "2020-05-09",
          "2020-05-10",
          "2020-05-11",
          "2020-05-12",
          "2020-05-13",
          "2020-05-14",
          "2020-05-15",
          "2020-05-16",
          "2020-05-17",
          "2020-05-18",
          "2020-05-19",
          "2020-05-20",
          "2020-05-21",
          "2020-05-22",
          "2020-05-23",
          "2020-05-24",
          "2020-05-25",
          "2020-05-26",
          "2020-05-27",
          "2020-05-28",
          "2020-05-29",
          "2020-05-30",
          "2020-05-31",
          "2020-06-01",
          "2020-06-01 00:00:00",
          "2020-06-02 00:00:00",
          "2020-06-03 00:00:00",
          "2020-06-04 00:00:00",
          "2020-06-05 00:00:00",
          "2020-06-06 00:00:00",
          "2020-06-07 00:00:00",
          "2020-06-08 00:00:00",
          "2020-06-09 00:00:00",
          "2020-06-10 00:00:00",
          "2020-06-11 00:00:00",
          "2020-06-12 00:00:00",
          "2020-06-13 00:00:00",
          "2020-06-14 00:00:00",
          "2020-06-15 00:00:00",
          "2020-06-16 00:00:00",
          "2020-06-17 00:00:00",
          "2020-06-18 00:00:00",
          "2020-06-19 00:00:00",
          "2020-06-20 00:00:00",
          "2020-06-21 00:00:00",
          "2020-06-22 00:00:00",
          "2020-06-23 00:00:00",
          "2020-06-24 00:00:00",
          "2020-06-25 00:00:00",
          "2020-06-26 00:00:00",
          "2020-06-27 00:00:00",
          "2020-06-28 00:00:00",
          "2020-06-29 00:00:00",
          "2020-06-30 00:00:00",
          "2020-07-01 00:00:00",
          "2020-07-02 00:00:00",
          "2020-07-03 00:00:00",
          "2020-07-04 00:00:00",
          "2020-07-05 00:00:00",
          "2020-07-06 00:00:00",
          "2020-07-07 00:00:00",
          "2020-07-08 00:00:00",
          "2020-07-09 00:00:00",
          "2020-07-10 00:00:00",
          "2020-07-11 00:00:00",
          "2020-07-12 00:00:00",
          "2020-07-13 00:00:00",
          "2020-07-14 00:00:00",
          "2020-07-15 00:00:00",
          "2020-07-16 00:00:00",
          "2020-07-17 00:00:00",
          "2020-07-18 00:00:00",
          "2020-07-19 00:00:00",
          "2020-07-20 00:00:00",
          "2020-07-21 00:00:00",
          "2020-07-22 00:00:00",
          "2020-07-23 00:00:00"
         ],
         "xaxis": "x",
         "y": [
          225.8510465116279,
          224.14237288135593,
          229.60510869565215,
          226.68042735042735,
          213.62723577235772,
          218.24824561403508,
          193.90125628140703,
          201.84516516516518,
          194.2414367816092,
          222.89896907216496,
          219.12693798449612,
          205.34791443850267,
          207.2563529411765,
          231.06599999999997,
          199.83473309608542,
          202.755350877193,
          244.50045801526718,
          199.00090163934428,
          154.60999999999999,
          234.86692015209127,
          222.58906367041197,
          186.26564784053156,
          190.54033333333334,
          229.32370731707317,
          201.45184501845017,
          210.04189189189188,
          206.6882051282051,
          193.82344213649853,
          227.81275449101798,
          198.3884595300261,
          191.06429078014185,
          207.46615763546797,
          211.8223734177215,
          188.06714285714287,
          203.71105571847508,
          232.66938775510204,
          241.17035294117647,
          155.80175,
          172.3619827586207,
          200.90981651376146,
          193.46499999999997,
          197.931873015873,
          211.8816167664671,
          147.24636363636364,
          147.2424,
          215.58942028985507,
          225.893216374269,
          195.33642857142857,
          240.2395205479452,
          275.5470588235294,
          289.46666666666664,
          225.9644140625,
          138.99291666666667,
          213.1114420062696,
          195.49648648648648,
          234.35750677506775,
          147.16623376623374,
          223.2129126213592,
          224.1303783783784,
          182.81061728395062,
          207.34452755905514,
          246.029,
          174.666,
          142.5812,
          227.46682539682539,
          221.0077848101266,
          222.11916666666667,
          165.04696682464456,
          191.10314606741574,
          215.23912621359224,
          220.85149253731342,
          205.39563953488374,
          205.84265060240963,
          199.1598153846154,
          188.79052380952382,
          270.5767647058824,
          239.9477777777778,
          203.57584615384613,
          213.99115727002967,
          293.03,
          172.76606557377048,
          201.40541176470586,
          304.9371428571428,
          197.4737931034483,
          226.6860479041916,
          231.68237547892718,
          173.01244094488192,
          169.41857142857143,
          237.47090322580644,
          188.70192307692307,
          199.73511904761904,
          207.37912844036697,
          233.91647058823528,
          212.9455555555556,
          250.90082568807338,
          306.54448275862075,
          254.20240384615383,
          184.68166666666664,
          158.8597119341564,
          222.9354746835443,
          195.5741176470588,
          197.39472602739727,
          208.28449999999998,
          238.62020408163264,
          185.76392857142858,
          184.23570093457946,
          205.56755244755246,
          228.21,
          222.098838028169,
          194.70198529411766,
          237.91778625954197,
          205.95738317757008,
          223.2997967479675,
          190.81692307692305,
          307.7657142857143,
          109.045,
          217.78015625,
          191.40668711656443,
          179.745,
          160.01978260869564,
          171.25692307692307,
          210.07327485380117,
          234.8176635514019,
          249.87102564102562,
          191.15648484848484,
          226.4215789473684,
          224.80198275862068,
          221.64991150442478,
          171.28,
          236.10174603174602,
          191.784329004329,
          172.92700854700854,
          206.42000000000002,
          80.71909090909091,
          195.1065714285714,
          215.4424691358025,
          184.86855,
          229.5444520547945,
          191.17539877300612,
          210.97962099125363,
          201.18375,
          225.40909574468088,
          163.632,
          227.51326153846153,
          177.97653846153847,
          210.7068085106383,
          221.21580000000003,
          200.24429411764706,
          224.27089494163425,
          215.39564000000001,
          120.60068965517242,
          222.12934426229506,
          243.73831325301202,
          210.05,
          214.83548088064887,
          228.95942350332592,
          210.02691780821917,
          201.73363344051447,
          216.54745995423343,
          199.9079964850615,
          227.7179766536965,
          203.86566666666667,
          218.87080664294186,
          201.32084057971016,
          239.7283924349882,
          206.42896907216496,
          171.53436507936507,
          205.73327586206898,
          214.42465986394558,
          200.06436823104693,
          200.73617283950617,
          174.61680327868854,
          205.0502808988764,
          235.2204347826087,
          227.3263524590164,
          206.40005154639175,
          119.70333333333332,
          221.65333333333334,
          198.53580459770117,
          223.54650455927052,
          209.3453539823009,
          229.04935064935066,
          228.90084745762712,
          235.67048780487804,
          233.42967391304347,
          226.7051111111111,
          168.962,
          204.69715,
          194.18423728813556,
          239.9110593220339,
          177.3876,
          170.55055555555555,
          209.01886446886448,
          215.88630372492835,
          228.42907894736842,
          257.14888888888885,
          197.82519083969464,
          171.8338775510204,
          221.10310606060605,
          225.37097701149426,
          205.95291044776118,
          227.00663157894738,
          216.07049261083742,
          182.96375,
          196.7345054945055,
          205.34431034482756
         ],
         "yaxis": "y"
        },
        {
         "hovertemplate": "member_tier=gold<br>visit_date=%{x}<br>order_total_x=%{y}<extra></extra>",
         "legendgroup": "gold",
         "line": {
          "color": "#00cc96",
          "dash": "solid"
         },
         "marker": {
          "symbol": "circle"
         },
         "mode": "lines",
         "name": "gold",
         "orientation": "v",
         "showlegend": true,
         "type": "scatter",
         "x": [
          "2020-01-01",
          "2020-01-02",
          "2020-01-03",
          "2020-01-04",
          "2020-01-05",
          "2020-01-06",
          "2020-01-07",
          "2020-01-08",
          "2020-01-09",
          "2020-01-10",
          "2020-01-11",
          "2020-01-12",
          "2020-01-13",
          "2020-01-14",
          "2020-01-15",
          "2020-01-16",
          "2020-01-17",
          "2020-01-18",
          "2020-01-19",
          "2020-01-20",
          "2020-01-21",
          "2020-01-22",
          "2020-01-23",
          "2020-01-24",
          "2020-01-25",
          "2020-01-26",
          "2020-01-27",
          "2020-01-28",
          "2020-01-29",
          "2020-01-30",
          "2020-01-31",
          "2020-02-01",
          "2020-02-02",
          "2020-02-03",
          "2020-02-04",
          "2020-02-05",
          "2020-02-06",
          "2020-02-07",
          "2020-02-08",
          "2020-02-09",
          "2020-02-10",
          "2020-02-11",
          "2020-02-12",
          "2020-02-13",
          "2020-02-14",
          "2020-02-15",
          "2020-02-16",
          "2020-02-17",
          "2020-02-18",
          "2020-02-19",
          "2020-02-20",
          "2020-02-21",
          "2020-02-22",
          "2020-02-23",
          "2020-02-24",
          "2020-02-25",
          "2020-02-26",
          "2020-02-27",
          "2020-02-28",
          "2020-02-29",
          "2020-03-01",
          "2020-03-02",
          "2020-03-03",
          "2020-03-04",
          "2020-03-05",
          "2020-03-06",
          "2020-03-07",
          "2020-03-08",
          "2020-03-09",
          "2020-03-10",
          "2020-03-11",
          "2020-03-12",
          "2020-03-13",
          "2020-03-14",
          "2020-03-15",
          "2020-03-16",
          "2020-03-17",
          "2020-03-18",
          "2020-03-19",
          "2020-03-20",
          "2020-03-21",
          "2020-03-22",
          "2020-03-23",
          "2020-03-24",
          "2020-03-25",
          "2020-03-26",
          "2020-03-27",
          "2020-03-28",
          "2020-03-29",
          "2020-03-30",
          "2020-03-31",
          "2020-04-01",
          "2020-04-02",
          "2020-04-03",
          "2020-04-04",
          "2020-04-05",
          "2020-04-06",
          "2020-04-07",
          "2020-04-08",
          "2020-04-09",
          "2020-04-10",
          "2020-04-11",
          "2020-04-12",
          "2020-04-13",
          "2020-04-14",
          "2020-04-15",
          "2020-04-16",
          "2020-04-17",
          "2020-04-18",
          "2020-04-19",
          "2020-04-20",
          "2020-04-21",
          "2020-04-22",
          "2020-04-23",
          "2020-04-24",
          "2020-04-25",
          "2020-04-26",
          "2020-04-27",
          "2020-04-28",
          "2020-04-29",
          "2020-04-30",
          "2020-05-01",
          "2020-05-02",
          "2020-05-03",
          "2020-05-04",
          "2020-05-05",
          "2020-05-06",
          "2020-05-07",
          "2020-05-08",
          "2020-05-09",
          "2020-05-10",
          "2020-05-11",
          "2020-05-12",
          "2020-05-13",
          "2020-05-14",
          "2020-05-15",
          "2020-05-16",
          "2020-05-17",
          "2020-05-18",
          "2020-05-19",
          "2020-05-20",
          "2020-05-21",
          "2020-05-22",
          "2020-05-23",
          "2020-05-24",
          "2020-05-25",
          "2020-05-26",
          "2020-05-27",
          "2020-05-28",
          "2020-05-29",
          "2020-05-30",
          "2020-05-31",
          "2020-06-01",
          "2020-06-01 00:00:00",
          "2020-06-02 00:00:00",
          "2020-06-03 00:00:00",
          "2020-06-04 00:00:00",
          "2020-06-05 00:00:00",
          "2020-06-06 00:00:00",
          "2020-06-07 00:00:00",
          "2020-06-08 00:00:00",
          "2020-06-09 00:00:00",
          "2020-06-10 00:00:00",
          "2020-06-11 00:00:00",
          "2020-06-12 00:00:00",
          "2020-06-13 00:00:00",
          "2020-06-14 00:00:00",
          "2020-06-15 00:00:00",
          "2020-06-16 00:00:00",
          "2020-06-17 00:00:00",
          "2020-06-18 00:00:00",
          "2020-06-19 00:00:00",
          "2020-06-20 00:00:00",
          "2020-06-21 00:00:00",
          "2020-06-22 00:00:00",
          "2020-06-23 00:00:00",
          "2020-06-24 00:00:00",
          "2020-06-25 00:00:00",
          "2020-06-26 00:00:00",
          "2020-06-27 00:00:00",
          "2020-06-28 00:00:00",
          "2020-06-29 00:00:00",
          "2020-06-30 00:00:00",
          "2020-07-01 00:00:00",
          "2020-07-02 00:00:00",
          "2020-07-03 00:00:00",
          "2020-07-04 00:00:00",
          "2020-07-05 00:00:00",
          "2020-07-06 00:00:00",
          "2020-07-07 00:00:00",
          "2020-07-08 00:00:00",
          "2020-07-09 00:00:00",
          "2020-07-10 00:00:00",
          "2020-07-11 00:00:00",
          "2020-07-12 00:00:00",
          "2020-07-13 00:00:00",
          "2020-07-14 00:00:00",
          "2020-07-15 00:00:00",
          "2020-07-16 00:00:00",
          "2020-07-17 00:00:00",
          "2020-07-18 00:00:00",
          "2020-07-19 00:00:00",
          "2020-07-20 00:00:00",
          "2020-07-21 00:00:00",
          "2020-07-22 00:00:00",
          "2020-07-23 00:00:00"
         ],
         "xaxis": "x",
         "y": [
          187.69927835051544,
          164.1907843137255,
          257.23266666666666,
          193.5481818181818,
          204.7473684210526,
          170.07344827586206,
          178.54326923076923,
          189.52307692307693,
          288.89058823529416,
          220.08410714285714,
          259.68611764705884,
          187.2750769230769,
          214.667816091954,
          491.505,
          263.3601265822785,
          198.74411764705883,
          215.36155555555555,
          249.28434782608696,
          null,
          227.8486111111111,
          229.72844155844157,
          177.10311827956988,
          250.37157894736845,
          180.79000000000002,
          279.22974683544305,
          294.4391836734694,
          248.36516666666665,
          251.32,
          192.19795918367348,
          258.8765137614679,
          270.28588235294114,
          170.1469642857143,
          198.9379518072289,
          236.04628571428574,
          233.92759615384617,
          197.62545454545455,
          175.43142857142857,
          172.76333333333335,
          136.57521739130434,
          227.5868918918919,
          129.116,
          230.3179347826087,
          227.05446428571426,
          148.195,
          229.9111111111111,
          237.12277777777777,
          192.8859649122807,
          167.42249999999999,
          248.04222222222222,
          456.9533333333333,
          158.3725,
          220.96459770114942,
          365.8475,
          228.00953271028038,
          305.5072727272727,
          209.86609523809523,
          173.44789473684213,
          215.28325301204822,
          198.28813559322035,
          249.05190476190478,
          192.2440506329114,
          43.04,
          4.31,
          132.72631578947366,
          93.2795652173913,
          192.29444444444445,
          209.7125,
          237.89690909090908,
          212.9848,
          264.68514285714286,
          297.7031818181818,
          257.6915254237288,
          183.54538461538462,
          203.32494252873565,
          275.39078125,
          184.00294117647059,
          286.6566666666667,
          229.08529411764707,
          192.40927927927927,
          5.01,
          274.32,
          206.2441379310345,
          262.25,
          217.66390243902438,
          184.93148148148146,
          200.9055128205128,
          268.9375,
          255.86555555555555,
          237.01762886597936,
          251.99308510638295,
          225.35314285714284,
          245.3301265822785,
          212.36880952380952,
          233.7886813186813,
          277.6264705882353,
          212.68,
          214.90486486486486,
          227.55333333333334,
          224.3110465116279,
          262.6475490196078,
          208.77326530612243,
          214.26548387096773,
          154.084,
          126.41499999999999,
          218.64672897196263,
          185.9946875,
          246.6087128712871,
          276.44625,
          224.7843137254902,
          301.7312244897959,
          227.45695652173913,
          301.9354285714286,
          216.33860759493672,
          276.3827027027027,
          298.85315789473685,
          null,
          265.61080645161286,
          200.92893617021275,
          223.0955172413793,
          181.41333333333333,
          243.8439393939394,
          251.21350877192984,
          205.433125,
          300.4463636363636,
          245.53606382978722,
          240.72181818181818,
          269.32835820895525,
          251.92873015873016,
          69.25333333333333,
          262.2634210526316,
          166.125,
          183.79162162162163,
          205.73170731707316,
          350.81,
          193.53316666666666,
          238.93073529411765,
          178.96186440677965,
          217.21682352941176,
          266.1147826086957,
          255.73184782608695,
          406.1933333333333,
          221.24967741935484,
          367.72749999999996,
          152.70818181818183,
          221.77560000000003,
          238.56206896551726,
          208.60083333333333,
          219.40725490196078,
          204.56842105263158,
          230.51116883116885,
          103.59636363636363,
          249.41432432432433,
          259.45642857142855,
          202.3061111111111,
          236.89509433962263,
          175.44814371257485,
          257.6529113924051,
          238.7458469945355,
          226.82216216216216,
          216.60424242424241,
          225.58582278481012,
          226.2957894736842,
          220.42749019607845,
          198.22129629629632,
          189.3993220338983,
          222.8043010752688,
          207.64538461538461,
          232.0871844660194,
          233.37602040816324,
          251.8476923076923,
          318.14913043478265,
          287.0836111111111,
          244.019702970297,
          242.0472727272727,
          216.70884057971014,
          257.45578125,
          265.084,
          503.77500000000003,
          242.62966101694914,
          191.53758333333332,
          208.33087500000002,
          227.50930555555556,
          128.850625,
          285.4133333333333,
          202.28761904761905,
          277.4881632653061,
          266.9684,
          177.94511111111112,
          191.27560975609757,
          232.51896103896104,
          218.46439999999998,
          205.95425531914896,
          190.85616279069768,
          196.52513274336283,
          253.8604347826087,
          81.88166666666667,
          192.67949152542374,
          244.59935483870967,
          197.50838709677421,
          162.62384615384616,
          253.53060606060606,
          157.18928571428572,
          225.15153846153848,
          180.99135135135137,
          251.44053571428572,
          203.45862745098037
         ],
         "yaxis": "y"
        }
       ],
       "layout": {
        "legend": {
         "title": {
          "text": "member_tier"
         },
         "tracegroupgap": 0
        },
        "margin": {
         "t": 60
        },
        "template": {
         "data": {
          "bar": [
           {
            "error_x": {
             "color": "#2a3f5f"
            },
            "error_y": {
             "color": "#2a3f5f"
            },
            "marker": {
             "line": {
              "color": "#E5ECF6",
              "width": 0.5
             },
             "pattern": {
              "fillmode": "overlay",
              "size": 10,
              "solidity": 0.2
             }
            },
            "type": "bar"
           }
          ],
          "barpolar": [
           {
            "marker": {
             "line": {
              "color": "#E5ECF6",
              "width": 0.5
             },
             "pattern": {
              "fillmode": "overlay",
              "size": 10,
              "solidity": 0.2
             }
            },
            "type": "barpolar"
           }
          ],
          "carpet": [
           {
            "aaxis": {
             "endlinecolor": "#2a3f5f",
             "gridcolor": "white",
             "linecolor": "white",
             "minorgridcolor": "white",
             "startlinecolor": "#2a3f5f"
            },
            "baxis": {
             "endlinecolor": "#2a3f5f",
             "gridcolor": "white",
             "linecolor": "white",
             "minorgridcolor": "white",
             "startlinecolor": "#2a3f5f"
            },
            "type": "carpet"
           }
          ],
          "choropleth": [
           {
            "colorbar": {
             "outlinewidth": 0,
             "ticks": ""
            },
            "type": "choropleth"
           }
          ],
          "contour": [
           {
            "colorbar": {
             "outlinewidth": 0,
             "ticks": ""
            },
            "colorscale": [
             [
              0,
              "#0d0887"
             ],
             [
              0.1111111111111111,
              "#46039f"
             ],
             [
              0.2222222222222222,
              "#7201a8"
             ],
             [
              0.3333333333333333,
              "#9c179e"
             ],
             [
              0.4444444444444444,
              "#bd3786"
             ],
             [
              0.5555555555555556,
              "#d8576b"
             ],
             [
              0.6666666666666666,
              "#ed7953"
             ],
             [
              0.7777777777777778,
              "#fb9f3a"
             ],
             [
              0.8888888888888888,
              "#fdca26"
             ],
             [
              1,
              "#f0f921"
             ]
            ],
            "type": "contour"
           }
          ],
          "contourcarpet": [
           {
            "colorbar": {
             "outlinewidth": 0,
             "ticks": ""
            },
            "type": "contourcarpet"
           }
          ],
          "heatmap": [
           {
            "colorbar": {
             "outlinewidth": 0,
             "ticks": ""
            },
            "colorscale": [
             [
              0,
              "#0d0887"
             ],
             [
              0.1111111111111111,
              "#46039f"
             ],
             [
              0.2222222222222222,
              "#7201a8"
             ],
             [
              0.3333333333333333,
              "#9c179e"
             ],
             [
              0.4444444444444444,
              "#bd3786"
             ],
             [
              0.5555555555555556,
              "#d8576b"
             ],
             [
              0.6666666666666666,
              "#ed7953"
             ],
             [
              0.7777777777777778,
              "#fb9f3a"
             ],
             [
              0.8888888888888888,
              "#fdca26"
             ],
             [
              1,
              "#f0f921"
             ]
            ],
            "type": "heatmap"
           }
          ],
          "heatmapgl": [
           {
            "colorbar": {
             "outlinewidth": 0,
             "ticks": ""
            },
            "colorscale": [
             [
              0,
              "#0d0887"
             ],
             [
              0.1111111111111111,
              "#46039f"
             ],
             [
              0.2222222222222222,
              "#7201a8"
             ],
             [
              0.3333333333333333,
              "#9c179e"
             ],
             [
              0.4444444444444444,
              "#bd3786"
             ],
             [
              0.5555555555555556,
              "#d8576b"
             ],
             [
              0.6666666666666666,
              "#ed7953"
             ],
             [
              0.7777777777777778,
              "#fb9f3a"
             ],
             [
              0.8888888888888888,
              "#fdca26"
             ],
             [
              1,
              "#f0f921"
             ]
            ],
            "type": "heatmapgl"
           }
          ],
          "histogram": [
           {
            "marker": {
             "pattern": {
              "fillmode": "overlay",
              "size": 10,
              "solidity": 0.2
             }
            },
            "type": "histogram"
           }
          ],
          "histogram2d": [
           {
            "colorbar": {
             "outlinewidth": 0,
             "ticks": ""
            },
            "colorscale": [
             [
              0,
              "#0d0887"
             ],
             [
              0.1111111111111111,
              "#46039f"
             ],
             [
              0.2222222222222222,
              "#7201a8"
             ],
             [
              0.3333333333333333,
              "#9c179e"
             ],
             [
              0.4444444444444444,
              "#bd3786"
             ],
             [
              0.5555555555555556,
              "#d8576b"
             ],
             [
              0.6666666666666666,
              "#ed7953"
             ],
             [
              0.7777777777777778,
              "#fb9f3a"
             ],
             [
              0.8888888888888888,
              "#fdca26"
             ],
             [
              1,
              "#f0f921"
             ]
            ],
            "type": "histogram2d"
           }
          ],
          "histogram2dcontour": [
           {
            "colorbar": {
             "outlinewidth": 0,
             "ticks": ""
            },
            "colorscale": [
             [
              0,
              "#0d0887"
             ],
             [
              0.1111111111111111,
              "#46039f"
             ],
             [
              0.2222222222222222,
              "#7201a8"
             ],
             [
              0.3333333333333333,
              "#9c179e"
             ],
             [
              0.4444444444444444,
              "#bd3786"
             ],
             [
              0.5555555555555556,
              "#d8576b"
             ],
             [
              0.6666666666666666,
              "#ed7953"
             ],
             [
              0.7777777777777778,
              "#fb9f3a"
             ],
             [
              0.8888888888888888,
              "#fdca26"
             ],
             [
              1,
              "#f0f921"
             ]
            ],
            "type": "histogram2dcontour"
           }
          ],
          "mesh3d": [
           {
            "colorbar": {
             "outlinewidth": 0,
             "ticks": ""
            },
            "type": "mesh3d"
           }
          ],
          "parcoords": [
           {
            "line": {
             "colorbar": {
              "outlinewidth": 0,
              "ticks": ""
             }
            },
            "type": "parcoords"
           }
          ],
          "pie": [
           {
            "automargin": true,
            "type": "pie"
           }
          ],
          "scatter": [
           {
            "fillpattern": {
             "fillmode": "overlay",
             "size": 10,
             "solidity": 0.2
            },
            "type": "scatter"
           }
          ],
          "scatter3d": [
           {
            "line": {
             "colorbar": {
              "outlinewidth": 0,
              "ticks": ""
             }
            },
            "marker": {
             "colorbar": {
              "outlinewidth": 0,
              "ticks": ""
             }
            },
            "type": "scatter3d"
           }
          ],
          "scattercarpet": [
           {
            "marker": {
             "colorbar": {
              "outlinewidth": 0,
              "ticks": ""
             }
            },
            "type": "scattercarpet"
           }
          ],
          "scattergeo": [
           {
            "marker": {
             "colorbar": {
              "outlinewidth": 0,
              "ticks": ""
             }
            },
            "type": "scattergeo"
           }
          ],
          "scattergl": [
           {
            "marker": {
             "colorbar": {
              "outlinewidth": 0,
              "ticks": ""
             }
            },
            "type": "scattergl"
           }
          ],
          "scattermapbox": [
           {
            "marker": {
             "colorbar": {
              "outlinewidth": 0,
              "ticks": ""
             }
            },
            "type": "scattermapbox"
           }
          ],
          "scatterpolar": [
           {
            "marker": {
             "colorbar": {
              "outlinewidth": 0,
              "ticks": ""
             }
            },
            "type": "scatterpolar"
           }
          ],
          "scatterpolargl": [
           {
            "marker": {
             "colorbar": {
              "outlinewidth": 0,
              "ticks": ""
             }
            },
            "type": "scatterpolargl"
           }
          ],
          "scatterternary": [
           {
            "marker": {
             "colorbar": {
              "outlinewidth": 0,
              "ticks": ""
             }
            },
            "type": "scatterternary"
           }
          ],
          "surface": [
           {
            "colorbar": {
             "outlinewidth": 0,
             "ticks": ""
            },
            "colorscale": [
             [
              0,
              "#0d0887"
             ],
             [
              0.1111111111111111,
              "#46039f"
             ],
             [
              0.2222222222222222,
              "#7201a8"
             ],
             [
              0.3333333333333333,
              "#9c179e"
             ],
             [
              0.4444444444444444,
              "#bd3786"
             ],
             [
              0.5555555555555556,
              "#d8576b"
             ],
             [
              0.6666666666666666,
              "#ed7953"
             ],
             [
              0.7777777777777778,
              "#fb9f3a"
             ],
             [
              0.8888888888888888,
              "#fdca26"
             ],
             [
              1,
              "#f0f921"
             ]
            ],
            "type": "surface"
           }
          ],
          "table": [
           {
            "cells": {
             "fill": {
              "color": "#EBF0F8"
             },
             "line": {
              "color": "white"
             }
            },
            "header": {
             "fill": {
              "color": "#C8D4E3"
             },
             "line": {
              "color": "white"
             }
            },
            "type": "table"
           }
          ]
         },
         "layout": {
          "annotationdefaults": {
           "arrowcolor": "#2a3f5f",
           "arrowhead": 0,
           "arrowwidth": 1
          },
          "autotypenumbers": "strict",
          "coloraxis": {
           "colorbar": {
            "outlinewidth": 0,
            "ticks": ""
           }
          },
          "colorscale": {
           "diverging": [
            [
             0,
             "#8e0152"
            ],
            [
             0.1,
             "#c51b7d"
            ],
            [
             0.2,
             "#de77ae"
            ],
            [
             0.3,
             "#f1b6da"
            ],
            [
             0.4,
             "#fde0ef"
            ],
            [
             0.5,
             "#f7f7f7"
            ],
            [
             0.6,
             "#e6f5d0"
            ],
            [
             0.7,
             "#b8e186"
            ],
            [
             0.8,
             "#7fbc41"
            ],
            [
             0.9,
             "#4d9221"
            ],
            [
             1,
             "#276419"
            ]
           ],
           "sequential": [
            [
             0,
             "#0d0887"
            ],
            [
             0.1111111111111111,
             "#46039f"
            ],
            [
             0.2222222222222222,
             "#7201a8"
            ],
            [
             0.3333333333333333,
             "#9c179e"
            ],
            [
             0.4444444444444444,
             "#bd3786"
            ],
            [
             0.5555555555555556,
             "#d8576b"
            ],
            [
             0.6666666666666666,
             "#ed7953"
            ],
            [
             0.7777777777777778,
             "#fb9f3a"
            ],
            [
             0.8888888888888888,
             "#fdca26"
            ],
            [
             1,
             "#f0f921"
            ]
           ],
           "sequentialminus": [
            [
             0,
             "#0d0887"
            ],
            [
             0.1111111111111111,
             "#46039f"
            ],
            [
             0.2222222222222222,
             "#7201a8"
            ],
            [
             0.3333333333333333,
             "#9c179e"
            ],
            [
             0.4444444444444444,
             "#bd3786"
            ],
            [
             0.5555555555555556,
             "#d8576b"
            ],
            [
             0.6666666666666666,
             "#ed7953"
            ],
            [
             0.7777777777777778,
             "#fb9f3a"
            ],
            [
             0.8888888888888888,
             "#fdca26"
            ],
            [
             1,
             "#f0f921"
            ]
           ]
          },
          "colorway": [
           "#636efa",
           "#EF553B",
           "#00cc96",
           "#ab63fa",
           "#FFA15A",
           "#19d3f3",
           "#FF6692",
           "#B6E880",
           "#FF97FF",
           "#FECB52"
          ],
          "font": {
           "color": "#2a3f5f"
          },
          "geo": {
           "bgcolor": "white",
           "lakecolor": "white",
           "landcolor": "#E5ECF6",
           "showlakes": true,
           "showland": true,
           "subunitcolor": "white"
          },
          "hoverlabel": {
           "align": "left"
          },
          "hovermode": "closest",
          "mapbox": {
           "style": "light"
          },
          "paper_bgcolor": "white",
          "plot_bgcolor": "#E5ECF6",
          "polar": {
           "angularaxis": {
            "gridcolor": "white",
            "linecolor": "white",
            "ticks": ""
           },
           "bgcolor": "#E5ECF6",
           "radialaxis": {
            "gridcolor": "white",
            "linecolor": "white",
            "ticks": ""
           }
          },
          "scene": {
           "xaxis": {
            "backgroundcolor": "#E5ECF6",
            "gridcolor": "white",
            "gridwidth": 2,
            "linecolor": "white",
            "showbackground": true,
            "ticks": "",
            "zerolinecolor": "white"
           },
           "yaxis": {
            "backgroundcolor": "#E5ECF6",
            "gridcolor": "white",
            "gridwidth": 2,
            "linecolor": "white",
            "showbackground": true,
            "ticks": "",
            "zerolinecolor": "white"
           },
           "zaxis": {
            "backgroundcolor": "#E5ECF6",
            "gridcolor": "white",
            "gridwidth": 2,
            "linecolor": "white",
            "showbackground": true,
            "ticks": "",
            "zerolinecolor": "white"
           }
          },
          "shapedefaults": {
           "line": {
            "color": "#2a3f5f"
           }
          },
          "ternary": {
           "aaxis": {
            "gridcolor": "white",
            "linecolor": "white",
            "ticks": ""
           },
           "baxis": {
            "gridcolor": "white",
            "linecolor": "white",
            "ticks": ""
           },
           "bgcolor": "#E5ECF6",
           "caxis": {
            "gridcolor": "white",
            "linecolor": "white",
            "ticks": ""
           }
          },
          "title": {
           "x": 0.05
          },
          "xaxis": {
           "automargin": true,
           "gridcolor": "white",
           "linecolor": "white",
           "ticks": "",
           "title": {
            "standoff": 15
           },
           "zerolinecolor": "white",
           "zerolinewidth": 2
          },
          "yaxis": {
           "automargin": true,
           "gridcolor": "white",
           "linecolor": "white",
           "ticks": "",
           "title": {
            "standoff": 15
           },
           "zerolinecolor": "white",
           "zerolinewidth": 2
          }
         }
        },
        "xaxis": {
         "anchor": "y",
         "domain": [
          0,
          1
         ],
         "title": {
          "text": "visit_date"
         }
        },
        "yaxis": {
         "anchor": "x",
         "domain": [
          0,
          1
         ],
         "title": {
          "text": "order_total_x"
         }
        }
       }
      }
     },
     "metadata": {},
     "output_type": "display_data"
    }
   ],
   "source": [
    "import plotly.express as px\n",
    "\n",
    "x = df[[\"customer_id\", \"order_total\"]].groupby(\"customer_id\").sum().reset_index()\n",
    "x[\"member_tier\"] = pd.qcut(x[\"order_total\"], [0,0.5, 0.85, 0.95], labels=[\"bronze\", \"silver\", \"gold\"])\n",
    "df1 = df.merge(x, on=\"customer_id\", how=\"left\")\n",
    "\n",
    "\n",
    "\n",
    "px.line(\n",
    "    df1.groupby([\"visit_date\", \"member_tier\"]).mean()[\"order_total_x\"].reset_index(),\n",
    "    x=\"visit_date\",\n",
    "    y=\"order_total_x\",\n",
    "    color=\"member_tier\"\n",
    ")"
   ]
  },
  {
   "cell_type": "code",
   "execution_count": 6,
   "metadata": {},
   "outputs": [
    {
     "name": "stderr",
     "output_type": "stream",
     "text": [
      "C:\\Users\\kah32\\AppData\\Local\\Temp\\ipykernel_28628\\327577345.py:1: FutureWarning:\n",
      "\n",
      "The default value of numeric_only in DataFrameGroupBy.sum is deprecated. In a future version, numeric_only will default to False. Either specify numeric_only or select only columns which should be valid for the function.\n",
      "\n"
     ]
    },
    {
     "data": {
      "text/html": [
       "<div>\n",
       "<style scoped>\n",
       "    .dataframe tbody tr th:only-of-type {\n",
       "        vertical-align: middle;\n",
       "    }\n",
       "\n",
       "    .dataframe tbody tr th {\n",
       "        vertical-align: top;\n",
       "    }\n",
       "\n",
       "    .dataframe thead th {\n",
       "        text-align: right;\n",
       "    }\n",
       "</style>\n",
       "<table border=\"1\" class=\"dataframe\">\n",
       "  <thead>\n",
       "    <tr style=\"text-align: right;\">\n",
       "      <th>member_tier</th>\n",
       "      <th>visit_date</th>\n",
       "      <th>bronze</th>\n",
       "      <th>silver</th>\n",
       "      <th>gold</th>\n",
       "    </tr>\n",
       "  </thead>\n",
       "  <tbody>\n",
       "    <tr>\n",
       "      <th>0</th>\n",
       "      <td>2020-01-01</td>\n",
       "      <td>37492.57</td>\n",
       "      <td>41106.79</td>\n",
       "      <td>67608.12</td>\n",
       "    </tr>\n",
       "    <tr>\n",
       "      <th>1</th>\n",
       "      <td>2020-01-02</td>\n",
       "      <td>29972.69</td>\n",
       "      <td>26254.09</td>\n",
       "      <td>42378.33</td>\n",
       "    </tr>\n",
       "    <tr>\n",
       "      <th>2</th>\n",
       "      <td>2020-01-03</td>\n",
       "      <td>14197.85</td>\n",
       "      <td>11245.42</td>\n",
       "      <td>26717.13</td>\n",
       "    </tr>\n",
       "    <tr>\n",
       "      <th>3</th>\n",
       "      <td>2020-01-04</td>\n",
       "      <td>17143.21</td>\n",
       "      <td>26569.16</td>\n",
       "      <td>30168.20</td>\n",
       "    </tr>\n",
       "    <tr>\n",
       "      <th>4</th>\n",
       "      <td>2020-01-05</td>\n",
       "      <td>39065.40</td>\n",
       "      <td>52148.84</td>\n",
       "      <td>50196.94</td>\n",
       "    </tr>\n",
       "    <tr>\n",
       "      <th>...</th>\n",
       "      <td>...</td>\n",
       "      <td>...</td>\n",
       "      <td>...</td>\n",
       "      <td>...</td>\n",
       "    </tr>\n",
       "    <tr>\n",
       "      <th>201</th>\n",
       "      <td>2020-07-19 00:00:00</td>\n",
       "      <td>34056.95</td>\n",
       "      <td>41186.38</td>\n",
       "      <td>36453.27</td>\n",
       "    </tr>\n",
       "    <tr>\n",
       "      <th>202</th>\n",
       "      <td>2020-07-20 00:00:00</td>\n",
       "      <td>30298.68</td>\n",
       "      <td>35506.50</td>\n",
       "      <td>50979.23</td>\n",
       "    </tr>\n",
       "    <tr>\n",
       "      <th>203</th>\n",
       "      <td>2020-07-21 00:00:00</td>\n",
       "      <td>20728.00</td>\n",
       "      <td>29348.20</td>\n",
       "      <td>31116.81</td>\n",
       "    </tr>\n",
       "    <tr>\n",
       "      <th>204</th>\n",
       "      <td>2020-07-22 00:00:00</td>\n",
       "      <td>21501.40</td>\n",
       "      <td>33374.97</td>\n",
       "      <td>42474.85</td>\n",
       "    </tr>\n",
       "    <tr>\n",
       "      <th>205</th>\n",
       "      <td>2020-07-23 00:00:00</td>\n",
       "      <td>32395.03</td>\n",
       "      <td>41282.27</td>\n",
       "      <td>40549.05</td>\n",
       "    </tr>\n",
       "  </tbody>\n",
       "</table>\n",
       "<p>206 rows × 4 columns</p>\n",
       "</div>"
      ],
      "text/plain": [
       "member_tier           visit_date    bronze    silver      gold\n",
       "0                     2020-01-01  37492.57  41106.79  67608.12\n",
       "1                     2020-01-02  29972.69  26254.09  42378.33\n",
       "2                     2020-01-03  14197.85  11245.42  26717.13\n",
       "3                     2020-01-04  17143.21  26569.16  30168.20\n",
       "4                     2020-01-05  39065.40  52148.84  50196.94\n",
       "..                           ...       ...       ...       ...\n",
       "201          2020-07-19 00:00:00  34056.95  41186.38  36453.27\n",
       "202          2020-07-20 00:00:00  30298.68  35506.50  50979.23\n",
       "203          2020-07-21 00:00:00  20728.00  29348.20  31116.81\n",
       "204          2020-07-22 00:00:00  21501.40  33374.97  42474.85\n",
       "205          2020-07-23 00:00:00  32395.03  41282.27  40549.05\n",
       "\n",
       "[206 rows x 4 columns]"
      ]
     },
     "execution_count": 6,
     "metadata": {},
     "output_type": "execute_result"
    }
   ],
   "source": [
    "data = df1.groupby([\"visit_date\", \"member_tier\"]).sum()[\"order_total_x\"].to_frame().unstack()[\"order_total_x\"].reset_index()\n",
    "data"
   ]
  }
 ],
 "metadata": {
  "kernelspec": {
   "display_name": "faker",
   "language": "python",
   "name": "python3"
  },
  "language_info": {
   "codemirror_mode": {
    "name": "ipython",
    "version": 3
   },
   "file_extension": ".py",
   "mimetype": "text/x-python",
   "name": "python",
   "nbconvert_exporter": "python",
   "pygments_lexer": "ipython3",
   "version": "3.10.9"
  },
  "orig_nbformat": 4,
  "vscode": {
   "interpreter": {
    "hash": "9a4f3479c9598e5863976712972083c5957fb483a3a2393880d44ccc5a572475"
   }
  }
 },
 "nbformat": 4,
 "nbformat_minor": 2
}
